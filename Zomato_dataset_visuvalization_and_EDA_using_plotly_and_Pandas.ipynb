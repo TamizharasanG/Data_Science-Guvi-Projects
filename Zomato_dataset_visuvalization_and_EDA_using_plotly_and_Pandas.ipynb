{
  "cells": [
    {
      "cell_type": "markdown",
      "metadata": {
        "id": "view-in-github",
        "colab_type": "text"
      },
      "source": [
        "<a href=\"https://colab.research.google.com/github/TamizharasanG/Guvi_Tasks/blob/main/Zomato_dataset_visuvalization_and_EDA_using_plotly_and_Pandas.ipynb\" target=\"_parent\"><img src=\"https://colab.research.google.com/assets/colab-badge.svg\" alt=\"Open In Colab\"/></a>"
      ]
    },
    {
      "cell_type": "markdown",
      "metadata": {
        "id": "8ejvHVq1Qw2E"
      },
      "source": [
        " **Packages instalation**"
      ]
    },
    {
      "cell_type": "code",
      "execution_count": null,
      "metadata": {
        "id": "YAwl0gc1Qm_7"
      },
      "outputs": [],
      "source": [
        "!pip install countryinfo\n",
        "!pip install easy-exchange-rates \n",
        "!pip install geopy  \n",
        "!pip install pycountry\n",
        "!pip install jupyter_dash\n",
        "#!pip install dash\n",
        "!pip install dash_bootstrap_templates"
      ]
    },
    {
      "cell_type": "code",
      "execution_count": null,
      "metadata": {
        "id": "CMaHswuTPO9B"
      },
      "outputs": [],
      "source": [
        "import pandas as pd                           #----> used for data exploration and manipulation\n",
        "import plotly.express as px                   #----> used for creating the intractive charts\n",
        "import seaborn as sns                         #----> used for creating charts \n",
        "from countryinfo import CountryInfo           #----> used to find the details of the country, state , city and whole address with latitude and longitude\n",
        "import numpy as np                            #----> data manipulation tool\n",
        "import  datetime                              #----> used to fetch the current date and also used in keeping the time intervals\n",
        "import json                                   #----> used to load and dump the json to other file formats\n",
        "import matplotlib.pyplot as plt               #----> used for basic visuvalization\n",
        "from plotly.subplots import make_subplots     #----> used in making subplots in plotly\n",
        "import plotly.graph_objects as go             #----> used for building the more customized and intractive dashboards."
      ]
    },
    {
      "cell_type": "markdown",
      "metadata": {
        "id": "pwFlt3gNQ8Dg"
      },
      "source": [
        "\n",
        "# **Part 1 : With full explination of each steps**\n",
        "---\n",
        "\n",
        "***Data Exploration***"
      ]
    },
    {
      "cell_type": "code",
      "execution_count": null,
      "metadata": {
        "id": "xC4n3vnwhdlZ"
      },
      "outputs": [],
      "source": [
        "data = pd.read_csv(\"https://raw.githubusercontent.com/nethajinirmal13/Training-datasets/main/zomato/zomato.csv\")"
      ]
    },
    {
      "cell_type": "code",
      "execution_count": null,
      "metadata": {
        "id": "GTfnNeYcQpTb"
      },
      "outputs": [],
      "source": [
        "data.head()"
      ]
    },
    {
      "cell_type": "code",
      "execution_count": null,
      "metadata": {
        "id": "tpOLBzqrRCXa"
      },
      "outputs": [],
      "source": [
        "data.shape"
      ]
    },
    {
      "cell_type": "code",
      "execution_count": null,
      "metadata": {
        "id": "ocAmEFWuQv3N"
      },
      "outputs": [],
      "source": [
        "sns.heatmap(data.isnull())"
      ]
    },
    {
      "cell_type": "code",
      "execution_count": null,
      "metadata": {
        "id": "zJMwJtbAfaZ1"
      },
      "outputs": [],
      "source": [
        "data.isnull().sum()"
      ]
    },
    {
      "cell_type": "code",
      "execution_count": null,
      "metadata": {
        "id": "hpKyEnoZRtuu"
      },
      "outputs": [],
      "source": [
        "data.columns"
      ]
    },
    {
      "cell_type": "code",
      "execution_count": null,
      "metadata": {
        "id": "hBdCOD3xhdlg"
      },
      "outputs": [],
      "source": [
        "data[\"Country Code\"].unique()"
      ]
    },
    {
      "cell_type": "markdown",
      "metadata": {
        "id": "VFimYT_KOJ8T"
      },
      "source": [
        " TASK 1: DATA ENGINEERING\n",
        "\n",
        "---\n",
        "\n",
        "\n",
        " **1. Add a column with rupees as the currency **\n",
        "\n",
        "---\n",
        "\n",
        "\n"
      ]
    },
    {
      "cell_type": "markdown",
      "metadata": {
        "id": "qgQDNG8kOh-j"
      },
      "source": [
        "**Adding country name to each rows with respect to the country code**\n",
        "\n",
        "---\n",
        "\n"
      ]
    },
    {
      "cell_type": "code",
      "execution_count": null,
      "metadata": {
        "id": "DNLM6WloR18c"
      },
      "outputs": [],
      "source": [
        "country_name = {1 : \"India\",\n",
        "                14 : \"Australia\",\n",
        "                30 : \"Brazil\",\n",
        "                37 : \"Canada\",\n",
        "                94 : \"Indonesia\",\n",
        "                148 : \"New Zealand\",\n",
        "                162 : \"Phillipines\",\n",
        "                166 : \"Qatar\",\n",
        "                184 : \"Singapore\",\n",
        "                189 : \"South Africa\",\n",
        "                191 : \"Sri Lanka\",\n",
        "                208 : \"Turkey\",\n",
        "                214 : \"UAE\",\n",
        "                215 : \"United Kingdom\",\n",
        "                216 : \"United States\"}"
      ]
    },
    {
      "cell_type": "code",
      "execution_count": null,
      "metadata": {
        "id": "__fQPIZGQ3qY"
      },
      "outputs": [],
      "source": [
        "Country_Name= data[\"Country Code\"].map(country_name)"
      ]
    },
    {
      "cell_type": "code",
      "execution_count": null,
      "metadata": {
        "id": "7hvOk6K9k9BZ"
      },
      "outputs": [],
      "source": [
        "data.head()"
      ]
    },
    {
      "cell_type": "code",
      "execution_count": null,
      "metadata": {
        "id": "5XJZ9GGHSsrA"
      },
      "outputs": [],
      "source": [
        "# Adding the country name with respect to the country code\n",
        "data.insert(3, \"Country Name\",Country_Name )"
      ]
    },
    {
      "cell_type": "code",
      "execution_count": null,
      "metadata": {
        "colab": {
          "base_uri": "https://localhost:8080/"
        },
        "id": "RLB17ut_dBgQ",
        "outputId": "4fcdd2bb-657d-4852-baa8-2bc0208df3a5"
      },
      "outputs": [
        {
          "output_type": "execute_result",
          "data": {
            "text/plain": [
              "Index(['Restaurant ID', 'Restaurant Name', 'Country Code', 'Country Name',\n",
              "       'City', 'Address', 'Locality', 'Locality Verbose', 'Longitude',\n",
              "       'Latitude', 'Cuisines', 'Average Cost for two', 'Currency',\n",
              "       'Has Table booking', 'Has Online delivery', 'Is delivering now',\n",
              "       'Switch to order menu', 'Price range', 'Aggregate rating',\n",
              "       'Rating color', 'Rating text', 'Votes'],\n",
              "      dtype='object')"
            ]
          },
          "metadata": {},
          "execution_count": 14
        }
      ],
      "source": [
        "data.columns"
      ]
    },
    {
      "cell_type": "markdown",
      "metadata": {
        "id": "LgYGukMYRliA"
      },
      "source": [
        "****FINDING THE CURRENCY CODE FOR EACH COUNTRY****\n",
        "\n",
        "---\n",
        "\n",
        "PACKAGE USED : countryinfo\n"
      ]
    },
    {
      "cell_type": "code",
      "execution_count": null,
      "metadata": {
        "id": "ojVzHHRgmROo"
      },
      "outputs": [],
      "source": [
        "name = ['Brazil','United States', 'Australia', 'Canada', 'Singapore',\"South Africa\", 'UAE', 'India', 'Indonesia', 'New Zealand', 'United Kingdom','Qatar', 'Sri Lanka', 'Turkey']\n",
        "a = []\n",
        "for i in name:\n",
        "  currencies = CountryInfo(i).currencies()\n",
        "  a.append(currencies[0])"
      ]
    },
    {
      "cell_type": "code",
      "execution_count": null,
      "metadata": {
        "id": "8b4nY_GKmUo7"
      },
      "outputs": [],
      "source": [
        "a.insert(0, \"PHP\")"
      ]
    },
    {
      "cell_type": "markdown",
      "metadata": {
        "id": "nO_wvxZkR215"
      },
      "source": [
        "*** FINDING THE INDIAN RUPEE WITH RESPECT TO THE FOREIGN COUNTRY CURRENCY***\n",
        "\n",
        "---\n",
        "\n",
        "PACKAGE USED : easy-exchange-rates"
      ]
    },
    {
      "cell_type": "code",
      "execution_count": null,
      "metadata": {
        "id": "Cn19Qy4WgUSK"
      },
      "outputs": [],
      "source": [
        "from easy_exchange_rates import API\n",
        "api = API()\n",
        "df1 = pd.DataFrame([])\n",
        "ind_val = {}\n",
        "x = datetime.date.today()\n",
        "y = str(x)\n",
        "for i in a:\n",
        "  time_series = api.get_exchange_rates(\n",
        "    base_currency=i,\n",
        "    start_date =y ,\n",
        "    end_date = y, \n",
        "    targets=[\"INR\"]\n",
        "  )\n",
        "  \n",
        "  \n",
        "  df = api.to_dataframe(time_series)\n",
        "  df1 = pd.concat([df1, df])"
      ]
    },
    {
      "cell_type": "code",
      "execution_count": null,
      "metadata": {
        "id": "FdVwNdfK3OPK"
      },
      "outputs": [],
      "source": [
        "df1[\"Currency code\"] = a\n",
        "country_name = [ \"Phillipines\",\n",
        "                'Brazil','United States',\n",
        "                'Australia',\n",
        "                'Canada',\n",
        "                'Singapore',\n",
        "                \"South Africa\",\n",
        "                'UAE',\n",
        "                'India',\n",
        "                'Indonesia',\n",
        "                'New Zealand',\n",
        "                'United Kingdom',\n",
        "                'Qatar',\n",
        "                'Sri Lanka',\n",
        "                'Turkey']\n",
        "df1[\"Country name\"] = country_name\n",
        "df1.columns = [\"INR value\", \"Currency code\", \"Country name\"]\n",
        "df1 = df1.sort_values(by = \"INR value\", ascending = True)"
      ]
    },
    {
      "cell_type": "markdown",
      "metadata": {
        "id": "ulqNKthbRPrd"
      },
      "source": [
        "**Adding column with equalent indian rupee in all datas**\n",
        "\n",
        "---\n",
        "\n"
      ]
    },
    {
      "cell_type": "code",
      "execution_count": null,
      "metadata": {
        "id": "VteeZd3fRNgC"
      },
      "outputs": [],
      "source": [
        "x = np.array(df1[\"Country name\"]).reshape(-1, 1).flatten()# - Counntry name\n",
        "y = np.array(df1[\"INR value\"]).reshape(-1, 1).flatten()# - Currency value"
      ]
    },
    {
      "cell_type": "code",
      "execution_count": null,
      "metadata": {
        "id": "Lg0n6wetZCjJ"
      },
      "outputs": [],
      "source": [
        "xy_zip = zip(x, y)\n",
        "inr_val = {}\n",
        "for i in xy_zip:\n",
        "  inr_val[i[0]] = i[1]"
      ]
    },
    {
      "cell_type": "code",
      "execution_count": null,
      "metadata": {
        "id": "xzqpczWkZnm2"
      },
      "outputs": [],
      "source": [
        "inr_value = data[\"Country Name\"].map(inr_val)\n",
        "data.insert(13, \"INR Value for currency\", inr_value)\n",
        "avg_c_inr = data[\"Average Cost for two\"] * data[\"INR Value for currency\"]\n",
        "data.insert(14, \"Average cost  in INR\", avg_c_inr)\n",
        "#Rounding up to 2 decimal\n",
        "data[\"Average cost  in INR\"] = data[\"Average cost  in INR\"].apply(lambda x:round(x, 2))"
      ]
    },
    {
      "cell_type": "markdown",
      "metadata": {
        "id": "t4ySDD42UXAC"
      },
      "source": [
        " **TASK 1: DATA ENGINEERING**\n",
        "\n",
        "\n",
        "---\n",
        "\n",
        "\n",
        " **2 .Bring out a plot that compares indian currency with other country’s currency**\n",
        "\n",
        "\n"
      ]
    },
    {
      "cell_type": "code",
      "execution_count": null,
      "metadata": {
        "colab": {
          "base_uri": "https://localhost:8080/",
          "height": 542
        },
        "id": "JayVRHMtiIFF",
        "outputId": "928ca6b2-b4b9-4e83-ad45-d0e81f968b4a"
      },
      "outputs": [
        {
          "output_type": "display_data",
          "data": {
            "text/html": [
              "<html>\n",
              "<head><meta charset=\"utf-8\" /></head>\n",
              "<body>\n",
              "    <div>            <script src=\"https://cdnjs.cloudflare.com/ajax/libs/mathjax/2.7.5/MathJax.js?config=TeX-AMS-MML_SVG\"></script><script type=\"text/javascript\">if (window.MathJax) {MathJax.Hub.Config({SVG: {font: \"STIX-Web\"}});}</script>                <script type=\"text/javascript\">window.PlotlyConfig = {MathJaxConfig: 'local'};</script>\n",
              "        <script src=\"https://cdn.plot.ly/plotly-2.8.3.min.js\"></script>                <div id=\"fcd3cff5-d0a6-4c00-9c66-ffd4129f87ff\" class=\"plotly-graph-div\" style=\"height:525px; width:100%;\"></div>            <script type=\"text/javascript\">                                    window.PLOTLYENV=window.PLOTLYENV || {};                                    if (document.getElementById(\"fcd3cff5-d0a6-4c00-9c66-ffd4129f87ff\")) {                    Plotly.newPlot(                        \"fcd3cff5-d0a6-4c00-9c66-ffd4129f87ff\",                        [{\"hovertemplate\":\"Country name=%{y}<br>INR value=%{x}<extra></extra>\",\"legendgroup\":\"Indonesia\",\"marker\":{\"color\":\"#636efa\"},\"name\":\"Indonesia\",\"orientation\":\"h\",\"showlegend\":true,\"x\":[0.005445],\"xaxis\":\"x\",\"y\":[\"Indonesia\"],\"yaxis\":\"y\",\"type\":\"funnel\"},{\"hovertemplate\":\"Country name=%{y}<br>INR value=%{x}<extra></extra>\",\"legendgroup\":\"Sri Lanka\",\"marker\":{\"color\":\"#EF553B\"},\"name\":\"Sri Lanka\",\"orientation\":\"h\",\"showlegend\":true,\"x\":[0.224797],\"xaxis\":\"x\",\"y\":[\"Sri Lanka\"],\"yaxis\":\"y\",\"type\":\"funnel\"},{\"hovertemplate\":\"Country name=%{y}<br>INR value=%{x}<extra></extra>\",\"legendgroup\":\"India\",\"marker\":{\"color\":\"#00cc96\"},\"name\":\"India\",\"orientation\":\"h\",\"showlegend\":true,\"x\":[1.0],\"xaxis\":\"x\",\"y\":[\"India\"],\"yaxis\":\"y\",\"type\":\"funnel\"},{\"hovertemplate\":\"Country name=%{y}<br>INR value=%{x}<extra></extra>\",\"legendgroup\":\"Phillipines\",\"marker\":{\"color\":\"#ab63fa\"},\"name\":\"Phillipines\",\"orientation\":\"h\",\"showlegend\":true,\"x\":[1.49365],\"xaxis\":\"x\",\"y\":[\"Phillipines\"],\"yaxis\":\"y\",\"type\":\"funnel\"},{\"hovertemplate\":\"Country name=%{y}<br>INR value=%{x}<extra></extra>\",\"legendgroup\":\"Turkey\",\"marker\":{\"color\":\"#FFA15A\"},\"name\":\"Turkey\",\"orientation\":\"h\",\"showlegend\":true,\"x\":[4.33944],\"xaxis\":\"x\",\"y\":[\"Turkey\"],\"yaxis\":\"y\",\"type\":\"funnel\"},{\"hovertemplate\":\"Country name=%{y}<br>INR value=%{x}<extra></extra>\",\"legendgroup\":\"South Africa\",\"marker\":{\"color\":\"#19d3f3\"},\"name\":\"South Africa\",\"orientation\":\"h\",\"showlegend\":true,\"x\":[4.74825],\"xaxis\":\"x\",\"y\":[\"South Africa\"],\"yaxis\":\"y\",\"type\":\"funnel\"},{\"hovertemplate\":\"Country name=%{y}<br>INR value=%{x}<extra></extra>\",\"legendgroup\":\"Brazil\",\"marker\":{\"color\":\"#FF6692\"},\"name\":\"Brazil\",\"orientation\":\"h\",\"showlegend\":true,\"x\":[15.87901],\"xaxis\":\"x\",\"y\":[\"Brazil\"],\"yaxis\":\"y\",\"type\":\"funnel\"},{\"hovertemplate\":\"Country name=%{y}<br>INR value=%{x}<extra></extra>\",\"legendgroup\":\"UAE\",\"marker\":{\"color\":\"#B6E880\"},\"name\":\"UAE\",\"orientation\":\"h\",\"showlegend\":true,\"x\":[22.218416],\"xaxis\":\"x\",\"y\":[\"UAE\"],\"yaxis\":\"y\",\"type\":\"funnel\"},{\"hovertemplate\":\"Country name=%{y}<br>INR value=%{x}<extra></extra>\",\"legendgroup\":\"Qatar\",\"marker\":{\"color\":\"#FF97FF\"},\"name\":\"Qatar\",\"orientation\":\"h\",\"showlegend\":true,\"x\":[22.392211],\"xaxis\":\"x\",\"y\":[\"Qatar\"],\"yaxis\":\"y\",\"type\":\"funnel\"},{\"hovertemplate\":\"Country name=%{y}<br>INR value=%{x}<extra></extra>\",\"legendgroup\":\"New Zealand\",\"marker\":{\"color\":\"#FECB52\"},\"name\":\"New Zealand\",\"orientation\":\"h\",\"showlegend\":true,\"x\":[52.941971],\"xaxis\":\"x\",\"y\":[\"New Zealand\"],\"yaxis\":\"y\",\"type\":\"funnel\"},{\"hovertemplate\":\"Country name=%{y}<br>INR value=%{x}<extra></extra>\",\"legendgroup\":\"Australia\",\"marker\":{\"color\":\"#636efa\"},\"name\":\"Australia\",\"orientation\":\"h\",\"showlegend\":true,\"x\":[57.926141],\"xaxis\":\"x\",\"y\":[\"Australia\"],\"yaxis\":\"y\",\"type\":\"funnel\"},{\"hovertemplate\":\"Country name=%{y}<br>INR value=%{x}<extra></extra>\",\"legendgroup\":\"Canada\",\"marker\":{\"color\":\"#EF553B\"},\"name\":\"Canada\",\"orientation\":\"h\",\"showlegend\":true,\"x\":[61.08005],\"xaxis\":\"x\",\"y\":[\"Canada\"],\"yaxis\":\"y\",\"type\":\"funnel\"},{\"hovertemplate\":\"Country name=%{y}<br>INR value=%{x}<extra></extra>\",\"legendgroup\":\"Singapore\",\"marker\":{\"color\":\"#00cc96\"},\"name\":\"Singapore\",\"orientation\":\"h\",\"showlegend\":true,\"x\":[61.957047],\"xaxis\":\"x\",\"y\":[\"Singapore\"],\"yaxis\":\"y\",\"type\":\"funnel\"},{\"hovertemplate\":\"Country name=%{y}<br>INR value=%{x}<extra></extra>\",\"legendgroup\":\"United States\",\"marker\":{\"color\":\"#ab63fa\"},\"name\":\"United States\",\"orientation\":\"h\",\"showlegend\":true,\"x\":[81.572313],\"xaxis\":\"x\",\"y\":[\"United States\"],\"yaxis\":\"y\",\"type\":\"funnel\"},{\"hovertemplate\":\"Country name=%{y}<br>INR value=%{x}<extra></extra>\",\"legendgroup\":\"United Kingdom\",\"marker\":{\"color\":\"#FFA15A\"},\"name\":\"United Kingdom\",\"orientation\":\"h\",\"showlegend\":true,\"x\":[100.51059],\"xaxis\":\"x\",\"y\":[\"United Kingdom\"],\"yaxis\":\"y\",\"type\":\"funnel\"}],                        {\"template\":{\"data\":{\"bar\":[{\"error_x\":{\"color\":\"#2a3f5f\"},\"error_y\":{\"color\":\"#2a3f5f\"},\"marker\":{\"line\":{\"color\":\"#E5ECF6\",\"width\":0.5},\"pattern\":{\"fillmode\":\"overlay\",\"size\":10,\"solidity\":0.2}},\"type\":\"bar\"}],\"barpolar\":[{\"marker\":{\"line\":{\"color\":\"#E5ECF6\",\"width\":0.5},\"pattern\":{\"fillmode\":\"overlay\",\"size\":10,\"solidity\":0.2}},\"type\":\"barpolar\"}],\"carpet\":[{\"aaxis\":{\"endlinecolor\":\"#2a3f5f\",\"gridcolor\":\"white\",\"linecolor\":\"white\",\"minorgridcolor\":\"white\",\"startlinecolor\":\"#2a3f5f\"},\"baxis\":{\"endlinecolor\":\"#2a3f5f\",\"gridcolor\":\"white\",\"linecolor\":\"white\",\"minorgridcolor\":\"white\",\"startlinecolor\":\"#2a3f5f\"},\"type\":\"carpet\"}],\"choropleth\":[{\"colorbar\":{\"outlinewidth\":0,\"ticks\":\"\"},\"type\":\"choropleth\"}],\"contour\":[{\"colorbar\":{\"outlinewidth\":0,\"ticks\":\"\"},\"colorscale\":[[0.0,\"#0d0887\"],[0.1111111111111111,\"#46039f\"],[0.2222222222222222,\"#7201a8\"],[0.3333333333333333,\"#9c179e\"],[0.4444444444444444,\"#bd3786\"],[0.5555555555555556,\"#d8576b\"],[0.6666666666666666,\"#ed7953\"],[0.7777777777777778,\"#fb9f3a\"],[0.8888888888888888,\"#fdca26\"],[1.0,\"#f0f921\"]],\"type\":\"contour\"}],\"contourcarpet\":[{\"colorbar\":{\"outlinewidth\":0,\"ticks\":\"\"},\"type\":\"contourcarpet\"}],\"heatmap\":[{\"colorbar\":{\"outlinewidth\":0,\"ticks\":\"\"},\"colorscale\":[[0.0,\"#0d0887\"],[0.1111111111111111,\"#46039f\"],[0.2222222222222222,\"#7201a8\"],[0.3333333333333333,\"#9c179e\"],[0.4444444444444444,\"#bd3786\"],[0.5555555555555556,\"#d8576b\"],[0.6666666666666666,\"#ed7953\"],[0.7777777777777778,\"#fb9f3a\"],[0.8888888888888888,\"#fdca26\"],[1.0,\"#f0f921\"]],\"type\":\"heatmap\"}],\"heatmapgl\":[{\"colorbar\":{\"outlinewidth\":0,\"ticks\":\"\"},\"colorscale\":[[0.0,\"#0d0887\"],[0.1111111111111111,\"#46039f\"],[0.2222222222222222,\"#7201a8\"],[0.3333333333333333,\"#9c179e\"],[0.4444444444444444,\"#bd3786\"],[0.5555555555555556,\"#d8576b\"],[0.6666666666666666,\"#ed7953\"],[0.7777777777777778,\"#fb9f3a\"],[0.8888888888888888,\"#fdca26\"],[1.0,\"#f0f921\"]],\"type\":\"heatmapgl\"}],\"histogram\":[{\"marker\":{\"pattern\":{\"fillmode\":\"overlay\",\"size\":10,\"solidity\":0.2}},\"type\":\"histogram\"}],\"histogram2d\":[{\"colorbar\":{\"outlinewidth\":0,\"ticks\":\"\"},\"colorscale\":[[0.0,\"#0d0887\"],[0.1111111111111111,\"#46039f\"],[0.2222222222222222,\"#7201a8\"],[0.3333333333333333,\"#9c179e\"],[0.4444444444444444,\"#bd3786\"],[0.5555555555555556,\"#d8576b\"],[0.6666666666666666,\"#ed7953\"],[0.7777777777777778,\"#fb9f3a\"],[0.8888888888888888,\"#fdca26\"],[1.0,\"#f0f921\"]],\"type\":\"histogram2d\"}],\"histogram2dcontour\":[{\"colorbar\":{\"outlinewidth\":0,\"ticks\":\"\"},\"colorscale\":[[0.0,\"#0d0887\"],[0.1111111111111111,\"#46039f\"],[0.2222222222222222,\"#7201a8\"],[0.3333333333333333,\"#9c179e\"],[0.4444444444444444,\"#bd3786\"],[0.5555555555555556,\"#d8576b\"],[0.6666666666666666,\"#ed7953\"],[0.7777777777777778,\"#fb9f3a\"],[0.8888888888888888,\"#fdca26\"],[1.0,\"#f0f921\"]],\"type\":\"histogram2dcontour\"}],\"mesh3d\":[{\"colorbar\":{\"outlinewidth\":0,\"ticks\":\"\"},\"type\":\"mesh3d\"}],\"parcoords\":[{\"line\":{\"colorbar\":{\"outlinewidth\":0,\"ticks\":\"\"}},\"type\":\"parcoords\"}],\"pie\":[{\"automargin\":true,\"type\":\"pie\"}],\"scatter\":[{\"marker\":{\"colorbar\":{\"outlinewidth\":0,\"ticks\":\"\"}},\"type\":\"scatter\"}],\"scatter3d\":[{\"line\":{\"colorbar\":{\"outlinewidth\":0,\"ticks\":\"\"}},\"marker\":{\"colorbar\":{\"outlinewidth\":0,\"ticks\":\"\"}},\"type\":\"scatter3d\"}],\"scattercarpet\":[{\"marker\":{\"colorbar\":{\"outlinewidth\":0,\"ticks\":\"\"}},\"type\":\"scattercarpet\"}],\"scattergeo\":[{\"marker\":{\"colorbar\":{\"outlinewidth\":0,\"ticks\":\"\"}},\"type\":\"scattergeo\"}],\"scattergl\":[{\"marker\":{\"colorbar\":{\"outlinewidth\":0,\"ticks\":\"\"}},\"type\":\"scattergl\"}],\"scattermapbox\":[{\"marker\":{\"colorbar\":{\"outlinewidth\":0,\"ticks\":\"\"}},\"type\":\"scattermapbox\"}],\"scatterpolar\":[{\"marker\":{\"colorbar\":{\"outlinewidth\":0,\"ticks\":\"\"}},\"type\":\"scatterpolar\"}],\"scatterpolargl\":[{\"marker\":{\"colorbar\":{\"outlinewidth\":0,\"ticks\":\"\"}},\"type\":\"scatterpolargl\"}],\"scatterternary\":[{\"marker\":{\"colorbar\":{\"outlinewidth\":0,\"ticks\":\"\"}},\"type\":\"scatterternary\"}],\"surface\":[{\"colorbar\":{\"outlinewidth\":0,\"ticks\":\"\"},\"colorscale\":[[0.0,\"#0d0887\"],[0.1111111111111111,\"#46039f\"],[0.2222222222222222,\"#7201a8\"],[0.3333333333333333,\"#9c179e\"],[0.4444444444444444,\"#bd3786\"],[0.5555555555555556,\"#d8576b\"],[0.6666666666666666,\"#ed7953\"],[0.7777777777777778,\"#fb9f3a\"],[0.8888888888888888,\"#fdca26\"],[1.0,\"#f0f921\"]],\"type\":\"surface\"}],\"table\":[{\"cells\":{\"fill\":{\"color\":\"#EBF0F8\"},\"line\":{\"color\":\"white\"}},\"header\":{\"fill\":{\"color\":\"#C8D4E3\"},\"line\":{\"color\":\"white\"}},\"type\":\"table\"}]},\"layout\":{\"annotationdefaults\":{\"arrowcolor\":\"#2a3f5f\",\"arrowhead\":0,\"arrowwidth\":1},\"autotypenumbers\":\"strict\",\"coloraxis\":{\"colorbar\":{\"outlinewidth\":0,\"ticks\":\"\"}},\"colorscale\":{\"diverging\":[[0,\"#8e0152\"],[0.1,\"#c51b7d\"],[0.2,\"#de77ae\"],[0.3,\"#f1b6da\"],[0.4,\"#fde0ef\"],[0.5,\"#f7f7f7\"],[0.6,\"#e6f5d0\"],[0.7,\"#b8e186\"],[0.8,\"#7fbc41\"],[0.9,\"#4d9221\"],[1,\"#276419\"]],\"sequential\":[[0.0,\"#0d0887\"],[0.1111111111111111,\"#46039f\"],[0.2222222222222222,\"#7201a8\"],[0.3333333333333333,\"#9c179e\"],[0.4444444444444444,\"#bd3786\"],[0.5555555555555556,\"#d8576b\"],[0.6666666666666666,\"#ed7953\"],[0.7777777777777778,\"#fb9f3a\"],[0.8888888888888888,\"#fdca26\"],[1.0,\"#f0f921\"]],\"sequentialminus\":[[0.0,\"#0d0887\"],[0.1111111111111111,\"#46039f\"],[0.2222222222222222,\"#7201a8\"],[0.3333333333333333,\"#9c179e\"],[0.4444444444444444,\"#bd3786\"],[0.5555555555555556,\"#d8576b\"],[0.6666666666666666,\"#ed7953\"],[0.7777777777777778,\"#fb9f3a\"],[0.8888888888888888,\"#fdca26\"],[1.0,\"#f0f921\"]]},\"colorway\":[\"#636efa\",\"#EF553B\",\"#00cc96\",\"#ab63fa\",\"#FFA15A\",\"#19d3f3\",\"#FF6692\",\"#B6E880\",\"#FF97FF\",\"#FECB52\"],\"font\":{\"color\":\"#2a3f5f\"},\"geo\":{\"bgcolor\":\"white\",\"lakecolor\":\"white\",\"landcolor\":\"#E5ECF6\",\"showlakes\":true,\"showland\":true,\"subunitcolor\":\"white\"},\"hoverlabel\":{\"align\":\"left\"},\"hovermode\":\"closest\",\"mapbox\":{\"style\":\"light\"},\"paper_bgcolor\":\"white\",\"plot_bgcolor\":\"#E5ECF6\",\"polar\":{\"angularaxis\":{\"gridcolor\":\"white\",\"linecolor\":\"white\",\"ticks\":\"\"},\"bgcolor\":\"#E5ECF6\",\"radialaxis\":{\"gridcolor\":\"white\",\"linecolor\":\"white\",\"ticks\":\"\"}},\"scene\":{\"xaxis\":{\"backgroundcolor\":\"#E5ECF6\",\"gridcolor\":\"white\",\"gridwidth\":2,\"linecolor\":\"white\",\"showbackground\":true,\"ticks\":\"\",\"zerolinecolor\":\"white\"},\"yaxis\":{\"backgroundcolor\":\"#E5ECF6\",\"gridcolor\":\"white\",\"gridwidth\":2,\"linecolor\":\"white\",\"showbackground\":true,\"ticks\":\"\",\"zerolinecolor\":\"white\"},\"zaxis\":{\"backgroundcolor\":\"#E5ECF6\",\"gridcolor\":\"white\",\"gridwidth\":2,\"linecolor\":\"white\",\"showbackground\":true,\"ticks\":\"\",\"zerolinecolor\":\"white\"}},\"shapedefaults\":{\"line\":{\"color\":\"#2a3f5f\"}},\"ternary\":{\"aaxis\":{\"gridcolor\":\"white\",\"linecolor\":\"white\",\"ticks\":\"\"},\"baxis\":{\"gridcolor\":\"white\",\"linecolor\":\"white\",\"ticks\":\"\"},\"bgcolor\":\"#E5ECF6\",\"caxis\":{\"gridcolor\":\"white\",\"linecolor\":\"white\",\"ticks\":\"\"}},\"title\":{\"x\":0.05},\"xaxis\":{\"automargin\":true,\"gridcolor\":\"white\",\"linecolor\":\"white\",\"ticks\":\"\",\"title\":{\"standoff\":15},\"zerolinecolor\":\"white\",\"zerolinewidth\":2},\"yaxis\":{\"automargin\":true,\"gridcolor\":\"white\",\"linecolor\":\"white\",\"ticks\":\"\",\"title\":{\"standoff\":15},\"zerolinecolor\":\"white\",\"zerolinewidth\":2}}},\"xaxis\":{\"anchor\":\"y\",\"domain\":[0.0,1.0],\"title\":{\"text\":\"INR value\"}},\"yaxis\":{\"anchor\":\"x\",\"domain\":[0.0,1.0],\"title\":{\"text\":\"Country name\"},\"categoryorder\":\"array\",\"categoryarray\":[\"United Kingdom\",\"United States\",\"Singapore\",\"Canada\",\"Australia\",\"New Zealand\",\"Qatar\",\"UAE\",\"Brazil\",\"South Africa\",\"Turkey\",\"Phillipines\",\"India\",\"Sri Lanka\",\"Indonesia\"]},\"legend\":{\"title\":{\"text\":\"Country name\"},\"tracegroupgap\":0},\"title\":{\"text\":\"INDIAN CURRENCY CUTRRENT SITUATION( FOREIGN EXCHANGE RATES )\"},\"font\":{\"size\":15,\"color\":\"#F70909\"},\"plot_bgcolor\":\"#8EE9E7\",\"paper_bgcolor\":\"#D2C1D4\"},                        {\"responsive\": true}                    ).then(function(){\n",
              "                            \n",
              "var gd = document.getElementById('fcd3cff5-d0a6-4c00-9c66-ffd4129f87ff');\n",
              "var x = new MutationObserver(function (mutations, observer) {{\n",
              "        var display = window.getComputedStyle(gd).display;\n",
              "        if (!display || display === 'none') {{\n",
              "            console.log([gd, 'removed!']);\n",
              "            Plotly.purge(gd);\n",
              "            observer.disconnect();\n",
              "        }}\n",
              "}});\n",
              "\n",
              "// Listen for the removal of the full notebook cells\n",
              "var notebookContainer = gd.closest('#notebook-container');\n",
              "if (notebookContainer) {{\n",
              "    x.observe(notebookContainer, {childList: true});\n",
              "}}\n",
              "\n",
              "// Listen for the clearing of the current output cell\n",
              "var outputEl = gd.closest('.output');\n",
              "if (outputEl) {{\n",
              "    x.observe(outputEl, {childList: true});\n",
              "}}\n",
              "\n",
              "                        })                };                            </script>        </div>\n",
              "</body>\n",
              "</html>"
            ]
          },
          "metadata": {}
        }
      ],
      "source": [
        "fig = px.funnel(df1, x='INR value', y='Country name', title = \"INDIAN CURRENCY CUTRRENT SITUATION( FOREIGN EXCHANGE RATES )\", color = \"Country name\")\n",
        "fig.update_layout(\n",
        "  plot_bgcolor=\"#8EE9E7\",\n",
        "  paper_bgcolor=\"#D2C1D4\",\n",
        "  font_size=15,\n",
        "  font_color = \"#F70909\"\n",
        ")\n",
        "fig.show()"
      ]
    },
    {
      "cell_type": "markdown",
      "metadata": {
        "id": "k06oRz20hdlu"
      },
      "source": [
        "**TASK 2 : DASHBOARD DEVELOPMENT **\n",
        "----\n",
        " **● Comparison between the cities in India(own report)**\n",
        "\n",
        " **○ Which part of India spends more on online deliver**\n",
        "\n",
        " ** ○ Which part of India spends more on dine-in**\n",
        "\n",
        "** ○ Which part has a high living cost vs low living cost**\n",
        "\n",
        "**Using ICICLE chart**"
      ]
    },
    {
      "cell_type": "code",
      "source": [
        "#function for finding the state name of the city\n",
        "from geopy.geocoders import Nominatim\n",
        "def read_country(city):\n",
        "    \"\"\"\n",
        "    Convert cities and returns the full address with country as a tuple\n",
        "    \"\"\"\n",
        "    geolocator = Nominatim(user_agent=\"google\") #user agent can be any user agent \n",
        "    location = geolocator.geocode(city, language=\"en\") #specified the language as some countries are in other lanaguages\n",
        "    country= location.address.split(\",\") #split the string based on comma and retruns the second last element (state)\n",
        "    return country"
      ],
      "metadata": {
        "id": "r6Tat9tZeS5D"
      },
      "execution_count": null,
      "outputs": []
    },
    {
      "cell_type": "markdown",
      "metadata": {
        "id": "z1qDQLhzhdlv"
      },
      "source": [
        "**Details of Dine In in India**"
      ]
    },
    {
      "cell_type": "code",
      "execution_count": null,
      "metadata": {
        "id": "FEmPK-Vdhdlv"
      },
      "outputs": [],
      "source": [
        "#Adding column Mode of Order in the data\n",
        "data[\"Mode of Order\"] = data[\"Has Table booking\"].map({\"Yes\" : \"Dine In\", \"No\" : \"Online Delivery\"})\n",
        "Indian_data = data[data[\"Country Name\"] == \"India\"]\n",
        "\n",
        "Indian_dine_in = Indian_data[Indian_data[\"Mode of Order\"] == \"Dine In\"].groupby(\"City\").sum()\n",
        "Indian_dine_in = Indian_dine_in.iloc[:, [-4, 1]]\n",
        "#Indian_dine_in\n",
        "Indian_dine_in.columns = [\"Total Cost in INR\", \"No of Orders\"]\n",
        "Indian_dine_in[\"Mode of Order\"] = \"Dine In\"\n",
        "Indian_dine_in[\"City\"] = Indian_dine_in.index\n",
        "Indian_dine_in[\"S No\"] = [i for i in range(1, Indian_dine_in.shape[0]+1)]\n",
        "Indian_dine_in.set_index(\"S No\", inplace = True)"
      ]
    },
    {
      "cell_type": "code",
      "execution_count": null,
      "metadata": {
        "id": "jPqLAy23hdlw"
      },
      "outputs": [],
      "source": [
        "States_d = []\n",
        "for i in Indian_dine_in[\"City\"]:\n",
        "    x = read_country(i)\n",
        "    y = x[-2].strip(\" \")\n",
        "    if y.isdigit():\n",
        "        States_d.append(x[-3].strip(\" \"))\n",
        "    elif not(y.isdigit()):\n",
        "        States_d.append(x[-2].strip(\" \"))\n",
        "\n",
        "Indian_dine_in[\"State\"] = States_d\n",
        "#log is taken for the better visuvalization\n",
        "Indian_dine_in[\"Total cost in log\"] = Indian_dine_in['Total Cost in INR'].apply(lambda x: np.log(x))"
      ]
    },
    {
      "cell_type": "markdown",
      "source": [
        "**Details of Online orders by cities in Indiia**"
      ],
      "metadata": {
        "id": "qh4ogTNedZLO"
      }
    },
    {
      "cell_type": "code",
      "source": [
        "Indian_online_order = Indian_data[Indian_data[\"Mode of Order\"] == \"Online Delivery\"].groupby(\"City\").sum()\n",
        "Indian_online_order = Indian_online_order.iloc[:, [-4, 1]]\n",
        "Indian_online_order.columns = [\"Total Cost in INR\", \"No of Orders\"]\n",
        "Indian_online_order[\"Mode of Order\"] = \"Online Delivery\"\n",
        "Indian_online_order[\"City\"] = Indian_online_order.index\n",
        "Indian_online_order[\"S No\"] = [i for i in range(1, Indian_online_order.shape[0]+1)]\n",
        "Indian_online_order.set_index(\"S No\", inplace = True)\n",
        "Indian_online_order.columns"
      ],
      "metadata": {
        "colab": {
          "base_uri": "https://localhost:8080/"
        },
        "id": "DCKjhRkYdW0J",
        "outputId": "08a33204-7c92-442a-a871-ec7a6d31dd98"
      },
      "execution_count": null,
      "outputs": [
        {
          "output_type": "execute_result",
          "data": {
            "text/plain": [
              "Index(['Total Cost in INR', 'No of Orders', 'Mode of Order', 'City'], dtype='object')"
            ]
          },
          "metadata": {},
          "execution_count": 31
        }
      ]
    },
    {
      "cell_type": "code",
      "source": [
        "States_o = []\n",
        "for i in Indian_online_order[\"City\"]:\n",
        "    x = read_country(i)\n",
        "    y = x[-2].strip(\" \")\n",
        "    if y.isdigit():\n",
        "        States_o.append(x[-3].strip(\" \"))\n",
        "    elif not(y.isdigit()):\n",
        "        States_o.append(x[-2].strip(\" \"))\n",
        "\n",
        "# Gujarat state names mising in the package\n",
        "States_o[-4] = \"Gujarat\"\n",
        "Indian_online_order[\"State\"] = States_o\n",
        "Indian_online_order[\"Total cost in log\"] = Indian_online_order[\"Total Cost in INR\"].apply(lambda x: np.log(x))"
      ],
      "metadata": {
        "id": "xLENo93_dqtn"
      },
      "execution_count": null,
      "outputs": []
    },
    {
      "cell_type": "markdown",
      "source": [
        "**Overall details of the India Cities**"
      ],
      "metadata": {
        "id": "H_kPIRfleFxN"
      }
    },
    {
      "cell_type": "code",
      "source": [
        "overall = [Indian_dine_in, Indian_online_order]\n",
        "overall_indian_data = pd.concat(overall)\n",
        "overall_indian_data[\"S.No\"] = [i for i in range(1, overall_indian_data.shape[0]+1)]\n",
        "overall_indian_data.set_index(\"S.No\", inplace = True)"
      ],
      "metadata": {
        "id": "9UfRV2itd52s"
      },
      "execution_count": null,
      "outputs": []
    },
    {
      "cell_type": "markdown",
      "source": [
        "**Comparison of Dine In gross revanue between Indian cities**"
      ],
      "metadata": {
        "id": "XbxDzHqKv2Hu"
      }
    },
    {
      "cell_type": "code",
      "execution_count": null,
      "metadata": {
        "colab": {
          "base_uri": "https://localhost:8080/",
          "height": 542
        },
        "id": "B8MTB1dPhdlx",
        "outputId": "76da64d9-3844-46bd-89d7-2e0baf3d4cf7"
      },
      "outputs": [
        {
          "output_type": "display_data",
          "data": {
            "text/html": [
              "<html>\n",
              "<head><meta charset=\"utf-8\" /></head>\n",
              "<body>\n",
              "    <div>            <script src=\"https://cdnjs.cloudflare.com/ajax/libs/mathjax/2.7.5/MathJax.js?config=TeX-AMS-MML_SVG\"></script><script type=\"text/javascript\">if (window.MathJax) {MathJax.Hub.Config({SVG: {font: \"STIX-Web\"}});}</script>                <script type=\"text/javascript\">window.PlotlyConfig = {MathJaxConfig: 'local'};</script>\n",
              "        <script src=\"https://cdn.plot.ly/plotly-2.8.3.min.js\"></script>                <div id=\"6adc9cae-59e9-4ee9-a025-d172298a4902\" class=\"plotly-graph-div\" style=\"height:525px; width:100%;\"></div>            <script type=\"text/javascript\">                                    window.PLOTLYENV=window.PLOTLYENV || {};                                    if (document.getElementById(\"6adc9cae-59e9-4ee9-a025-d172298a4902\")) {                    Plotly.newPlot(                        \"6adc9cae-59e9-4ee9-a025-d172298a4902\",                        [{\"branchvalues\":\"total\",\"customdata\":[[2,1650.0,\"Telangana\"],[204,325600.0,\"Haryana\"],[9,9350.0,\"Maharashtra\"],[715,1164550.0,\"Delhi\"],[13,13900.0,\"Tamil Nadu\"],[112,155500.0,\"Uttar Pradesh\"],[13,16900.0,\"Maharashtra\"],[15,16100.0,\"Faridabad\"],[9,11800.0,\"West Bengal\"],[6,9400.0,\"Karnataka\"],[3,5000.0,\"Uttar Pradesh\"],[10,14300.0,\"Sindh\"],[6,9400.0,\"Karnataka\"],[13,13900.0,\"Tamil Nadu\"],[15,16100.0,\"Faridabad\"],[3,5000.0,\"Uttar Pradesh\"],[204,325600.0,\"Haryana\"],[10,14300.0,\"Sindh\"],[9,11800.0,\"West Bengal\"],[9,9350.0,\"Maharashtra\"],[715,1164550.0,\"Delhi\"],[112,155500.0,\"Uttar Pradesh\"],[13,16900.0,\"Maharashtra\"],[2,1650.0,\"Telangana\"],[\"(?)\",\"(?)\",\"(?)\"],[\"(?)\",\"(?)\",\"(?)\"]],\"domain\":{\"x\":[0.0,1.0],\"y\":[0.0,1.0]},\"hovertemplate\":\"<b>%{hovertext}</b><br><br>labels=%{label}<br>Total cost in log=%{value}<br>parent=%{parent}<br>id=%{id}<br>No of Orders=%{customdata[0]}<br>Total Cost in INR=%{customdata[1]}<br>State=%{customdata[2]}<extra></extra>\",\"hovertext\":[1650.0,325600.0,9350.0,1164550.0,13900.0,155500.0,16900.0,16100.0,11800.0,9400.0,5000.0,14300.0,9400.0,13900.0,16100.0,5000.0,325600.0,14300.0,11800.0,9350.0,1164550.0,155500.0,16900.0,1650.0,\"(?)\",\"(?)\"],\"ids\":[\"all/Dine In/Secunderabad/Telangana\",\"all/Dine In/Gurgaon/Haryana\",\"all/Dine In/Mumbai/Maharashtra\",\"all/Dine In/New Delhi/Delhi\",\"all/Dine In/Chennai/Tamil Nadu\",\"all/Dine In/Noida/Uttar Pradesh\",\"all/Dine In/Pune/Maharashtra\",\"all/Dine In/Faridabad/Faridabad\",\"all/Dine In/Kolkata/West Bengal\",\"all/Dine In/Bangalore/Karnataka\",\"all/Dine In/Ghaziabad/Uttar Pradesh\",\"all/Dine In/Hyderabad/Sindh\",\"all/Dine In/Bangalore\",\"all/Dine In/Chennai\",\"all/Dine In/Faridabad\",\"all/Dine In/Ghaziabad\",\"all/Dine In/Gurgaon\",\"all/Dine In/Hyderabad\",\"all/Dine In/Kolkata\",\"all/Dine In/Mumbai\",\"all/Dine In/New Delhi\",\"all/Dine In/Noida\",\"all/Dine In/Pune\",\"all/Dine In/Secunderabad\",\"all/Dine In\",\"all\"],\"labels\":[\"Telangana\",\"Haryana\",\"Maharashtra\",\"Delhi\",\"Tamil Nadu\",\"Uttar Pradesh\",\"Maharashtra\",\"Faridabad\",\"West Bengal\",\"Karnataka\",\"Uttar Pradesh\",\"Sindh\",\"Bangalore\",\"Chennai\",\"Faridabad\",\"Ghaziabad\",\"Gurgaon\",\"Hyderabad\",\"Kolkata\",\"Mumbai\",\"New Delhi\",\"Noida\",\"Pune\",\"Secunderabad\",\"Dine In\",\"all\"],\"marker\":{\"colors\":[\"#636efa\",\"#EF553B\",\"#00cc96\",\"#ab63fa\",\"#FFA15A\",\"#19d3f3\",\"#00cc96\",\"#FF6692\",\"#B6E880\",\"#FF97FF\",\"#19d3f3\",\"#FECB52\",\"#FF97FF\",\"#FFA15A\",\"#FF6692\",\"#19d3f3\",\"#EF553B\",\"#FECB52\",\"#B6E880\",\"#00cc96\",\"#ab63fa\",\"#19d3f3\",\"#00cc96\",\"#636efa\",\"#636efa\",\"#636efa\"]},\"name\":\"\",\"parents\":[\"all/Dine In/Secunderabad\",\"all/Dine In/Gurgaon\",\"all/Dine In/Mumbai\",\"all/Dine In/New Delhi\",\"all/Dine In/Chennai\",\"all/Dine In/Noida\",\"all/Dine In/Pune\",\"all/Dine In/Faridabad\",\"all/Dine In/Kolkata\",\"all/Dine In/Bangalore\",\"all/Dine In/Ghaziabad\",\"all/Dine In/Hyderabad\",\"all/Dine In\",\"all/Dine In\",\"all/Dine In\",\"all/Dine In\",\"all/Dine In\",\"all/Dine In\",\"all/Dine In\",\"all/Dine In\",\"all/Dine In\",\"all/Dine In\",\"all/Dine In\",\"all/Dine In\",\"all\",\"\"],\"values\":[7.408530566894626,12.693424913110523,9.143131622282732,13.967845304267554,9.539644119118783,11.954401010601426,9.735068900911164,9.686574550972555,9.375854810453756,9.148464968258095,8.517193191416238,9.568014816247999,9.148464968258095,9.539644119118783,9.686574550972555,8.517193191416238,12.693424913110523,9.568014816247999,9.375854810453756,9.143131622282732,13.967845304267554,11.954401010601426,9.735068900911164,7.408530566894626,120.73814877453545,120.73814877453545],\"type\":\"icicle\"}],                        {\"template\":{\"data\":{\"bar\":[{\"error_x\":{\"color\":\"#2a3f5f\"},\"error_y\":{\"color\":\"#2a3f5f\"},\"marker\":{\"line\":{\"color\":\"#E5ECF6\",\"width\":0.5},\"pattern\":{\"fillmode\":\"overlay\",\"size\":10,\"solidity\":0.2}},\"type\":\"bar\"}],\"barpolar\":[{\"marker\":{\"line\":{\"color\":\"#E5ECF6\",\"width\":0.5},\"pattern\":{\"fillmode\":\"overlay\",\"size\":10,\"solidity\":0.2}},\"type\":\"barpolar\"}],\"carpet\":[{\"aaxis\":{\"endlinecolor\":\"#2a3f5f\",\"gridcolor\":\"white\",\"linecolor\":\"white\",\"minorgridcolor\":\"white\",\"startlinecolor\":\"#2a3f5f\"},\"baxis\":{\"endlinecolor\":\"#2a3f5f\",\"gridcolor\":\"white\",\"linecolor\":\"white\",\"minorgridcolor\":\"white\",\"startlinecolor\":\"#2a3f5f\"},\"type\":\"carpet\"}],\"choropleth\":[{\"colorbar\":{\"outlinewidth\":0,\"ticks\":\"\"},\"type\":\"choropleth\"}],\"contour\":[{\"colorbar\":{\"outlinewidth\":0,\"ticks\":\"\"},\"colorscale\":[[0.0,\"#0d0887\"],[0.1111111111111111,\"#46039f\"],[0.2222222222222222,\"#7201a8\"],[0.3333333333333333,\"#9c179e\"],[0.4444444444444444,\"#bd3786\"],[0.5555555555555556,\"#d8576b\"],[0.6666666666666666,\"#ed7953\"],[0.7777777777777778,\"#fb9f3a\"],[0.8888888888888888,\"#fdca26\"],[1.0,\"#f0f921\"]],\"type\":\"contour\"}],\"contourcarpet\":[{\"colorbar\":{\"outlinewidth\":0,\"ticks\":\"\"},\"type\":\"contourcarpet\"}],\"heatmap\":[{\"colorbar\":{\"outlinewidth\":0,\"ticks\":\"\"},\"colorscale\":[[0.0,\"#0d0887\"],[0.1111111111111111,\"#46039f\"],[0.2222222222222222,\"#7201a8\"],[0.3333333333333333,\"#9c179e\"],[0.4444444444444444,\"#bd3786\"],[0.5555555555555556,\"#d8576b\"],[0.6666666666666666,\"#ed7953\"],[0.7777777777777778,\"#fb9f3a\"],[0.8888888888888888,\"#fdca26\"],[1.0,\"#f0f921\"]],\"type\":\"heatmap\"}],\"heatmapgl\":[{\"colorbar\":{\"outlinewidth\":0,\"ticks\":\"\"},\"colorscale\":[[0.0,\"#0d0887\"],[0.1111111111111111,\"#46039f\"],[0.2222222222222222,\"#7201a8\"],[0.3333333333333333,\"#9c179e\"],[0.4444444444444444,\"#bd3786\"],[0.5555555555555556,\"#d8576b\"],[0.6666666666666666,\"#ed7953\"],[0.7777777777777778,\"#fb9f3a\"],[0.8888888888888888,\"#fdca26\"],[1.0,\"#f0f921\"]],\"type\":\"heatmapgl\"}],\"histogram\":[{\"marker\":{\"pattern\":{\"fillmode\":\"overlay\",\"size\":10,\"solidity\":0.2}},\"type\":\"histogram\"}],\"histogram2d\":[{\"colorbar\":{\"outlinewidth\":0,\"ticks\":\"\"},\"colorscale\":[[0.0,\"#0d0887\"],[0.1111111111111111,\"#46039f\"],[0.2222222222222222,\"#7201a8\"],[0.3333333333333333,\"#9c179e\"],[0.4444444444444444,\"#bd3786\"],[0.5555555555555556,\"#d8576b\"],[0.6666666666666666,\"#ed7953\"],[0.7777777777777778,\"#fb9f3a\"],[0.8888888888888888,\"#fdca26\"],[1.0,\"#f0f921\"]],\"type\":\"histogram2d\"}],\"histogram2dcontour\":[{\"colorbar\":{\"outlinewidth\":0,\"ticks\":\"\"},\"colorscale\":[[0.0,\"#0d0887\"],[0.1111111111111111,\"#46039f\"],[0.2222222222222222,\"#7201a8\"],[0.3333333333333333,\"#9c179e\"],[0.4444444444444444,\"#bd3786\"],[0.5555555555555556,\"#d8576b\"],[0.6666666666666666,\"#ed7953\"],[0.7777777777777778,\"#fb9f3a\"],[0.8888888888888888,\"#fdca26\"],[1.0,\"#f0f921\"]],\"type\":\"histogram2dcontour\"}],\"mesh3d\":[{\"colorbar\":{\"outlinewidth\":0,\"ticks\":\"\"},\"type\":\"mesh3d\"}],\"parcoords\":[{\"line\":{\"colorbar\":{\"outlinewidth\":0,\"ticks\":\"\"}},\"type\":\"parcoords\"}],\"pie\":[{\"automargin\":true,\"type\":\"pie\"}],\"scatter\":[{\"marker\":{\"colorbar\":{\"outlinewidth\":0,\"ticks\":\"\"}},\"type\":\"scatter\"}],\"scatter3d\":[{\"line\":{\"colorbar\":{\"outlinewidth\":0,\"ticks\":\"\"}},\"marker\":{\"colorbar\":{\"outlinewidth\":0,\"ticks\":\"\"}},\"type\":\"scatter3d\"}],\"scattercarpet\":[{\"marker\":{\"colorbar\":{\"outlinewidth\":0,\"ticks\":\"\"}},\"type\":\"scattercarpet\"}],\"scattergeo\":[{\"marker\":{\"colorbar\":{\"outlinewidth\":0,\"ticks\":\"\"}},\"type\":\"scattergeo\"}],\"scattergl\":[{\"marker\":{\"colorbar\":{\"outlinewidth\":0,\"ticks\":\"\"}},\"type\":\"scattergl\"}],\"scattermapbox\":[{\"marker\":{\"colorbar\":{\"outlinewidth\":0,\"ticks\":\"\"}},\"type\":\"scattermapbox\"}],\"scatterpolar\":[{\"marker\":{\"colorbar\":{\"outlinewidth\":0,\"ticks\":\"\"}},\"type\":\"scatterpolar\"}],\"scatterpolargl\":[{\"marker\":{\"colorbar\":{\"outlinewidth\":0,\"ticks\":\"\"}},\"type\":\"scatterpolargl\"}],\"scatterternary\":[{\"marker\":{\"colorbar\":{\"outlinewidth\":0,\"ticks\":\"\"}},\"type\":\"scatterternary\"}],\"surface\":[{\"colorbar\":{\"outlinewidth\":0,\"ticks\":\"\"},\"colorscale\":[[0.0,\"#0d0887\"],[0.1111111111111111,\"#46039f\"],[0.2222222222222222,\"#7201a8\"],[0.3333333333333333,\"#9c179e\"],[0.4444444444444444,\"#bd3786\"],[0.5555555555555556,\"#d8576b\"],[0.6666666666666666,\"#ed7953\"],[0.7777777777777778,\"#fb9f3a\"],[0.8888888888888888,\"#fdca26\"],[1.0,\"#f0f921\"]],\"type\":\"surface\"}],\"table\":[{\"cells\":{\"fill\":{\"color\":\"#EBF0F8\"},\"line\":{\"color\":\"white\"}},\"header\":{\"fill\":{\"color\":\"#C8D4E3\"},\"line\":{\"color\":\"white\"}},\"type\":\"table\"}]},\"layout\":{\"annotationdefaults\":{\"arrowcolor\":\"#2a3f5f\",\"arrowhead\":0,\"arrowwidth\":1},\"autotypenumbers\":\"strict\",\"coloraxis\":{\"colorbar\":{\"outlinewidth\":0,\"ticks\":\"\"}},\"colorscale\":{\"diverging\":[[0,\"#8e0152\"],[0.1,\"#c51b7d\"],[0.2,\"#de77ae\"],[0.3,\"#f1b6da\"],[0.4,\"#fde0ef\"],[0.5,\"#f7f7f7\"],[0.6,\"#e6f5d0\"],[0.7,\"#b8e186\"],[0.8,\"#7fbc41\"],[0.9,\"#4d9221\"],[1,\"#276419\"]],\"sequential\":[[0.0,\"#0d0887\"],[0.1111111111111111,\"#46039f\"],[0.2222222222222222,\"#7201a8\"],[0.3333333333333333,\"#9c179e\"],[0.4444444444444444,\"#bd3786\"],[0.5555555555555556,\"#d8576b\"],[0.6666666666666666,\"#ed7953\"],[0.7777777777777778,\"#fb9f3a\"],[0.8888888888888888,\"#fdca26\"],[1.0,\"#f0f921\"]],\"sequentialminus\":[[0.0,\"#0d0887\"],[0.1111111111111111,\"#46039f\"],[0.2222222222222222,\"#7201a8\"],[0.3333333333333333,\"#9c179e\"],[0.4444444444444444,\"#bd3786\"],[0.5555555555555556,\"#d8576b\"],[0.6666666666666666,\"#ed7953\"],[0.7777777777777778,\"#fb9f3a\"],[0.8888888888888888,\"#fdca26\"],[1.0,\"#f0f921\"]]},\"colorway\":[\"#636efa\",\"#EF553B\",\"#00cc96\",\"#ab63fa\",\"#FFA15A\",\"#19d3f3\",\"#FF6692\",\"#B6E880\",\"#FF97FF\",\"#FECB52\"],\"font\":{\"color\":\"#2a3f5f\"},\"geo\":{\"bgcolor\":\"white\",\"lakecolor\":\"white\",\"landcolor\":\"#E5ECF6\",\"showlakes\":true,\"showland\":true,\"subunitcolor\":\"white\"},\"hoverlabel\":{\"align\":\"left\"},\"hovermode\":\"closest\",\"mapbox\":{\"style\":\"light\"},\"paper_bgcolor\":\"white\",\"plot_bgcolor\":\"#E5ECF6\",\"polar\":{\"angularaxis\":{\"gridcolor\":\"white\",\"linecolor\":\"white\",\"ticks\":\"\"},\"bgcolor\":\"#E5ECF6\",\"radialaxis\":{\"gridcolor\":\"white\",\"linecolor\":\"white\",\"ticks\":\"\"}},\"scene\":{\"xaxis\":{\"backgroundcolor\":\"#E5ECF6\",\"gridcolor\":\"white\",\"gridwidth\":2,\"linecolor\":\"white\",\"showbackground\":true,\"ticks\":\"\",\"zerolinecolor\":\"white\"},\"yaxis\":{\"backgroundcolor\":\"#E5ECF6\",\"gridcolor\":\"white\",\"gridwidth\":2,\"linecolor\":\"white\",\"showbackground\":true,\"ticks\":\"\",\"zerolinecolor\":\"white\"},\"zaxis\":{\"backgroundcolor\":\"#E5ECF6\",\"gridcolor\":\"white\",\"gridwidth\":2,\"linecolor\":\"white\",\"showbackground\":true,\"ticks\":\"\",\"zerolinecolor\":\"white\"}},\"shapedefaults\":{\"line\":{\"color\":\"#2a3f5f\"}},\"ternary\":{\"aaxis\":{\"gridcolor\":\"white\",\"linecolor\":\"white\",\"ticks\":\"\"},\"baxis\":{\"gridcolor\":\"white\",\"linecolor\":\"white\",\"ticks\":\"\"},\"bgcolor\":\"#E5ECF6\",\"caxis\":{\"gridcolor\":\"white\",\"linecolor\":\"white\",\"ticks\":\"\"}},\"title\":{\"x\":0.05},\"xaxis\":{\"automargin\":true,\"gridcolor\":\"white\",\"linecolor\":\"white\",\"ticks\":\"\",\"title\":{\"standoff\":15},\"zerolinecolor\":\"white\",\"zerolinewidth\":2},\"yaxis\":{\"automargin\":true,\"gridcolor\":\"white\",\"linecolor\":\"white\",\"ticks\":\"\",\"title\":{\"standoff\":15},\"zerolinecolor\":\"white\",\"zerolinewidth\":2}}},\"legend\":{\"tracegroupgap\":0},\"margin\":{\"t\":50,\"l\":25,\"r\":25,\"b\":25}},                        {\"responsive\": true}                    ).then(function(){\n",
              "                            \n",
              "var gd = document.getElementById('6adc9cae-59e9-4ee9-a025-d172298a4902');\n",
              "var x = new MutationObserver(function (mutations, observer) {{\n",
              "        var display = window.getComputedStyle(gd).display;\n",
              "        if (!display || display === 'none') {{\n",
              "            console.log([gd, 'removed!']);\n",
              "            Plotly.purge(gd);\n",
              "            observer.disconnect();\n",
              "        }}\n",
              "}});\n",
              "\n",
              "// Listen for the removal of the full notebook cells\n",
              "var notebookContainer = gd.closest('#notebook-container');\n",
              "if (notebookContainer) {{\n",
              "    x.observe(notebookContainer, {childList: true});\n",
              "}}\n",
              "\n",
              "// Listen for the clearing of the current output cell\n",
              "var outputEl = gd.closest('.output');\n",
              "if (outputEl) {{\n",
              "    x.observe(outputEl, {childList: true});\n",
              "}}\n",
              "\n",
              "                        })                };                            </script>        </div>\n",
              "</body>\n",
              "</html>"
            ]
          },
          "metadata": {}
        }
      ],
      "source": [
        "fig1 = px.icicle(Indian_dine_in, path=[px.Constant(\"all\"), 'Mode of Order','City', \"State\"],\n",
        "                values='Total cost in log', color='State', hover_name = \"Total Cost in INR\", hover_data = [\"No of Orders\", \"Total Cost in INR\"])\n",
        "fig1.update_layout(margin = dict(t=50, l=25, r=25, b=25))"
      ]
    },
    {
      "cell_type": "markdown",
      "source": [
        "**Comparison of Online order gross revanue between Indian cities**"
      ],
      "metadata": {
        "id": "lu1k9vuywOKz"
      }
    },
    {
      "cell_type": "code",
      "execution_count": null,
      "metadata": {
        "colab": {
          "base_uri": "https://localhost:8080/",
          "height": 542
        },
        "id": "deQstZythdlz",
        "outputId": "024e7257-cfbe-429c-d83b-4b0c18d324ca"
      },
      "outputs": [
        {
          "output_type": "display_data",
          "data": {
            "text/html": [
              "<html>\n",
              "<head><meta charset=\"utf-8\" /></head>\n",
              "<body>\n",
              "    <div>            <script src=\"https://cdnjs.cloudflare.com/ajax/libs/mathjax/2.7.5/MathJax.js?config=TeX-AMS-MML_SVG\"></script><script type=\"text/javascript\">if (window.MathJax) {MathJax.Hub.Config({SVG: {font: \"STIX-Web\"}});}</script>                <script type=\"text/javascript\">window.PlotlyConfig = {MathJaxConfig: 'local'};</script>\n",
              "        <script src=\"https://cdn.plot.ly/plotly-2.8.3.min.js\"></script>                <div id=\"2a6b5923-2b17-46dd-a278-f0445443fc18\" class=\"plotly-graph-div\" style=\"height:525px; width:100%;\"></div>            <script type=\"text/javascript\">                                    window.PLOTLYENV=window.PLOTLYENV || {};                                    if (document.getElementById(\"2a6b5923-2b17-46dd-a278-f0445443fc18\")) {                    Plotly.newPlot(                        \"2a6b5923-2b17-46dd-a278-f0445443fc18\",                        [{\"branchvalues\":\"total\",\"customdata\":[[11,13650.0,\"West Bengal\"],[20,14600.0,\"Kochi Prefecture\"],[20,10350.0,\"Uttar Pradesh\"],[20,16250.0,\"Gujarat\"],[7,7800.0,\"Tamil Nadu\"],[20,14700.0,\"Jharkhand\"],[20,15650.0,\"Karnataka\"],[20,10100.0,\"Uttar Pradesh\"],[21,17250.0,\"Assam\"],[968,427150.0,\"Uttar Pradesh\"],[20,16290.0,\"Karnataka\"],[20,21300.0,\"Uttar Pradesh\"],[21,18050.0,\"Uttar Pradesh\"],[236,96250.0,\"Faridabad\"],[20,16850.0,\"Puducherry\"],[1,550.0,\"Punjab\"],[20,14300.0,\"Maharashtra\"],[20,23500.0,\"Goa\"],[20,19200.0,\"Madhya Pradesh\"],[20,18300.0,\"Uttar Pradesh\"],[20,23200.0,\"Punjab\"],[8,10200.0,\"Sindh\"],[20,26200.0,\"Rajasthan\"],[4758,2097840.0,\"Delhi\"],[21,18000.0,\"Gujarat\"],[22,10050.0,\"Uttar Pradesh\"],[18,19300.0,\"Chandigarh\"],[21,14250.0,\"Odisha\"],[21,10100.0,\"Punjab\"],[20,12450.0,\"Maharashtra\"],[20,12400.0,\"Madhya Pradesh\"],[914,472670.0,\"Haryana\"],[20,16400.0,\"Gujarat\"],[20,15600.0,\"Andhra Pradesh\"],[7,9850.0,\"Maharashtra\"],[20,14550.0,\"Uttarakhand\"],[14,15250.0,\"Karnataka\"],[20,15950.0,\"Bihar\"],[20,15650.0,\"Tamil Nadu\"],[11,12100.0,\"Maharashtra\"],[1,2000.0,\"Haryana\"],[20,13250.0,\"Maharashtra\"],[20,21300.0,\"Uttar Pradesh\"],[21,18000.0,\"Gujarat\"],[20,10350.0,\"Uttar Pradesh\"],[21,10100.0,\"Punjab\"],[20,12450.0,\"Maharashtra\"],[14,15250.0,\"Karnataka\"],[20,12400.0,\"Madhya Pradesh\"],[21,14250.0,\"Odisha\"],[18,19300.0,\"Chandigarh\"],[7,7800.0,\"Tamil Nadu\"],[20,15650.0,\"Tamil Nadu\"],[20,14550.0,\"Uttarakhand\"],[236,96250.0,\"Faridabad\"],[22,10050.0,\"Uttar Pradesh\"],[20,23500.0,\"Goa\"],[914,472670.0,\"Haryana\"],[21,17250.0,\"Assam\"],[8,10200.0,\"Sindh\"],[20,19200.0,\"Madhya Pradesh\"],[20,26200.0,\"Rajasthan\"],[20,18300.0,\"Uttar Pradesh\"],[20,14600.0,\"Kochi Prefecture\"],[11,13650.0,\"West Bengal\"],[21,18050.0,\"Uttar Pradesh\"],[20,23200.0,\"Punjab\"],[20,15650.0,\"Karnataka\"],[1,550.0,\"Punjab\"],[11,12100.0,\"Maharashtra\"],[20,16290.0,\"Karnataka\"],[20,14300.0,\"Maharashtra\"],[20,13250.0,\"Maharashtra\"],[4758,2097840.0,\"Delhi\"],[968,427150.0,\"Uttar Pradesh\"],[1,2000.0,\"Haryana\"],[20,15950.0,\"Bihar\"],[20,16850.0,\"Puducherry\"],[7,9850.0,\"Maharashtra\"],[20,14700.0,\"Jharkhand\"],[20,16250.0,\"Gujarat\"],[20,16400.0,\"Gujarat\"],[20,10100.0,\"Uttar Pradesh\"],[20,15600.0,\"Andhra Pradesh\"],[\"(?)\",\"(?)\",\"(?)\"],[\"(?)\",\"(?)\",\"(?)\"]],\"domain\":{\"x\":[0.0,1.0],\"y\":[0.0,1.0]},\"hovertemplate\":\"<b>%{hovertext}</b><br><br>labels=%{label}<br>Total cost in log=%{value}<br>parent=%{parent}<br>id=%{id}<br>No of Orders=%{customdata[0]}<br>Total Cost in INR=%{customdata[1]}<br>State=%{customdata[2]}<extra></extra>\",\"hovertext\":[13650.0,14600.0,10350.0,16250.0,7800.0,14700.0,15650.0,10100.0,17250.0,427150.0,16290.0,21300.0,18050.0,96250.0,16850.0,550.0,14300.0,23500.0,19200.0,18300.0,23200.0,10200.0,26200.0,2097840.0,18000.0,10050.0,19300.0,14250.0,10100.0,12450.0,12400.0,472670.0,16400.0,15600.0,9850.0,14550.0,15250.0,15950.0,15650.0,12100.0,2000.0,13250.0,21300.0,18000.0,10350.0,10100.0,12450.0,15250.0,12400.0,14250.0,19300.0,7800.0,15650.0,14550.0,96250.0,10050.0,23500.0,472670.0,17250.0,10200.0,19200.0,26200.0,18300.0,14600.0,13650.0,18050.0,23200.0,15650.0,550.0,12100.0,16290.0,14300.0,13250.0,2097840.0,427150.0,2000.0,15950.0,16850.0,9850.0,14700.0,16250.0,16400.0,10100.0,15600.0,\"(?)\",\"(?)\"],\"ids\":[\"all/Online Delivery/Kolkata/West Bengal\",\"all/Online Delivery/Kochi/Kochi Prefecture\",\"all/Online Delivery/Allahabad/Uttar Pradesh\",\"all/Online Delivery/Surat/Gujarat\",\"all/Online Delivery/Chennai/Tamil Nadu\",\"all/Online Delivery/Ranchi/Jharkhand\",\"all/Online Delivery/Mangalore/Karnataka\",\"all/Online Delivery/Varanasi/Uttar Pradesh\",\"all/Online Delivery/Guwahati/Assam\",\"all/Online Delivery/Noida/Uttar Pradesh\",\"all/Online Delivery/Mysore/Karnataka\",\"all/Online Delivery/Agra/Uttar Pradesh\",\"all/Online Delivery/Lucknow/Uttar Pradesh\",\"all/Online Delivery/Faridabad/Faridabad\",\"all/Online Delivery/Puducherry/Puducherry\",\"all/Online Delivery/Mohali/Punjab\",\"all/Online Delivery/Nagpur/Maharashtra\",\"all/Online Delivery/Goa/Goa\",\"all/Online Delivery/Indore/Madhya Pradesh\",\"all/Online Delivery/Kanpur/Uttar Pradesh\",\"all/Online Delivery/Ludhiana/Punjab\",\"all/Online Delivery/Hyderabad/Sindh\",\"all/Online Delivery/Jaipur/Rajasthan\",\"all/Online Delivery/New Delhi/Delhi\",\"all/Online Delivery/Ahmedabad/Gujarat\",\"all/Online Delivery/Ghaziabad/Uttar Pradesh\",\"all/Online Delivery/Chandigarh/Chandigarh\",\"all/Online Delivery/Bhubaneshwar/Odisha\",\"all/Online Delivery/Amritsar/Punjab\",\"all/Online Delivery/Aurangabad/Maharashtra\",\"all/Online Delivery/Bhopal/Madhya Pradesh\",\"all/Online Delivery/Gurgaon/Haryana\",\"all/Online Delivery/Vadodara/Gujarat\",\"all/Online Delivery/Vizag/Andhra Pradesh\",\"all/Online Delivery/Pune/Maharashtra\",\"all/Online Delivery/Dehradun/Uttarakhand\",\"all/Online Delivery/Bangalore/Karnataka\",\"all/Online Delivery/Patna/Bihar\",\"all/Online Delivery/Coimbatore/Tamil Nadu\",\"all/Online Delivery/Mumbai/Maharashtra\",\"all/Online Delivery/Panchkula/Haryana\",\"all/Online Delivery/Nashik/Maharashtra\",\"all/Online Delivery/Agra\",\"all/Online Delivery/Ahmedabad\",\"all/Online Delivery/Allahabad\",\"all/Online Delivery/Amritsar\",\"all/Online Delivery/Aurangabad\",\"all/Online Delivery/Bangalore\",\"all/Online Delivery/Bhopal\",\"all/Online Delivery/Bhubaneshwar\",\"all/Online Delivery/Chandigarh\",\"all/Online Delivery/Chennai\",\"all/Online Delivery/Coimbatore\",\"all/Online Delivery/Dehradun\",\"all/Online Delivery/Faridabad\",\"all/Online Delivery/Ghaziabad\",\"all/Online Delivery/Goa\",\"all/Online Delivery/Gurgaon\",\"all/Online Delivery/Guwahati\",\"all/Online Delivery/Hyderabad\",\"all/Online Delivery/Indore\",\"all/Online Delivery/Jaipur\",\"all/Online Delivery/Kanpur\",\"all/Online Delivery/Kochi\",\"all/Online Delivery/Kolkata\",\"all/Online Delivery/Lucknow\",\"all/Online Delivery/Ludhiana\",\"all/Online Delivery/Mangalore\",\"all/Online Delivery/Mohali\",\"all/Online Delivery/Mumbai\",\"all/Online Delivery/Mysore\",\"all/Online Delivery/Nagpur\",\"all/Online Delivery/Nashik\",\"all/Online Delivery/New Delhi\",\"all/Online Delivery/Noida\",\"all/Online Delivery/Panchkula\",\"all/Online Delivery/Patna\",\"all/Online Delivery/Puducherry\",\"all/Online Delivery/Pune\",\"all/Online Delivery/Ranchi\",\"all/Online Delivery/Surat\",\"all/Online Delivery/Vadodara\",\"all/Online Delivery/Varanasi\",\"all/Online Delivery/Vizag\",\"all/Online Delivery\",\"all\"],\"labels\":[\"West Bengal\",\"Kochi Prefecture\",\"Uttar Pradesh\",\"Gujarat\",\"Tamil Nadu\",\"Jharkhand\",\"Karnataka\",\"Uttar Pradesh\",\"Assam\",\"Uttar Pradesh\",\"Karnataka\",\"Uttar Pradesh\",\"Uttar Pradesh\",\"Faridabad\",\"Puducherry\",\"Punjab\",\"Maharashtra\",\"Goa\",\"Madhya Pradesh\",\"Uttar Pradesh\",\"Punjab\",\"Sindh\",\"Rajasthan\",\"Delhi\",\"Gujarat\",\"Uttar Pradesh\",\"Chandigarh\",\"Odisha\",\"Punjab\",\"Maharashtra\",\"Madhya Pradesh\",\"Haryana\",\"Gujarat\",\"Andhra Pradesh\",\"Maharashtra\",\"Uttarakhand\",\"Karnataka\",\"Bihar\",\"Tamil Nadu\",\"Maharashtra\",\"Haryana\",\"Maharashtra\",\"Agra\",\"Ahmedabad\",\"Allahabad\",\"Amritsar\",\"Aurangabad\",\"Bangalore\",\"Bhopal\",\"Bhubaneshwar\",\"Chandigarh\",\"Chennai\",\"Coimbatore\",\"Dehradun\",\"Faridabad\",\"Ghaziabad\",\"Goa\",\"Gurgaon\",\"Guwahati\",\"Hyderabad\",\"Indore\",\"Jaipur\",\"Kanpur\",\"Kochi\",\"Kolkata\",\"Lucknow\",\"Ludhiana\",\"Mangalore\",\"Mohali\",\"Mumbai\",\"Mysore\",\"Nagpur\",\"Nashik\",\"New Delhi\",\"Noida\",\"Panchkula\",\"Patna\",\"Puducherry\",\"Pune\",\"Ranchi\",\"Surat\",\"Vadodara\",\"Varanasi\",\"Vizag\",\"Online Delivery\",\"all\"],\"marker\":{\"colors\":[\"#636efa\",\"#EF553B\",\"#00cc96\",\"#ab63fa\",\"#FFA15A\",\"#19d3f3\",\"#FF6692\",\"#00cc96\",\"#B6E880\",\"#00cc96\",\"#FF6692\",\"#00cc96\",\"#00cc96\",\"#FF97FF\",\"#FECB52\",\"#636efa\",\"#EF553B\",\"#00cc96\",\"#ab63fa\",\"#00cc96\",\"#636efa\",\"#FFA15A\",\"#19d3f3\",\"#FF6692\",\"#ab63fa\",\"#00cc96\",\"#B6E880\",\"#FF97FF\",\"#636efa\",\"#EF553B\",\"#ab63fa\",\"#FECB52\",\"#ab63fa\",\"#636efa\",\"#EF553B\",\"#EF553B\",\"#FF6692\",\"#00cc96\",\"#FFA15A\",\"#EF553B\",\"#FECB52\",\"#EF553B\",\"#00cc96\",\"#ab63fa\",\"#00cc96\",\"#636efa\",\"#EF553B\",\"#FF6692\",\"#ab63fa\",\"#FF97FF\",\"#B6E880\",\"#FFA15A\",\"#FFA15A\",\"#EF553B\",\"#FF97FF\",\"#00cc96\",\"#00cc96\",\"#FECB52\",\"#B6E880\",\"#FFA15A\",\"#ab63fa\",\"#19d3f3\",\"#00cc96\",\"#EF553B\",\"#636efa\",\"#00cc96\",\"#636efa\",\"#FF6692\",\"#636efa\",\"#EF553B\",\"#FF6692\",\"#EF553B\",\"#EF553B\",\"#FF6692\",\"#00cc96\",\"#FECB52\",\"#00cc96\",\"#FECB52\",\"#EF553B\",\"#19d3f3\",\"#ab63fa\",\"#ab63fa\",\"#00cc96\",\"#636efa\",\"#ab63fa\",\"#ab63fa\"]},\"name\":\"\",\"parents\":[\"all/Online Delivery/Kolkata\",\"all/Online Delivery/Kochi\",\"all/Online Delivery/Allahabad\",\"all/Online Delivery/Surat\",\"all/Online Delivery/Chennai\",\"all/Online Delivery/Ranchi\",\"all/Online Delivery/Mangalore\",\"all/Online Delivery/Varanasi\",\"all/Online Delivery/Guwahati\",\"all/Online Delivery/Noida\",\"all/Online Delivery/Mysore\",\"all/Online Delivery/Agra\",\"all/Online Delivery/Lucknow\",\"all/Online Delivery/Faridabad\",\"all/Online Delivery/Puducherry\",\"all/Online Delivery/Mohali\",\"all/Online Delivery/Nagpur\",\"all/Online Delivery/Goa\",\"all/Online Delivery/Indore\",\"all/Online Delivery/Kanpur\",\"all/Online Delivery/Ludhiana\",\"all/Online Delivery/Hyderabad\",\"all/Online Delivery/Jaipur\",\"all/Online Delivery/New Delhi\",\"all/Online Delivery/Ahmedabad\",\"all/Online Delivery/Ghaziabad\",\"all/Online Delivery/Chandigarh\",\"all/Online Delivery/Bhubaneshwar\",\"all/Online Delivery/Amritsar\",\"all/Online Delivery/Aurangabad\",\"all/Online Delivery/Bhopal\",\"all/Online Delivery/Gurgaon\",\"all/Online Delivery/Vadodara\",\"all/Online Delivery/Vizag\",\"all/Online Delivery/Pune\",\"all/Online Delivery/Dehradun\",\"all/Online Delivery/Bangalore\",\"all/Online Delivery/Patna\",\"all/Online Delivery/Coimbatore\",\"all/Online Delivery/Mumbai\",\"all/Online Delivery/Panchkula\",\"all/Online Delivery/Nashik\",\"all/Online Delivery\",\"all/Online Delivery\",\"all/Online Delivery\",\"all/Online Delivery\",\"all/Online Delivery\",\"all/Online Delivery\",\"all/Online Delivery\",\"all/Online Delivery\",\"all/Online Delivery\",\"all/Online Delivery\",\"all/Online Delivery\",\"all/Online Delivery\",\"all/Online Delivery\",\"all/Online Delivery\",\"all/Online Delivery\",\"all/Online Delivery\",\"all/Online Delivery\",\"all/Online Delivery\",\"all/Online Delivery\",\"all/Online Delivery\",\"all/Online Delivery\",\"all/Online Delivery\",\"all/Online Delivery\",\"all/Online Delivery\",\"all/Online Delivery\",\"all/Online Delivery\",\"all/Online Delivery\",\"all/Online Delivery\",\"all/Online Delivery\",\"all/Online Delivery\",\"all/Online Delivery\",\"all/Online Delivery\",\"all/Online Delivery\",\"all/Online Delivery\",\"all/Online Delivery\",\"all/Online Delivery\",\"all/Online Delivery\",\"all/Online Delivery\",\"all/Online Delivery\",\"all/Online Delivery\",\"all/Online Delivery\",\"all/Online Delivery\",\"all\",\"\"],\"values\":[9.521494800613105,9.588776807696428,9.244741798693514,9.695848187757884,8.961879012677683,9.595602772766828,9.658226195968298,9.22029070282935,9.755567422459507,12.964890518579764,9.69830670159609,9.966462351697517,9.800900963761027,11.474704252150032,9.732105935780508,6.309918278226516,9.568014816247999,10.06475570013225,9.862665558015873,9.814656338829513,10.0519075576544,9.230142999272362,10.173514689749188,14.55641880192248,9.798127036878302,9.215327913487222,9.867860374892977,9.564512185696797,9.22029070282935,9.429475901892854,9.425451751593128,13.066152749567411,9.70503661381229,9.655026193237628,9.195226734166134,9.585346272599638,9.632334782035558,9.67721410821299,9.658226195968298,9.400960731584833,7.600902459542082,9.491752831414368,9.966462351697517,9.798127036878302,9.244741798693514,9.22029070282935,9.429475901892854,9.632334782035558,9.425451751593128,9.564512185696797,9.867860374892977,8.961879012677683,9.658226195968298,9.585346272599638,11.474704252150032,9.215327913487222,10.06475570013225,13.066152749567411,9.755567422459507,9.230142999272362,9.862665558015873,10.173514689749188,9.814656338829513,9.588776807696428,9.521494800613105,9.800900963761027,10.0519075576544,9.658226195968298,6.309918278226516,9.400960731584833,9.69830670159609,9.568014816247999,9.491752831414368,14.55641880192248,12.964890518579764,7.600902459542082,9.67721410821299,9.732105935780508,9.195226734166134,9.595602772766828,9.695848187757884,9.70503661381229,9.22029070282935,9.655026193237628,411.70101870448997,411.70101870448997],\"type\":\"icicle\"}],                        {\"template\":{\"data\":{\"bar\":[{\"error_x\":{\"color\":\"#2a3f5f\"},\"error_y\":{\"color\":\"#2a3f5f\"},\"marker\":{\"line\":{\"color\":\"#E5ECF6\",\"width\":0.5},\"pattern\":{\"fillmode\":\"overlay\",\"size\":10,\"solidity\":0.2}},\"type\":\"bar\"}],\"barpolar\":[{\"marker\":{\"line\":{\"color\":\"#E5ECF6\",\"width\":0.5},\"pattern\":{\"fillmode\":\"overlay\",\"size\":10,\"solidity\":0.2}},\"type\":\"barpolar\"}],\"carpet\":[{\"aaxis\":{\"endlinecolor\":\"#2a3f5f\",\"gridcolor\":\"white\",\"linecolor\":\"white\",\"minorgridcolor\":\"white\",\"startlinecolor\":\"#2a3f5f\"},\"baxis\":{\"endlinecolor\":\"#2a3f5f\",\"gridcolor\":\"white\",\"linecolor\":\"white\",\"minorgridcolor\":\"white\",\"startlinecolor\":\"#2a3f5f\"},\"type\":\"carpet\"}],\"choropleth\":[{\"colorbar\":{\"outlinewidth\":0,\"ticks\":\"\"},\"type\":\"choropleth\"}],\"contour\":[{\"colorbar\":{\"outlinewidth\":0,\"ticks\":\"\"},\"colorscale\":[[0.0,\"#0d0887\"],[0.1111111111111111,\"#46039f\"],[0.2222222222222222,\"#7201a8\"],[0.3333333333333333,\"#9c179e\"],[0.4444444444444444,\"#bd3786\"],[0.5555555555555556,\"#d8576b\"],[0.6666666666666666,\"#ed7953\"],[0.7777777777777778,\"#fb9f3a\"],[0.8888888888888888,\"#fdca26\"],[1.0,\"#f0f921\"]],\"type\":\"contour\"}],\"contourcarpet\":[{\"colorbar\":{\"outlinewidth\":0,\"ticks\":\"\"},\"type\":\"contourcarpet\"}],\"heatmap\":[{\"colorbar\":{\"outlinewidth\":0,\"ticks\":\"\"},\"colorscale\":[[0.0,\"#0d0887\"],[0.1111111111111111,\"#46039f\"],[0.2222222222222222,\"#7201a8\"],[0.3333333333333333,\"#9c179e\"],[0.4444444444444444,\"#bd3786\"],[0.5555555555555556,\"#d8576b\"],[0.6666666666666666,\"#ed7953\"],[0.7777777777777778,\"#fb9f3a\"],[0.8888888888888888,\"#fdca26\"],[1.0,\"#f0f921\"]],\"type\":\"heatmap\"}],\"heatmapgl\":[{\"colorbar\":{\"outlinewidth\":0,\"ticks\":\"\"},\"colorscale\":[[0.0,\"#0d0887\"],[0.1111111111111111,\"#46039f\"],[0.2222222222222222,\"#7201a8\"],[0.3333333333333333,\"#9c179e\"],[0.4444444444444444,\"#bd3786\"],[0.5555555555555556,\"#d8576b\"],[0.6666666666666666,\"#ed7953\"],[0.7777777777777778,\"#fb9f3a\"],[0.8888888888888888,\"#fdca26\"],[1.0,\"#f0f921\"]],\"type\":\"heatmapgl\"}],\"histogram\":[{\"marker\":{\"pattern\":{\"fillmode\":\"overlay\",\"size\":10,\"solidity\":0.2}},\"type\":\"histogram\"}],\"histogram2d\":[{\"colorbar\":{\"outlinewidth\":0,\"ticks\":\"\"},\"colorscale\":[[0.0,\"#0d0887\"],[0.1111111111111111,\"#46039f\"],[0.2222222222222222,\"#7201a8\"],[0.3333333333333333,\"#9c179e\"],[0.4444444444444444,\"#bd3786\"],[0.5555555555555556,\"#d8576b\"],[0.6666666666666666,\"#ed7953\"],[0.7777777777777778,\"#fb9f3a\"],[0.8888888888888888,\"#fdca26\"],[1.0,\"#f0f921\"]],\"type\":\"histogram2d\"}],\"histogram2dcontour\":[{\"colorbar\":{\"outlinewidth\":0,\"ticks\":\"\"},\"colorscale\":[[0.0,\"#0d0887\"],[0.1111111111111111,\"#46039f\"],[0.2222222222222222,\"#7201a8\"],[0.3333333333333333,\"#9c179e\"],[0.4444444444444444,\"#bd3786\"],[0.5555555555555556,\"#d8576b\"],[0.6666666666666666,\"#ed7953\"],[0.7777777777777778,\"#fb9f3a\"],[0.8888888888888888,\"#fdca26\"],[1.0,\"#f0f921\"]],\"type\":\"histogram2dcontour\"}],\"mesh3d\":[{\"colorbar\":{\"outlinewidth\":0,\"ticks\":\"\"},\"type\":\"mesh3d\"}],\"parcoords\":[{\"line\":{\"colorbar\":{\"outlinewidth\":0,\"ticks\":\"\"}},\"type\":\"parcoords\"}],\"pie\":[{\"automargin\":true,\"type\":\"pie\"}],\"scatter\":[{\"marker\":{\"colorbar\":{\"outlinewidth\":0,\"ticks\":\"\"}},\"type\":\"scatter\"}],\"scatter3d\":[{\"line\":{\"colorbar\":{\"outlinewidth\":0,\"ticks\":\"\"}},\"marker\":{\"colorbar\":{\"outlinewidth\":0,\"ticks\":\"\"}},\"type\":\"scatter3d\"}],\"scattercarpet\":[{\"marker\":{\"colorbar\":{\"outlinewidth\":0,\"ticks\":\"\"}},\"type\":\"scattercarpet\"}],\"scattergeo\":[{\"marker\":{\"colorbar\":{\"outlinewidth\":0,\"ticks\":\"\"}},\"type\":\"scattergeo\"}],\"scattergl\":[{\"marker\":{\"colorbar\":{\"outlinewidth\":0,\"ticks\":\"\"}},\"type\":\"scattergl\"}],\"scattermapbox\":[{\"marker\":{\"colorbar\":{\"outlinewidth\":0,\"ticks\":\"\"}},\"type\":\"scattermapbox\"}],\"scatterpolar\":[{\"marker\":{\"colorbar\":{\"outlinewidth\":0,\"ticks\":\"\"}},\"type\":\"scatterpolar\"}],\"scatterpolargl\":[{\"marker\":{\"colorbar\":{\"outlinewidth\":0,\"ticks\":\"\"}},\"type\":\"scatterpolargl\"}],\"scatterternary\":[{\"marker\":{\"colorbar\":{\"outlinewidth\":0,\"ticks\":\"\"}},\"type\":\"scatterternary\"}],\"surface\":[{\"colorbar\":{\"outlinewidth\":0,\"ticks\":\"\"},\"colorscale\":[[0.0,\"#0d0887\"],[0.1111111111111111,\"#46039f\"],[0.2222222222222222,\"#7201a8\"],[0.3333333333333333,\"#9c179e\"],[0.4444444444444444,\"#bd3786\"],[0.5555555555555556,\"#d8576b\"],[0.6666666666666666,\"#ed7953\"],[0.7777777777777778,\"#fb9f3a\"],[0.8888888888888888,\"#fdca26\"],[1.0,\"#f0f921\"]],\"type\":\"surface\"}],\"table\":[{\"cells\":{\"fill\":{\"color\":\"#EBF0F8\"},\"line\":{\"color\":\"white\"}},\"header\":{\"fill\":{\"color\":\"#C8D4E3\"},\"line\":{\"color\":\"white\"}},\"type\":\"table\"}]},\"layout\":{\"annotationdefaults\":{\"arrowcolor\":\"#2a3f5f\",\"arrowhead\":0,\"arrowwidth\":1},\"autotypenumbers\":\"strict\",\"coloraxis\":{\"colorbar\":{\"outlinewidth\":0,\"ticks\":\"\"}},\"colorscale\":{\"diverging\":[[0,\"#8e0152\"],[0.1,\"#c51b7d\"],[0.2,\"#de77ae\"],[0.3,\"#f1b6da\"],[0.4,\"#fde0ef\"],[0.5,\"#f7f7f7\"],[0.6,\"#e6f5d0\"],[0.7,\"#b8e186\"],[0.8,\"#7fbc41\"],[0.9,\"#4d9221\"],[1,\"#276419\"]],\"sequential\":[[0.0,\"#0d0887\"],[0.1111111111111111,\"#46039f\"],[0.2222222222222222,\"#7201a8\"],[0.3333333333333333,\"#9c179e\"],[0.4444444444444444,\"#bd3786\"],[0.5555555555555556,\"#d8576b\"],[0.6666666666666666,\"#ed7953\"],[0.7777777777777778,\"#fb9f3a\"],[0.8888888888888888,\"#fdca26\"],[1.0,\"#f0f921\"]],\"sequentialminus\":[[0.0,\"#0d0887\"],[0.1111111111111111,\"#46039f\"],[0.2222222222222222,\"#7201a8\"],[0.3333333333333333,\"#9c179e\"],[0.4444444444444444,\"#bd3786\"],[0.5555555555555556,\"#d8576b\"],[0.6666666666666666,\"#ed7953\"],[0.7777777777777778,\"#fb9f3a\"],[0.8888888888888888,\"#fdca26\"],[1.0,\"#f0f921\"]]},\"colorway\":[\"#636efa\",\"#EF553B\",\"#00cc96\",\"#ab63fa\",\"#FFA15A\",\"#19d3f3\",\"#FF6692\",\"#B6E880\",\"#FF97FF\",\"#FECB52\"],\"font\":{\"color\":\"#2a3f5f\"},\"geo\":{\"bgcolor\":\"white\",\"lakecolor\":\"white\",\"landcolor\":\"#E5ECF6\",\"showlakes\":true,\"showland\":true,\"subunitcolor\":\"white\"},\"hoverlabel\":{\"align\":\"left\"},\"hovermode\":\"closest\",\"mapbox\":{\"style\":\"light\"},\"paper_bgcolor\":\"white\",\"plot_bgcolor\":\"#E5ECF6\",\"polar\":{\"angularaxis\":{\"gridcolor\":\"white\",\"linecolor\":\"white\",\"ticks\":\"\"},\"bgcolor\":\"#E5ECF6\",\"radialaxis\":{\"gridcolor\":\"white\",\"linecolor\":\"white\",\"ticks\":\"\"}},\"scene\":{\"xaxis\":{\"backgroundcolor\":\"#E5ECF6\",\"gridcolor\":\"white\",\"gridwidth\":2,\"linecolor\":\"white\",\"showbackground\":true,\"ticks\":\"\",\"zerolinecolor\":\"white\"},\"yaxis\":{\"backgroundcolor\":\"#E5ECF6\",\"gridcolor\":\"white\",\"gridwidth\":2,\"linecolor\":\"white\",\"showbackground\":true,\"ticks\":\"\",\"zerolinecolor\":\"white\"},\"zaxis\":{\"backgroundcolor\":\"#E5ECF6\",\"gridcolor\":\"white\",\"gridwidth\":2,\"linecolor\":\"white\",\"showbackground\":true,\"ticks\":\"\",\"zerolinecolor\":\"white\"}},\"shapedefaults\":{\"line\":{\"color\":\"#2a3f5f\"}},\"ternary\":{\"aaxis\":{\"gridcolor\":\"white\",\"linecolor\":\"white\",\"ticks\":\"\"},\"baxis\":{\"gridcolor\":\"white\",\"linecolor\":\"white\",\"ticks\":\"\"},\"bgcolor\":\"#E5ECF6\",\"caxis\":{\"gridcolor\":\"white\",\"linecolor\":\"white\",\"ticks\":\"\"}},\"title\":{\"x\":0.05},\"xaxis\":{\"automargin\":true,\"gridcolor\":\"white\",\"linecolor\":\"white\",\"ticks\":\"\",\"title\":{\"standoff\":15},\"zerolinecolor\":\"white\",\"zerolinewidth\":2},\"yaxis\":{\"automargin\":true,\"gridcolor\":\"white\",\"linecolor\":\"white\",\"ticks\":\"\",\"title\":{\"standoff\":15},\"zerolinecolor\":\"white\",\"zerolinewidth\":2}}},\"legend\":{\"tracegroupgap\":0},\"margin\":{\"t\":50,\"l\":25,\"r\":25,\"b\":25}},                        {\"responsive\": true}                    ).then(function(){\n",
              "                            \n",
              "var gd = document.getElementById('2a6b5923-2b17-46dd-a278-f0445443fc18');\n",
              "var x = new MutationObserver(function (mutations, observer) {{\n",
              "        var display = window.getComputedStyle(gd).display;\n",
              "        if (!display || display === 'none') {{\n",
              "            console.log([gd, 'removed!']);\n",
              "            Plotly.purge(gd);\n",
              "            observer.disconnect();\n",
              "        }}\n",
              "}});\n",
              "\n",
              "// Listen for the removal of the full notebook cells\n",
              "var notebookContainer = gd.closest('#notebook-container');\n",
              "if (notebookContainer) {{\n",
              "    x.observe(notebookContainer, {childList: true});\n",
              "}}\n",
              "\n",
              "// Listen for the clearing of the current output cell\n",
              "var outputEl = gd.closest('.output');\n",
              "if (outputEl) {{\n",
              "    x.observe(outputEl, {childList: true});\n",
              "}}\n",
              "\n",
              "                        })                };                            </script>        </div>\n",
              "</body>\n",
              "</html>"
            ]
          },
          "metadata": {}
        }
      ],
      "source": [
        "fig2 = px.icicle(Indian_online_order, path=[px.Constant(\"all\"), 'Mode of Order','City',  \"State\"],\n",
        "                values='Total cost in log', color='State', hover_name = \"Total Cost in INR\", hover_data = [\"No of Orders\", \"Total Cost in INR\"])\n",
        "fig2.update_layout(margin = dict(t=50, l=25, r=25, b=25))"
      ]
    },
    {
      "cell_type": "markdown",
      "source": [
        "**Overall comparision of Indian cities revanue based on Dine IN and Online delivery**"
      ],
      "metadata": {
        "id": "abtKNh21wf9U"
      }
    },
    {
      "cell_type": "code",
      "execution_count": null,
      "metadata": {
        "colab": {
          "base_uri": "https://localhost:8080/",
          "height": 542
        },
        "id": "Sq2LmQ57hdl0",
        "outputId": "b1db9d83-c04a-4044-d73b-f3d698a97df1"
      },
      "outputs": [
        {
          "output_type": "display_data",
          "data": {
            "text/html": [
              "<html>\n",
              "<head><meta charset=\"utf-8\" /></head>\n",
              "<body>\n",
              "    <div>            <script src=\"https://cdnjs.cloudflare.com/ajax/libs/mathjax/2.7.5/MathJax.js?config=TeX-AMS-MML_SVG\"></script><script type=\"text/javascript\">if (window.MathJax) {MathJax.Hub.Config({SVG: {font: \"STIX-Web\"}});}</script>                <script type=\"text/javascript\">window.PlotlyConfig = {MathJaxConfig: 'local'};</script>\n",
              "        <script src=\"https://cdn.plot.ly/plotly-2.8.3.min.js\"></script>                <div id=\"bd135c3f-e12d-4fe4-bcee-02a6561b4258\" class=\"plotly-graph-div\" style=\"height:525px; width:100%;\"></div>            <script type=\"text/javascript\">                                    window.PLOTLYENV=window.PLOTLYENV || {};                                    if (document.getElementById(\"bd135c3f-e12d-4fe4-bcee-02a6561b4258\")) {                    Plotly.newPlot(                        \"bd135c3f-e12d-4fe4-bcee-02a6561b4258\",                        [{\"branchvalues\":\"total\",\"customdata\":[[11,13650.0,\"West Bengal\"],[13,16900.0,\"Maharashtra\"],[20,18300.0,\"Uttar Pradesh\"],[20,14600.0,\"Kochi Prefecture\"],[20,10350.0,\"Uttar Pradesh\"],[20,23500.0,\"Goa\"],[20,15950.0,\"Bihar\"],[9,9350.0,\"Maharashtra\"],[20,14300.0,\"Maharashtra\"],[20,14550.0,\"Uttarakhand\"],[20,10100.0,\"Uttar Pradesh\"],[914,472670.0,\"Haryana\"],[715,1164550.0,\"Delhi\"],[20,13250.0,\"Maharashtra\"],[22,10050.0,\"Uttar Pradesh\"],[968,427150.0,\"Uttar Pradesh\"],[20,15600.0,\"Andhra Pradesh\"],[8,10200.0,\"Sindh\"],[14,15250.0,\"Karnataka\"],[20,15650.0,\"Tamil Nadu\"],[20,23200.0,\"Punjab\"],[21,14250.0,\"Odisha\"],[20,15650.0,\"Karnataka\"],[236,96250.0,\"Faridabad\"],[20,21300.0,\"Uttar Pradesh\"],[2,1650.0,\"Telangana\"],[7,7800.0,\"Tamil Nadu\"],[6,9400.0,\"Karnataka\"],[20,16250.0,\"Gujarat\"],[112,155500.0,\"Uttar Pradesh\"],[20,16290.0,\"Karnataka\"],[21,18050.0,\"Uttar Pradesh\"],[20,14700.0,\"Jharkhand\"],[13,13900.0,\"Tamil Nadu\"],[10,14300.0,\"Sindh\"],[20,16850.0,\"Puducherry\"],[7,9850.0,\"Maharashtra\"],[4758,2097840.0,\"Delhi\"],[20,12400.0,\"Madhya Pradesh\"],[21,17250.0,\"Assam\"],[20,19200.0,\"Madhya Pradesh\"],[20,16400.0,\"Gujarat\"],[3,5000.0,\"Uttar Pradesh\"],[204,325600.0,\"Haryana\"],[1,2000.0,\"Haryana\"],[21,18000.0,\"Gujarat\"],[18,19300.0,\"Chandigarh\"],[11,12100.0,\"Maharashtra\"],[9,11800.0,\"West Bengal\"],[21,10100.0,\"Punjab\"],[20,26200.0,\"Rajasthan\"],[20,12450.0,\"Maharashtra\"],[15,16100.0,\"Faridabad\"],[1,550.0,\"Punjab\"],[20,21300.0,\"Uttar Pradesh\"],[21,18000.0,\"Gujarat\"],[20,10350.0,\"Uttar Pradesh\"],[21,10100.0,\"Punjab\"],[20,12450.0,\"Maharashtra\"],[6,9400.0,\"Karnataka\"],[14,15250.0,\"Karnataka\"],[20,12400.0,\"Madhya Pradesh\"],[21,14250.0,\"Odisha\"],[18,19300.0,\"Chandigarh\"],[13,13900.0,\"Tamil Nadu\"],[7,7800.0,\"Tamil Nadu\"],[20,15650.0,\"Tamil Nadu\"],[20,14550.0,\"Uttarakhand\"],[15,16100.0,\"Faridabad\"],[236,96250.0,\"Faridabad\"],[3,5000.0,\"Uttar Pradesh\"],[22,10050.0,\"Uttar Pradesh\"],[20,23500.0,\"Goa\"],[204,325600.0,\"Haryana\"],[914,472670.0,\"Haryana\"],[21,17250.0,\"Assam\"],[10,14300.0,\"Sindh\"],[8,10200.0,\"Sindh\"],[20,19200.0,\"Madhya Pradesh\"],[20,26200.0,\"Rajasthan\"],[20,18300.0,\"Uttar Pradesh\"],[20,14600.0,\"Kochi Prefecture\"],[9,11800.0,\"West Bengal\"],[11,13650.0,\"West Bengal\"],[21,18050.0,\"Uttar Pradesh\"],[20,23200.0,\"Punjab\"],[20,15650.0,\"Karnataka\"],[1,550.0,\"Punjab\"],[9,9350.0,\"Maharashtra\"],[11,12100.0,\"Maharashtra\"],[20,16290.0,\"Karnataka\"],[20,14300.0,\"Maharashtra\"],[20,13250.0,\"Maharashtra\"],[715,1164550.0,\"Delhi\"],[4758,2097840.0,\"Delhi\"],[112,155500.0,\"Uttar Pradesh\"],[968,427150.0,\"Uttar Pradesh\"],[1,2000.0,\"Haryana\"],[20,15950.0,\"Bihar\"],[20,16850.0,\"Puducherry\"],[13,16900.0,\"Maharashtra\"],[7,9850.0,\"Maharashtra\"],[20,14700.0,\"Jharkhand\"],[2,1650.0,\"Telangana\"],[20,16250.0,\"Gujarat\"],[20,16400.0,\"Gujarat\"],[20,10100.0,\"Uttar Pradesh\"],[20,15600.0,\"Andhra Pradesh\"],[\"(?)\",\"(?)\",\"(?)\"],[\"(?)\",\"(?)\",\"(?)\"],[\"(?)\",\"(?)\",\"(?)\"]],\"domain\":{\"x\":[0.0,1.0],\"y\":[0.0,1.0]},\"hovertemplate\":\"<b>%{hovertext}</b><br><br>labels=%{label}<br>Total cost in log=%{value}<br>parent=%{parent}<br>id=%{id}<br>No of Orders=%{customdata[0]}<br>Total Cost in INR=%{customdata[1]}<br>State=%{customdata[2]}<extra></extra>\",\"hovertext\":[13650.0,16900.0,18300.0,14600.0,10350.0,23500.0,15950.0,9350.0,14300.0,14550.0,10100.0,472670.0,1164550.0,13250.0,10050.0,427150.0,15600.0,10200.0,15250.0,15650.0,23200.0,14250.0,15650.0,96250.0,21300.0,1650.0,7800.0,9400.0,16250.0,155500.0,16290.0,18050.0,14700.0,13900.0,14300.0,16850.0,9850.0,2097840.0,12400.0,17250.0,19200.0,16400.0,5000.0,325600.0,2000.0,18000.0,19300.0,12100.0,11800.0,10100.0,26200.0,12450.0,16100.0,550.0,21300.0,18000.0,10350.0,10100.0,12450.0,9400.0,15250.0,12400.0,14250.0,19300.0,13900.0,7800.0,15650.0,14550.0,16100.0,96250.0,5000.0,10050.0,23500.0,325600.0,472670.0,17250.0,14300.0,10200.0,19200.0,26200.0,18300.0,14600.0,11800.0,13650.0,18050.0,23200.0,15650.0,550.0,9350.0,12100.0,16290.0,14300.0,13250.0,1164550.0,2097840.0,155500.0,427150.0,2000.0,15950.0,16850.0,16900.0,9850.0,14700.0,1650.0,16250.0,16400.0,10100.0,15600.0,\"(?)\",\"(?)\",\"(?)\"],\"ids\":[\"all/Online Delivery/Kolkata/West Bengal\",\"all/Dine In/Pune/Maharashtra\",\"all/Online Delivery/Kanpur/Uttar Pradesh\",\"all/Online Delivery/Kochi/Kochi Prefecture\",\"all/Online Delivery/Allahabad/Uttar Pradesh\",\"all/Online Delivery/Goa/Goa\",\"all/Online Delivery/Patna/Bihar\",\"all/Dine In/Mumbai/Maharashtra\",\"all/Online Delivery/Nagpur/Maharashtra\",\"all/Online Delivery/Dehradun/Uttarakhand\",\"all/Online Delivery/Varanasi/Uttar Pradesh\",\"all/Online Delivery/Gurgaon/Haryana\",\"all/Dine In/New Delhi/Delhi\",\"all/Online Delivery/Nashik/Maharashtra\",\"all/Online Delivery/Ghaziabad/Uttar Pradesh\",\"all/Online Delivery/Noida/Uttar Pradesh\",\"all/Online Delivery/Vizag/Andhra Pradesh\",\"all/Online Delivery/Hyderabad/Sindh\",\"all/Online Delivery/Bangalore/Karnataka\",\"all/Online Delivery/Coimbatore/Tamil Nadu\",\"all/Online Delivery/Ludhiana/Punjab\",\"all/Online Delivery/Bhubaneshwar/Odisha\",\"all/Online Delivery/Mangalore/Karnataka\",\"all/Online Delivery/Faridabad/Faridabad\",\"all/Online Delivery/Agra/Uttar Pradesh\",\"all/Dine In/Secunderabad/Telangana\",\"all/Online Delivery/Chennai/Tamil Nadu\",\"all/Dine In/Bangalore/Karnataka\",\"all/Online Delivery/Surat/Gujarat\",\"all/Dine In/Noida/Uttar Pradesh\",\"all/Online Delivery/Mysore/Karnataka\",\"all/Online Delivery/Lucknow/Uttar Pradesh\",\"all/Online Delivery/Ranchi/Jharkhand\",\"all/Dine In/Chennai/Tamil Nadu\",\"all/Dine In/Hyderabad/Sindh\",\"all/Online Delivery/Puducherry/Puducherry\",\"all/Online Delivery/Pune/Maharashtra\",\"all/Online Delivery/New Delhi/Delhi\",\"all/Online Delivery/Bhopal/Madhya Pradesh\",\"all/Online Delivery/Guwahati/Assam\",\"all/Online Delivery/Indore/Madhya Pradesh\",\"all/Online Delivery/Vadodara/Gujarat\",\"all/Dine In/Ghaziabad/Uttar Pradesh\",\"all/Dine In/Gurgaon/Haryana\",\"all/Online Delivery/Panchkula/Haryana\",\"all/Online Delivery/Ahmedabad/Gujarat\",\"all/Online Delivery/Chandigarh/Chandigarh\",\"all/Online Delivery/Mumbai/Maharashtra\",\"all/Dine In/Kolkata/West Bengal\",\"all/Online Delivery/Amritsar/Punjab\",\"all/Online Delivery/Jaipur/Rajasthan\",\"all/Online Delivery/Aurangabad/Maharashtra\",\"all/Dine In/Faridabad/Faridabad\",\"all/Online Delivery/Mohali/Punjab\",\"all/Online Delivery/Agra\",\"all/Online Delivery/Ahmedabad\",\"all/Online Delivery/Allahabad\",\"all/Online Delivery/Amritsar\",\"all/Online Delivery/Aurangabad\",\"all/Dine In/Bangalore\",\"all/Online Delivery/Bangalore\",\"all/Online Delivery/Bhopal\",\"all/Online Delivery/Bhubaneshwar\",\"all/Online Delivery/Chandigarh\",\"all/Dine In/Chennai\",\"all/Online Delivery/Chennai\",\"all/Online Delivery/Coimbatore\",\"all/Online Delivery/Dehradun\",\"all/Dine In/Faridabad\",\"all/Online Delivery/Faridabad\",\"all/Dine In/Ghaziabad\",\"all/Online Delivery/Ghaziabad\",\"all/Online Delivery/Goa\",\"all/Dine In/Gurgaon\",\"all/Online Delivery/Gurgaon\",\"all/Online Delivery/Guwahati\",\"all/Dine In/Hyderabad\",\"all/Online Delivery/Hyderabad\",\"all/Online Delivery/Indore\",\"all/Online Delivery/Jaipur\",\"all/Online Delivery/Kanpur\",\"all/Online Delivery/Kochi\",\"all/Dine In/Kolkata\",\"all/Online Delivery/Kolkata\",\"all/Online Delivery/Lucknow\",\"all/Online Delivery/Ludhiana\",\"all/Online Delivery/Mangalore\",\"all/Online Delivery/Mohali\",\"all/Dine In/Mumbai\",\"all/Online Delivery/Mumbai\",\"all/Online Delivery/Mysore\",\"all/Online Delivery/Nagpur\",\"all/Online Delivery/Nashik\",\"all/Dine In/New Delhi\",\"all/Online Delivery/New Delhi\",\"all/Dine In/Noida\",\"all/Online Delivery/Noida\",\"all/Online Delivery/Panchkula\",\"all/Online Delivery/Patna\",\"all/Online Delivery/Puducherry\",\"all/Dine In/Pune\",\"all/Online Delivery/Pune\",\"all/Online Delivery/Ranchi\",\"all/Dine In/Secunderabad\",\"all/Online Delivery/Surat\",\"all/Online Delivery/Vadodara\",\"all/Online Delivery/Varanasi\",\"all/Online Delivery/Vizag\",\"all/Dine In\",\"all/Online Delivery\",\"all\"],\"labels\":[\"West Bengal\",\"Maharashtra\",\"Uttar Pradesh\",\"Kochi Prefecture\",\"Uttar Pradesh\",\"Goa\",\"Bihar\",\"Maharashtra\",\"Maharashtra\",\"Uttarakhand\",\"Uttar Pradesh\",\"Haryana\",\"Delhi\",\"Maharashtra\",\"Uttar Pradesh\",\"Uttar Pradesh\",\"Andhra Pradesh\",\"Sindh\",\"Karnataka\",\"Tamil Nadu\",\"Punjab\",\"Odisha\",\"Karnataka\",\"Faridabad\",\"Uttar Pradesh\",\"Telangana\",\"Tamil Nadu\",\"Karnataka\",\"Gujarat\",\"Uttar Pradesh\",\"Karnataka\",\"Uttar Pradesh\",\"Jharkhand\",\"Tamil Nadu\",\"Sindh\",\"Puducherry\",\"Maharashtra\",\"Delhi\",\"Madhya Pradesh\",\"Assam\",\"Madhya Pradesh\",\"Gujarat\",\"Uttar Pradesh\",\"Haryana\",\"Haryana\",\"Gujarat\",\"Chandigarh\",\"Maharashtra\",\"West Bengal\",\"Punjab\",\"Rajasthan\",\"Maharashtra\",\"Faridabad\",\"Punjab\",\"Agra\",\"Ahmedabad\",\"Allahabad\",\"Amritsar\",\"Aurangabad\",\"Bangalore\",\"Bangalore\",\"Bhopal\",\"Bhubaneshwar\",\"Chandigarh\",\"Chennai\",\"Chennai\",\"Coimbatore\",\"Dehradun\",\"Faridabad\",\"Faridabad\",\"Ghaziabad\",\"Ghaziabad\",\"Goa\",\"Gurgaon\",\"Gurgaon\",\"Guwahati\",\"Hyderabad\",\"Hyderabad\",\"Indore\",\"Jaipur\",\"Kanpur\",\"Kochi\",\"Kolkata\",\"Kolkata\",\"Lucknow\",\"Ludhiana\",\"Mangalore\",\"Mohali\",\"Mumbai\",\"Mumbai\",\"Mysore\",\"Nagpur\",\"Nashik\",\"New Delhi\",\"New Delhi\",\"Noida\",\"Noida\",\"Panchkula\",\"Patna\",\"Puducherry\",\"Pune\",\"Pune\",\"Ranchi\",\"Secunderabad\",\"Surat\",\"Vadodara\",\"Varanasi\",\"Vizag\",\"Dine In\",\"Online Delivery\",\"all\"],\"marker\":{\"colors\":[\"#636efa\",\"#EF553B\",\"#00cc96\",\"#ab63fa\",\"#00cc96\",\"#FFA15A\",\"#19d3f3\",\"#EF553B\",\"#EF553B\",\"#FF6692\",\"#00cc96\",\"#B6E880\",\"#FF97FF\",\"#EF553B\",\"#00cc96\",\"#00cc96\",\"#FECB52\",\"#636efa\",\"#EF553B\",\"#00cc96\",\"#ab63fa\",\"#FFA15A\",\"#EF553B\",\"#19d3f3\",\"#00cc96\",\"#FF6692\",\"#00cc96\",\"#EF553B\",\"#B6E880\",\"#00cc96\",\"#EF553B\",\"#00cc96\",\"#FF97FF\",\"#00cc96\",\"#636efa\",\"#FECB52\",\"#EF553B\",\"#FF97FF\",\"#636efa\",\"#EF553B\",\"#636efa\",\"#B6E880\",\"#00cc96\",\"#B6E880\",\"#B6E880\",\"#B6E880\",\"#00cc96\",\"#EF553B\",\"#636efa\",\"#ab63fa\",\"#ab63fa\",\"#EF553B\",\"#19d3f3\",\"#ab63fa\",\"#00cc96\",\"#B6E880\",\"#00cc96\",\"#ab63fa\",\"#EF553B\",\"#EF553B\",\"#EF553B\",\"#636efa\",\"#FFA15A\",\"#00cc96\",\"#00cc96\",\"#00cc96\",\"#00cc96\",\"#FF6692\",\"#19d3f3\",\"#19d3f3\",\"#00cc96\",\"#00cc96\",\"#FFA15A\",\"#B6E880\",\"#B6E880\",\"#EF553B\",\"#636efa\",\"#636efa\",\"#636efa\",\"#ab63fa\",\"#00cc96\",\"#ab63fa\",\"#636efa\",\"#636efa\",\"#00cc96\",\"#ab63fa\",\"#EF553B\",\"#ab63fa\",\"#EF553B\",\"#EF553B\",\"#EF553B\",\"#EF553B\",\"#EF553B\",\"#FF97FF\",\"#FF97FF\",\"#00cc96\",\"#00cc96\",\"#B6E880\",\"#19d3f3\",\"#FECB52\",\"#EF553B\",\"#EF553B\",\"#FF97FF\",\"#FF6692\",\"#B6E880\",\"#B6E880\",\"#00cc96\",\"#FECB52\",\"#FFA15A\",\"#FFA15A\",\"#FFA15A\"]},\"name\":\"\",\"parents\":[\"all/Online Delivery/Kolkata\",\"all/Dine In/Pune\",\"all/Online Delivery/Kanpur\",\"all/Online Delivery/Kochi\",\"all/Online Delivery/Allahabad\",\"all/Online Delivery/Goa\",\"all/Online Delivery/Patna\",\"all/Dine In/Mumbai\",\"all/Online Delivery/Nagpur\",\"all/Online Delivery/Dehradun\",\"all/Online Delivery/Varanasi\",\"all/Online Delivery/Gurgaon\",\"all/Dine In/New Delhi\",\"all/Online Delivery/Nashik\",\"all/Online Delivery/Ghaziabad\",\"all/Online Delivery/Noida\",\"all/Online Delivery/Vizag\",\"all/Online Delivery/Hyderabad\",\"all/Online Delivery/Bangalore\",\"all/Online Delivery/Coimbatore\",\"all/Online Delivery/Ludhiana\",\"all/Online Delivery/Bhubaneshwar\",\"all/Online Delivery/Mangalore\",\"all/Online Delivery/Faridabad\",\"all/Online Delivery/Agra\",\"all/Dine In/Secunderabad\",\"all/Online Delivery/Chennai\",\"all/Dine In/Bangalore\",\"all/Online Delivery/Surat\",\"all/Dine In/Noida\",\"all/Online Delivery/Mysore\",\"all/Online Delivery/Lucknow\",\"all/Online Delivery/Ranchi\",\"all/Dine In/Chennai\",\"all/Dine In/Hyderabad\",\"all/Online Delivery/Puducherry\",\"all/Online Delivery/Pune\",\"all/Online Delivery/New Delhi\",\"all/Online Delivery/Bhopal\",\"all/Online Delivery/Guwahati\",\"all/Online Delivery/Indore\",\"all/Online Delivery/Vadodara\",\"all/Dine In/Ghaziabad\",\"all/Dine In/Gurgaon\",\"all/Online Delivery/Panchkula\",\"all/Online Delivery/Ahmedabad\",\"all/Online Delivery/Chandigarh\",\"all/Online Delivery/Mumbai\",\"all/Dine In/Kolkata\",\"all/Online Delivery/Amritsar\",\"all/Online Delivery/Jaipur\",\"all/Online Delivery/Aurangabad\",\"all/Dine In/Faridabad\",\"all/Online Delivery/Mohali\",\"all/Online Delivery\",\"all/Online Delivery\",\"all/Online Delivery\",\"all/Online Delivery\",\"all/Online Delivery\",\"all/Dine In\",\"all/Online Delivery\",\"all/Online Delivery\",\"all/Online Delivery\",\"all/Online Delivery\",\"all/Dine In\",\"all/Online Delivery\",\"all/Online Delivery\",\"all/Online Delivery\",\"all/Dine In\",\"all/Online Delivery\",\"all/Dine In\",\"all/Online Delivery\",\"all/Online Delivery\",\"all/Dine In\",\"all/Online Delivery\",\"all/Online Delivery\",\"all/Dine In\",\"all/Online Delivery\",\"all/Online Delivery\",\"all/Online Delivery\",\"all/Online Delivery\",\"all/Online Delivery\",\"all/Dine In\",\"all/Online Delivery\",\"all/Online Delivery\",\"all/Online Delivery\",\"all/Online Delivery\",\"all/Online Delivery\",\"all/Dine In\",\"all/Online Delivery\",\"all/Online Delivery\",\"all/Online Delivery\",\"all/Online Delivery\",\"all/Dine In\",\"all/Online Delivery\",\"all/Dine In\",\"all/Online Delivery\",\"all/Online Delivery\",\"all/Online Delivery\",\"all/Online Delivery\",\"all/Dine In\",\"all/Online Delivery\",\"all/Online Delivery\",\"all/Dine In\",\"all/Online Delivery\",\"all/Online Delivery\",\"all/Online Delivery\",\"all/Online Delivery\",\"all\",\"all\",\"\"],\"values\":[9.521494800613105,9.735068900911164,9.814656338829513,9.588776807696428,9.244741798693514,10.06475570013225,9.67721410821299,9.143131622282732,9.568014816247999,9.585346272599638,9.22029070282935,13.066152749567411,13.967845304267554,9.491752831414368,9.215327913487222,12.964890518579764,9.655026193237628,9.230142999272362,9.632334782035558,9.658226195968298,10.0519075576544,9.564512185696797,9.658226195968298,11.474704252150032,9.966462351697517,7.408530566894626,8.961879012677683,9.148464968258095,9.695848187757884,11.954401010601426,9.69830670159609,9.800900963761027,9.595602772766828,9.539644119118783,9.568014816247999,9.732105935780508,9.195226734166134,14.55641880192248,9.425451751593128,9.755567422459507,9.862665558015873,9.70503661381229,8.517193191416238,12.693424913110523,7.600902459542082,9.798127036878302,9.867860374892977,9.400960731584833,9.375854810453756,9.22029070282935,10.173514689749188,9.429475901892854,9.686574550972555,6.309918278226516,9.966462351697517,9.798127036878302,9.244741798693514,9.22029070282935,9.429475901892854,9.148464968258095,9.632334782035558,9.425451751593128,9.564512185696797,9.867860374892977,9.539644119118783,8.961879012677683,9.658226195968298,9.585346272599638,9.686574550972555,11.474704252150032,8.517193191416238,9.215327913487222,10.06475570013225,12.693424913110523,13.066152749567411,9.755567422459507,9.568014816247999,9.230142999272362,9.862665558015873,10.173514689749188,9.814656338829513,9.588776807696428,9.375854810453756,9.521494800613105,9.800900963761027,10.0519075576544,9.658226195968298,6.309918278226516,9.143131622282732,9.400960731584833,9.69830670159609,9.568014816247999,9.491752831414368,13.967845304267554,14.55641880192248,11.954401010601426,12.964890518579764,7.600902459542082,9.67721410821299,9.732105935780508,9.735068900911164,9.195226734166134,9.595602772766828,7.408530566894626,9.695848187757884,9.70503661381229,9.22029070282935,9.655026193237628,120.73814877453545,411.70101870448997,532.4391674790254],\"type\":\"icicle\"}],                        {\"template\":{\"data\":{\"bar\":[{\"error_x\":{\"color\":\"#2a3f5f\"},\"error_y\":{\"color\":\"#2a3f5f\"},\"marker\":{\"line\":{\"color\":\"#E5ECF6\",\"width\":0.5},\"pattern\":{\"fillmode\":\"overlay\",\"size\":10,\"solidity\":0.2}},\"type\":\"bar\"}],\"barpolar\":[{\"marker\":{\"line\":{\"color\":\"#E5ECF6\",\"width\":0.5},\"pattern\":{\"fillmode\":\"overlay\",\"size\":10,\"solidity\":0.2}},\"type\":\"barpolar\"}],\"carpet\":[{\"aaxis\":{\"endlinecolor\":\"#2a3f5f\",\"gridcolor\":\"white\",\"linecolor\":\"white\",\"minorgridcolor\":\"white\",\"startlinecolor\":\"#2a3f5f\"},\"baxis\":{\"endlinecolor\":\"#2a3f5f\",\"gridcolor\":\"white\",\"linecolor\":\"white\",\"minorgridcolor\":\"white\",\"startlinecolor\":\"#2a3f5f\"},\"type\":\"carpet\"}],\"choropleth\":[{\"colorbar\":{\"outlinewidth\":0,\"ticks\":\"\"},\"type\":\"choropleth\"}],\"contour\":[{\"colorbar\":{\"outlinewidth\":0,\"ticks\":\"\"},\"colorscale\":[[0.0,\"#0d0887\"],[0.1111111111111111,\"#46039f\"],[0.2222222222222222,\"#7201a8\"],[0.3333333333333333,\"#9c179e\"],[0.4444444444444444,\"#bd3786\"],[0.5555555555555556,\"#d8576b\"],[0.6666666666666666,\"#ed7953\"],[0.7777777777777778,\"#fb9f3a\"],[0.8888888888888888,\"#fdca26\"],[1.0,\"#f0f921\"]],\"type\":\"contour\"}],\"contourcarpet\":[{\"colorbar\":{\"outlinewidth\":0,\"ticks\":\"\"},\"type\":\"contourcarpet\"}],\"heatmap\":[{\"colorbar\":{\"outlinewidth\":0,\"ticks\":\"\"},\"colorscale\":[[0.0,\"#0d0887\"],[0.1111111111111111,\"#46039f\"],[0.2222222222222222,\"#7201a8\"],[0.3333333333333333,\"#9c179e\"],[0.4444444444444444,\"#bd3786\"],[0.5555555555555556,\"#d8576b\"],[0.6666666666666666,\"#ed7953\"],[0.7777777777777778,\"#fb9f3a\"],[0.8888888888888888,\"#fdca26\"],[1.0,\"#f0f921\"]],\"type\":\"heatmap\"}],\"heatmapgl\":[{\"colorbar\":{\"outlinewidth\":0,\"ticks\":\"\"},\"colorscale\":[[0.0,\"#0d0887\"],[0.1111111111111111,\"#46039f\"],[0.2222222222222222,\"#7201a8\"],[0.3333333333333333,\"#9c179e\"],[0.4444444444444444,\"#bd3786\"],[0.5555555555555556,\"#d8576b\"],[0.6666666666666666,\"#ed7953\"],[0.7777777777777778,\"#fb9f3a\"],[0.8888888888888888,\"#fdca26\"],[1.0,\"#f0f921\"]],\"type\":\"heatmapgl\"}],\"histogram\":[{\"marker\":{\"pattern\":{\"fillmode\":\"overlay\",\"size\":10,\"solidity\":0.2}},\"type\":\"histogram\"}],\"histogram2d\":[{\"colorbar\":{\"outlinewidth\":0,\"ticks\":\"\"},\"colorscale\":[[0.0,\"#0d0887\"],[0.1111111111111111,\"#46039f\"],[0.2222222222222222,\"#7201a8\"],[0.3333333333333333,\"#9c179e\"],[0.4444444444444444,\"#bd3786\"],[0.5555555555555556,\"#d8576b\"],[0.6666666666666666,\"#ed7953\"],[0.7777777777777778,\"#fb9f3a\"],[0.8888888888888888,\"#fdca26\"],[1.0,\"#f0f921\"]],\"type\":\"histogram2d\"}],\"histogram2dcontour\":[{\"colorbar\":{\"outlinewidth\":0,\"ticks\":\"\"},\"colorscale\":[[0.0,\"#0d0887\"],[0.1111111111111111,\"#46039f\"],[0.2222222222222222,\"#7201a8\"],[0.3333333333333333,\"#9c179e\"],[0.4444444444444444,\"#bd3786\"],[0.5555555555555556,\"#d8576b\"],[0.6666666666666666,\"#ed7953\"],[0.7777777777777778,\"#fb9f3a\"],[0.8888888888888888,\"#fdca26\"],[1.0,\"#f0f921\"]],\"type\":\"histogram2dcontour\"}],\"mesh3d\":[{\"colorbar\":{\"outlinewidth\":0,\"ticks\":\"\"},\"type\":\"mesh3d\"}],\"parcoords\":[{\"line\":{\"colorbar\":{\"outlinewidth\":0,\"ticks\":\"\"}},\"type\":\"parcoords\"}],\"pie\":[{\"automargin\":true,\"type\":\"pie\"}],\"scatter\":[{\"marker\":{\"colorbar\":{\"outlinewidth\":0,\"ticks\":\"\"}},\"type\":\"scatter\"}],\"scatter3d\":[{\"line\":{\"colorbar\":{\"outlinewidth\":0,\"ticks\":\"\"}},\"marker\":{\"colorbar\":{\"outlinewidth\":0,\"ticks\":\"\"}},\"type\":\"scatter3d\"}],\"scattercarpet\":[{\"marker\":{\"colorbar\":{\"outlinewidth\":0,\"ticks\":\"\"}},\"type\":\"scattercarpet\"}],\"scattergeo\":[{\"marker\":{\"colorbar\":{\"outlinewidth\":0,\"ticks\":\"\"}},\"type\":\"scattergeo\"}],\"scattergl\":[{\"marker\":{\"colorbar\":{\"outlinewidth\":0,\"ticks\":\"\"}},\"type\":\"scattergl\"}],\"scattermapbox\":[{\"marker\":{\"colorbar\":{\"outlinewidth\":0,\"ticks\":\"\"}},\"type\":\"scattermapbox\"}],\"scatterpolar\":[{\"marker\":{\"colorbar\":{\"outlinewidth\":0,\"ticks\":\"\"}},\"type\":\"scatterpolar\"}],\"scatterpolargl\":[{\"marker\":{\"colorbar\":{\"outlinewidth\":0,\"ticks\":\"\"}},\"type\":\"scatterpolargl\"}],\"scatterternary\":[{\"marker\":{\"colorbar\":{\"outlinewidth\":0,\"ticks\":\"\"}},\"type\":\"scatterternary\"}],\"surface\":[{\"colorbar\":{\"outlinewidth\":0,\"ticks\":\"\"},\"colorscale\":[[0.0,\"#0d0887\"],[0.1111111111111111,\"#46039f\"],[0.2222222222222222,\"#7201a8\"],[0.3333333333333333,\"#9c179e\"],[0.4444444444444444,\"#bd3786\"],[0.5555555555555556,\"#d8576b\"],[0.6666666666666666,\"#ed7953\"],[0.7777777777777778,\"#fb9f3a\"],[0.8888888888888888,\"#fdca26\"],[1.0,\"#f0f921\"]],\"type\":\"surface\"}],\"table\":[{\"cells\":{\"fill\":{\"color\":\"#EBF0F8\"},\"line\":{\"color\":\"white\"}},\"header\":{\"fill\":{\"color\":\"#C8D4E3\"},\"line\":{\"color\":\"white\"}},\"type\":\"table\"}]},\"layout\":{\"annotationdefaults\":{\"arrowcolor\":\"#2a3f5f\",\"arrowhead\":0,\"arrowwidth\":1},\"autotypenumbers\":\"strict\",\"coloraxis\":{\"colorbar\":{\"outlinewidth\":0,\"ticks\":\"\"}},\"colorscale\":{\"diverging\":[[0,\"#8e0152\"],[0.1,\"#c51b7d\"],[0.2,\"#de77ae\"],[0.3,\"#f1b6da\"],[0.4,\"#fde0ef\"],[0.5,\"#f7f7f7\"],[0.6,\"#e6f5d0\"],[0.7,\"#b8e186\"],[0.8,\"#7fbc41\"],[0.9,\"#4d9221\"],[1,\"#276419\"]],\"sequential\":[[0.0,\"#0d0887\"],[0.1111111111111111,\"#46039f\"],[0.2222222222222222,\"#7201a8\"],[0.3333333333333333,\"#9c179e\"],[0.4444444444444444,\"#bd3786\"],[0.5555555555555556,\"#d8576b\"],[0.6666666666666666,\"#ed7953\"],[0.7777777777777778,\"#fb9f3a\"],[0.8888888888888888,\"#fdca26\"],[1.0,\"#f0f921\"]],\"sequentialminus\":[[0.0,\"#0d0887\"],[0.1111111111111111,\"#46039f\"],[0.2222222222222222,\"#7201a8\"],[0.3333333333333333,\"#9c179e\"],[0.4444444444444444,\"#bd3786\"],[0.5555555555555556,\"#d8576b\"],[0.6666666666666666,\"#ed7953\"],[0.7777777777777778,\"#fb9f3a\"],[0.8888888888888888,\"#fdca26\"],[1.0,\"#f0f921\"]]},\"colorway\":[\"#636efa\",\"#EF553B\",\"#00cc96\",\"#ab63fa\",\"#FFA15A\",\"#19d3f3\",\"#FF6692\",\"#B6E880\",\"#FF97FF\",\"#FECB52\"],\"font\":{\"color\":\"#2a3f5f\"},\"geo\":{\"bgcolor\":\"white\",\"lakecolor\":\"white\",\"landcolor\":\"#E5ECF6\",\"showlakes\":true,\"showland\":true,\"subunitcolor\":\"white\"},\"hoverlabel\":{\"align\":\"left\"},\"hovermode\":\"closest\",\"mapbox\":{\"style\":\"light\"},\"paper_bgcolor\":\"white\",\"plot_bgcolor\":\"#E5ECF6\",\"polar\":{\"angularaxis\":{\"gridcolor\":\"white\",\"linecolor\":\"white\",\"ticks\":\"\"},\"bgcolor\":\"#E5ECF6\",\"radialaxis\":{\"gridcolor\":\"white\",\"linecolor\":\"white\",\"ticks\":\"\"}},\"scene\":{\"xaxis\":{\"backgroundcolor\":\"#E5ECF6\",\"gridcolor\":\"white\",\"gridwidth\":2,\"linecolor\":\"white\",\"showbackground\":true,\"ticks\":\"\",\"zerolinecolor\":\"white\"},\"yaxis\":{\"backgroundcolor\":\"#E5ECF6\",\"gridcolor\":\"white\",\"gridwidth\":2,\"linecolor\":\"white\",\"showbackground\":true,\"ticks\":\"\",\"zerolinecolor\":\"white\"},\"zaxis\":{\"backgroundcolor\":\"#E5ECF6\",\"gridcolor\":\"white\",\"gridwidth\":2,\"linecolor\":\"white\",\"showbackground\":true,\"ticks\":\"\",\"zerolinecolor\":\"white\"}},\"shapedefaults\":{\"line\":{\"color\":\"#2a3f5f\"}},\"ternary\":{\"aaxis\":{\"gridcolor\":\"white\",\"linecolor\":\"white\",\"ticks\":\"\"},\"baxis\":{\"gridcolor\":\"white\",\"linecolor\":\"white\",\"ticks\":\"\"},\"bgcolor\":\"#E5ECF6\",\"caxis\":{\"gridcolor\":\"white\",\"linecolor\":\"white\",\"ticks\":\"\"}},\"title\":{\"x\":0.05},\"xaxis\":{\"automargin\":true,\"gridcolor\":\"white\",\"linecolor\":\"white\",\"ticks\":\"\",\"title\":{\"standoff\":15},\"zerolinecolor\":\"white\",\"zerolinewidth\":2},\"yaxis\":{\"automargin\":true,\"gridcolor\":\"white\",\"linecolor\":\"white\",\"ticks\":\"\",\"title\":{\"standoff\":15},\"zerolinecolor\":\"white\",\"zerolinewidth\":2}}},\"legend\":{\"tracegroupgap\":0},\"margin\":{\"t\":50,\"l\":25,\"r\":25,\"b\":25}},                        {\"responsive\": true}                    ).then(function(){\n",
              "                            \n",
              "var gd = document.getElementById('bd135c3f-e12d-4fe4-bcee-02a6561b4258');\n",
              "var x = new MutationObserver(function (mutations, observer) {{\n",
              "        var display = window.getComputedStyle(gd).display;\n",
              "        if (!display || display === 'none') {{\n",
              "            console.log([gd, 'removed!']);\n",
              "            Plotly.purge(gd);\n",
              "            observer.disconnect();\n",
              "        }}\n",
              "}});\n",
              "\n",
              "// Listen for the removal of the full notebook cells\n",
              "var notebookContainer = gd.closest('#notebook-container');\n",
              "if (notebookContainer) {{\n",
              "    x.observe(notebookContainer, {childList: true});\n",
              "}}\n",
              "\n",
              "// Listen for the clearing of the current output cell\n",
              "var outputEl = gd.closest('.output');\n",
              "if (outputEl) {{\n",
              "    x.observe(outputEl, {childList: true});\n",
              "}}\n",
              "\n",
              "                        })                };                            </script>        </div>\n",
              "</body>\n",
              "</html>"
            ]
          },
          "metadata": {}
        }
      ],
      "source": [
        "fig6 = px.icicle(overall_indian_data, path=[px.Constant(\"all\"), 'Mode of Order','City', \"State\"],\n",
        "                values='Total cost in log', color='State', hover_name = \"Total Cost in INR\", hover_data = [\"No of Orders\", \"Total Cost in INR\"])\n",
        "fig6.update_layout(margin = dict(t=50, l=25, r=25, b=25))"
      ]
    },
    {
      "cell_type": "markdown",
      "metadata": {
        "id": "XWG1fN8Mhdl0"
      },
      "source": [
        " **Finding the famous cuisiens of each city in india**"
      ]
    },
    {
      "cell_type": "code",
      "execution_count": null,
      "metadata": {
        "id": "bnu5i48Ahdl0"
      },
      "outputs": [],
      "source": [
        "city = Indian_data[\"City\"].unique()"
      ]
    },
    {
      "cell_type": "code",
      "execution_count": null,
      "metadata": {
        "id": "LgubfmAEhdl1"
      },
      "outputs": [],
      "source": [
        "#function for finding the city wise fav food\n",
        "#counter is imported here to find the favourite cusien of the city\n",
        "from collections import Counter\n",
        "def fav_cuisien(y):\n",
        "    from heapq import nlargest\n",
        "    c1 = []\n",
        "    c2 = []\n",
        "    for i in Indian_data[Indian_data[\"City\"] == y][\"Cuisines\"].values:\n",
        "        c1.append(i.split(\",\"))\n",
        "    for i in c1:\n",
        "        for j in i:\n",
        "            c2.append(j)\n",
        "    l = dict(Counter(c2))\n",
        "    return nlargest(1, l, key = l.get)[0]"
      ]
    },
    {
      "cell_type": "code",
      "execution_count": null,
      "metadata": {
        "id": "5KkQmfeLhdl1"
      },
      "outputs": [],
      "source": [
        "food = []\n",
        "for i in city:\n",
        "    food.append(fav_cuisien(i))"
      ]
    },
    {
      "cell_type": "code",
      "execution_count": null,
      "metadata": {
        "id": "gedcOxTKhdl1"
      },
      "outputs": [],
      "source": [
        "value = {\"City\" : city, \"Favorite Cuisines\" : food}\n",
        "f_food_of_cities = pd.DataFrame(value)"
      ]
    },
    {
      "cell_type": "code",
      "source": [
        "f_food_of_cities\n"
      ],
      "metadata": {
        "id": "g8bsyiYYwMVi"
      },
      "execution_count": null,
      "outputs": []
    },
    {
      "cell_type": "code",
      "execution_count": null,
      "metadata": {
        "id": "ICx4EJPohdl2"
      },
      "outputs": [],
      "source": [
        "'''\n",
        "Loop for finding the coustliest dishes of the cities\n",
        "'''\n",
        "coustlu_cuisines = []\n",
        "for i in city:\n",
        "    coustlu_cuisines.append(Indian_data[Indian_data[\"City\"] == i].sort_values(\"Average cost  in INR\", ascending = False)[\"Cuisines\"].head(1).values)\n",
        "    \n",
        "\n",
        "costly_cuisiens = []\n",
        "for i in range(len(coustlu_cuisines)):\n",
        "    costly_cuisiens.append(coustlu_cuisines[i][0]) "
      ]
    },
    {
      "cell_type": "code",
      "execution_count": null,
      "metadata": {
        "id": "kB2iiMDThdl2"
      },
      "outputs": [],
      "source": [
        "f_food_of_cities[\"Costly Cuisines\"] = costly_cuisiens"
      ]
    },
    {
      "cell_type": "markdown",
      "metadata": {
        "id": "JdtX6JXVhdl4"
      },
      "source": [
        "**City wise analysis(INDIA) only**\n"
      ]
    },
    {
      "cell_type": "code",
      "execution_count": null,
      "metadata": {
        "id": "WLbQxLMKhdl5"
      },
      "outputs": [],
      "source": [
        "#Functionss for creating informations for the tabel\n",
        "class City_data:\n",
        "    def __init__(self, city_name):\n",
        "        self.city_name = city_name\n",
        "    \n",
        "    #Function to find the favorite cuisiens of the c\n",
        "    def top5_cuisiens_indian_cities(self):\n",
        "        c1 = []\n",
        "        c2 = []\n",
        "        for i in Indian_data[Indian_data[\"City\"] == self.city_name][\"Cuisines\"].values:\n",
        "            c1.append(i.split(\",\"))\n",
        "        for i in c1:\n",
        "            for j in i:\n",
        "                c2.append(j)\n",
        "        l = dict(Counter(c2))\n",
        "        from heapq import nlargest\n",
        "        res = nlargest(5, l, key = l.get)\n",
        "        return res\n",
        "\n",
        "    #Function to find the costly cuisien combinations of the people of a specific city\n",
        "    def top5_costly_cusiens_combinations_of_indian_cities(self):\n",
        "        return Indian_data[Indian_data[\"City\"] == self.city_name].sort_values(\"Average cost  in INR\", ascending = False)[\"Cuisines\"].head().tolist()\n",
        "    \n",
        "    #Function to find the top frequent restraunts in the city\n",
        "    def top_picks_of_people(self):\n",
        "        return Indian_data[Indian_data[\"City\"] == self.city_name][\"Restaurant Name\"].value_counts().head(5).index\n",
        "    \n",
        "    #Function to find the top 5 high revaneu restaurant of the city\n",
        "    def high_revaneu_restaurants(self):\n",
        "        return Indian_data[Indian_data[\"City\"] == self.city_name].groupby(\"Restaurant Name\").sum().sort_values(\"Average cost  in INR\", ascending = False).head().index\n",
        "    \n",
        "    #Function to find the least revaneu restarunts of the city\n",
        "    def low_revaneu_restarunts(self):\n",
        "        return Indian_data[Indian_data[\"City\"] == self.city_name].sort_values(\"Average cost  in INR\", ascending = True)[\"Restaurant Name\"].head().tolist()\n",
        "\n",
        "#********************************************************************************************************************************************************************************************\n",
        "#Function for tabulating city data\n",
        "def tabulate_city_data(x):\n",
        "    nx = City_data(x)\n",
        "    cusiens = nx.top5_cuisiens_indian_cities()\n",
        "    combination = nx.top5_costly_cusiens_combinations_of_indian_cities()\n",
        "    top_picks = nx.top_picks_of_people()\n",
        "    high_revaneu = nx.high_revaneu_restaurants()\n",
        "    low_revaneu = nx.low_revaneu_restarunts()\n",
        "\n",
        "    c_data=  pd.DataFrame({\"Rank\" : [1, 2, 3, 4, 5],\"Favourite cuisiens\" : cusiens,\n",
        "                              \"Top 5 costly cuisines combination\" : combination,\n",
        "                             \"Top picked Restarunts\" : top_picks,\n",
        "                             \"High revaneu restarunts\" : high_revaneu,\n",
        "                             \"Low revaneu restarunts\" : low_revaneu})\n",
        "    fig = go.Figure(data=[go.Table(\n",
        "        columnorder = [1,2, 3, 4, 5, 6],\n",
        "        columnwidth = [50,100, 250, 150, 150, 150],\n",
        "        header = dict(\n",
        "            values = [['<b>'+i+'<b>'] for i in c_data.columns],\n",
        "            line_color='red',\n",
        "            fill_color='black',\n",
        "            align=['center'],\n",
        "            font=dict(color='red', size=15),\n",
        "            height=40\n",
        "      ),\n",
        "      cells=dict(\n",
        "        values=[c_data.Rank,\n",
        "                c_data[\"Favourite cuisiens\"], \n",
        "                c_data[\"Top 5 costly cuisines combination\"], \n",
        "                c_data[\"Top picked Restarunts\"], \n",
        "                c_data[\"High revaneu restarunts\"],\n",
        "                c_data[\"Low revaneu restarunts\"]\n",
        "               ],\n",
        "        line_color='red',\n",
        "        fill=dict(color=['white', 'white']),\n",
        "        fill_color='white',\n",
        "        align=['center'],\n",
        "        font_size=15,\n",
        "        height=30)\n",
        "        )\n",
        "    ])\n",
        "    fig.update_layout(height = 300,width = 1300,\n",
        "                      paper_bgcolor = \"#091335\",\n",
        "                       autosize=False,\n",
        "                       margin = dict(\n",
        "                           l=20,\n",
        "                           r=20,\n",
        "                           b=0,\n",
        "                           t=10,\n",
        "                           pad=4,\n",
        "                           autoexpand=True))\n",
        "    return fig\n",
        "    \n",
        "#********************************************************************************************************************************************************************************************\n",
        "#Function for creating bar and pie chart of country wise analysis\n",
        "def city_plot(cty_name):\n",
        "  fig = make_subplots(\n",
        "      rows=1, cols=2,\n",
        "      subplot_titles=(f'Spending habit of people in the {cty_name}',\n",
        "                      'Dine IN vs Online delivery'),\n",
        "      specs=[[{\"type\": \"xy\"}, {\"type\": \"domain\"}]],         \n",
        "  )\n",
        "\n",
        "  fig.add_trace(\n",
        "      go.Box(x = Indian_data[Indian_data[\"City\"] == cty_name][\"Average cost  in INR\"], showlegend=False), row = 1, col = 1)\n",
        "  \n",
        "  fig.add_trace(go.Pie(values = Indian_data[Indian_data[\"City\"] == cty_name][\"Mode of Order\"].value_counts().tolist(),\n",
        "                        labels = Indian_data[Indian_data[\"City\"] == cty_name][\"Mode of Order\"].value_counts().index,\n",
        "                        textinfo=\"label+percent\",\n",
        "                        showlegend=False),\n",
        "                  row=1, col=2)\n",
        "\n",
        "  fig.update_layout(height=400,\n",
        "                    width = 1500,\n",
        "                     autosize=False,\n",
        "                    margin = dict(\n",
        "                        l=30,\n",
        "                        r=0,\n",
        "                        b=30,\n",
        "                        t=50,\n",
        "                        pad=4,\n",
        "                        autoexpand=False),\n",
        "                    template = \"plotly_dark\",\n",
        "                    plot_bgcolor = \"#A3ACAC\",\n",
        "                    paper_bgcolor = \"#091335 \",\n",
        "                    showlegend=False)\n",
        "  return fig\n"
      ]
    },
    {
      "cell_type": "markdown",
      "metadata": {
        "id": "-_5UGs_xhdl8"
      },
      "source": [
        "**Country wise data analysis**"
      ]
    },
    {
      "cell_type": "code",
      "execution_count": null,
      "metadata": {
        "id": "lk6mIIoEhdl8"
      },
      "outputs": [],
      "source": [
        "#Counter will not work woth nan vaues so removing the nan values.\n",
        "data.dropna(axis = 0, inplace = True)\n",
        "\n",
        "#Function to find the fav cuisiens of countries\n",
        "def fav_cuisiens_countries(x):\n",
        "    c1 = []\n",
        "    c2 = []\n",
        "    \n",
        "    for i in data[data[\"Country Name\"] == x][\"Cuisines\"].values:\n",
        "        c1.append(i.split(\",\"))\n",
        "    for i in c1:\n",
        "        for j in i:\n",
        "            c2.append(j)\n",
        "    l = dict(Counter(c2))\n",
        "    from heapq import nlargest\n",
        "    res = nlargest(1, l, key = l.get)\n",
        "    return res\n",
        "#top revanued city\n",
        "def max_perticipant(x):\n",
        "    max_city = data[data[\"Country Name\"] == x].groupby(\"City\").sum().sort_values(\"Average cost  in INR\", ascending = False).index[0]\n",
        "    return max_city\n",
        "#least revanued city\n",
        "def min_perticipant(x):\n",
        "    min_city = data[data[\"Country Name\"] == x].groupby(\"City\").sum().sort_values(\"Average cost  in INR\", ascending = False).index[-1]\n",
        "    return min_city\n",
        "#top revaneu in a single city\n",
        "def amt_max_cont(x):\n",
        "    amt_max = data[data[\"Country Name\"] == x].groupby(\"City\").sum().sort_values(\"Average cost  in INR\", ascending = False).iloc[0, 6]\n",
        "    return amt_max\n",
        "#leadt revanue in a single city\n",
        "def amt_min_cont(x):\n",
        "    amt_min = data[data[\"Country Name\"] == x].groupby(\"City\").sum().sort_values(\"Average cost  in INR\", ascending = False).iloc[-1, 6]\n",
        "    return amt_min\n",
        "\n",
        "def iso_code(x):    \n",
        "    import pycountry\n",
        "    user_input = x\n",
        "    mapping = {country.name: country.alpha_3 for country in pycountry.countries}\n",
        "    return mapping.get(user_input)"
      ]
    },
    {
      "cell_type": "code",
      "execution_count": null,
      "metadata": {
        "collapsed": true,
        "id": "e2RychZIhdl9"
      },
      "outputs": [],
      "source": [
        "Country_data = data.groupby(\"Country Name\").mean().iloc[:, [6,7,8]]\n",
        "Country_data[\"Total amount of money spent in a country\"] = data.groupby(\"Country Name\").sum().iloc[:, 6]\n",
        "Country_data[\"Sum of voted in a country\"] = data.groupby(\"Country Name\").sum().iloc[:, 9]\n",
        "Country_data[\"Country Name\"] = Country_data.index\n",
        "Country_data[\"S.No\"] = [i for i in range(1, Country_data.shape[0]+1)]\n",
        "Country_data.set_index(\"S.No\", inplace = True)\n",
        "Country_data[\"Maximum contributed city\"] = Country_data[\"Country Name\"].apply(lambda x:max_perticipant(x))\n",
        "Country_data[\"Maximum contributed amount\"] = Country_data[\"Country Name\"].apply(lambda x:amt_max_cont(x))\n",
        "Country_data[\"Minimum contributed city\"] = Country_data[\"Country Name\"].apply(lambda x:min_perticipant(x))\n",
        "Country_data[\"Minimum contributed amount\"] = Country_data[\"Country Name\"].apply(lambda x:amt_min_cont(x))\n",
        "Country_data[\"Favourite cuisien\"] = Country_data[\"Country Name\"].apply(lambda x:fav_cuisiens_countries(x)[0])\n",
        "Country_data[\"ISO_alpha\"] = Country_data[\"Country Name\"].apply(lambda x:iso_code(x))\n",
        "Country_data.iloc[-3, -1] = \"UAE\"\n",
        "Country_data.iloc[6, -1] = \"PHL\"\n",
        "online_order_by_country = {}\n",
        "dine_in_by_country = {}\n",
        "for i in zip(data[data[\"Mode of Order\"] == \"Dine In\"].groupby(\"Country Name\").sum().iloc[:, 6].index, data[data[\"Mode of Order\"] == \"Dine In\"].groupby(\"Country Name\").sum().iloc[:, 6].tolist()):\n",
        "  dine_in_by_country[i[0]] = round(i[1], 2)\n",
        "for i in zip(data[data[\"Mode of Order\"] == \"Online Delivery\"].groupby(\"Country Name\").sum().iloc[:, 6].index, data[data[\"Mode of Order\"] == \"Online Delivery\"].groupby(\"Country Name\").sum().iloc[:, 6].tolist()):\n",
        "  online_order_by_country[i[0]] = round(i[1], 2)\n",
        "\n",
        "Country_data[\"Revanue by Online delivery\"] = Country_data[\"Country Name\"].map(online_order_by_country)\n",
        "Country_data[\"Revanue by Dine In\"] = Country_data[\"Country Name\"].map(dine_in_by_country)\n",
        "#Since dine in data of some countries were not available it is filled zero for further manipulation\n",
        "Country_data.fillna(0, inplace = True)"
      ]
    },
    {
      "cell_type": "code",
      "source": [
        "#Class of functiond for creating the content for the table\n",
        "class Country_details:\n",
        "  def __init__(self, c_name):\n",
        "    self.c_name = c_name\n",
        "\n",
        "  def fav_cuis_country(self):\n",
        "    cuis = Country_data[Country_data[\"Country Name\"] == self.c_name].iloc[0, -4]\n",
        "    return cuis\n",
        "\n",
        "  def t_contribution(self):\n",
        "    t_cont = Country_data[Country_data[\"Country Name\"] == self.c_name].iloc[0, 3]\n",
        "    return \"₹\"+str(round(t_cont, 2))\n",
        "\n",
        "  def avg_spend(self):\n",
        "    avg_spnd = Country_data[Country_data[\"Country Name\"] == self.c_name].iloc[0, 0]\n",
        "    return \"₹\"+str(round(avg_spnd, 2))\n",
        "\n",
        "  def max_city(self):\n",
        "    max_city = Country_data[Country_data[\"Country Name\"] == self.c_name].iloc[0, 6]\n",
        "    return max_city\n",
        "  \n",
        "  def min_city(self):\n",
        "    min_city = Country_data[Country_data[\"Country Name\"] == self.c_name].iloc[0, 8]\n",
        "    return min_city\n",
        "\n",
        "#*********************************************************************************************************************************************************************************\n",
        "#Function for creating table for the country wise analysis\n",
        "def tabulate_country_data(x):\n",
        "    country_analysis = Country_details(x)\n",
        "    o1 = country_analysis.fav_cuis_country()\n",
        "    o2 = country_analysis.t_contribution()\n",
        "    o3 = country_analysis.avg_spend()\n",
        "    o4 = country_analysis.max_city()\n",
        "    o5 = country_analysis.min_city()\n",
        "    ctry_data=  pd.DataFrame({\"Favourite Cuisine\" : o1,\n",
        "                              \"Total contribution\" : o2,\n",
        "                              \"Average spending ability of people\" : o3,\n",
        "                              \"Maximum contributed city\" : o4,\n",
        "                              \"Minimum contributed city\" : o5}, index = [1])\n",
        "    fig = go.Figure(data=[go.Table(\n",
        "        columnorder = [1,2, 3, 4, 5],\n",
        "        columnwidth = [100,100, 150, 150, 150],\n",
        "        header = dict(\n",
        "            values = [['<b>'+i+'<b>'] for i in ctry_data.columns],\n",
        "            line_color='red',\n",
        "            fill_color='black',\n",
        "            align=['center'],\n",
        "            font=dict(color='red', size=15),\n",
        "            height=40\n",
        "      ),\n",
        "      cells=dict(\n",
        "        values=[ctry_data[\"Favourite Cuisine\"],\n",
        "                ctry_data[\"Total contribution\"], \n",
        "                ctry_data[\"Average spending ability of people\"], \n",
        "                ctry_data[\"Maximum contributed city\"], \n",
        "                ctry_data[\"Minimum contributed city\"]\n",
        "               ],\n",
        "        line_color='red',\n",
        "        fill=dict(color=['white', 'white']),\n",
        "        align=['center'],\n",
        "        font_size=15,\n",
        "        height=30)\n",
        "        )\n",
        "    ])\n",
        "    fig.update_layout(width=1500, height=290, paper_bgcolor = \"#091335\", title = \"Tabular representation of country\")\n",
        "    \n",
        "    return fig\n",
        "\n",
        "#***************************************************************************************************************************************************************************\n",
        "#Function for creating bar and pie chart of country wise analysis\n",
        "def country_plot(c_name):\n",
        "  fig = make_subplots(\n",
        "      rows=1, cols=2,\n",
        "      subplot_titles=(f'Spending habit of people in the country {c_name} in INR',\n",
        "                      'Dine IN vs Online delivery'),\n",
        "      specs=[[{\"type\": \"xy\"}, {\"type\": \"domain\"}]],         \n",
        "  )\n",
        "\n",
        "  fig.add_trace(\n",
        "      go.Box(x = data[data[\"Country Name\"] == c_name][\"Average cost  in INR\"], showlegend=False), row = 1, col = 1)\n",
        "  \n",
        "  fig.add_trace(go.Pie(values = data[data[\"Country Name\"] == c_name][\"Mode of Order\"].value_counts().tolist(),\n",
        "                        labels = data[data[\"Country Name\"] == c_name][\"Mode of Order\"].value_counts().index,\n",
        "                        textinfo=\"label+percent\",\n",
        "                        showlegend=False),\n",
        "                  row=1, col=2)\n",
        "\n",
        "  fig.update_layout(height=500,\n",
        "                    width = 1500,\n",
        "                    template = \"plotly_dark\",\n",
        "                    plot_bgcolor = \"#A3ACAC\",\n",
        "                    paper_bgcolor = \"#091335\",\n",
        "                    showlegend=False)\n",
        "  return fig\n"
      ],
      "metadata": {
        "id": "Qiv73PdoMiQg"
      },
      "execution_count": null,
      "outputs": []
    },
    {
      "cell_type": "markdown",
      "source": [
        "**World wide analysis**"
      ],
      "metadata": {
        "id": "C8VnWWi0MyD9"
      }
    },
    {
      "cell_type": "code",
      "source": [
        "def choropleth_map(feature):\n",
        "  money = [\"Average cost  in INR\", \"Total amount of money spent in a country\", \"Revanue by Online delivery\", \"Revanue by Dine In\"]\n",
        "  if feature in money:\n",
        "    ct = '₹'\n",
        "  elif feature not in money:\n",
        "    ct = \"\"\n",
        "\n",
        "  fig = go.Figure(data=go.Choropleth(\n",
        "      locations = Country_data['ISO_alpha'],\n",
        "      z = Country_data[feature],\n",
        "      text = Country_data['Country Name'],\n",
        "      autocolorscale=True,\n",
        "      reversescale=True,\n",
        "      marker_line_color='black',\n",
        "      marker_line_width=0.5,\n",
        "      colorbar_tickprefix = ct,\n",
        "      colorbar_title = feature\n",
        "  ))\n",
        "\n",
        "  fig.update_layout(\n",
        "      autosize=False,\n",
        "      margin = dict(\n",
        "                l=2,\n",
        "                r=0,\n",
        "                b=0,\n",
        "                t=0,\n",
        "                pad=4,\n",
        "                autoexpand=True\n",
        "            ),height = 500, width = 1500,\n",
        "            paper_bgcolor = \"#091335\",\n",
        "      geo=dict(\n",
        "          showframe=False,\n",
        "          showcoastlines=False,\n",
        "          projection_type='equirectangular',\n",
        "          showocean=True, oceancolor=\"LightBlue\"\n",
        "      ),\n",
        "      annotations = [dict(\n",
        "          x=0.1,\n",
        "          y=0.1,\n",
        "          xref='paper',\n",
        "          yref='paper',\n",
        "          showarrow = False\n",
        "      )]\n",
        "  )\n",
        "  return fig\n",
        "\n",
        "def scatter_map(feature):\n",
        "  money = [\"Average cost  in INR\", \"Total amount of money spent in a country\", \"Revanue by Online delivery\", \"Revanue by Dine In\"]\n",
        "  if feature in money:\n",
        "    ct = '₹'\n",
        "  elif feature not in money:\n",
        "    ct = \"\"\n",
        "  fig = px.scatter_geo(Country_data, locations=\"ISO_alpha\",\n",
        "                      color=feature, # lifeExp is a column of gapminder\n",
        "                      hover_name=\"Country Name\", # column to add to hover information\n",
        "                      color_continuous_scale=px.colors.sequential.Plasma,\n",
        "                      size = feature,\n",
        "                      hover_data = [\"Favourite cuisien\",\n",
        "                                    \"Maximum contributed city\", \n",
        "                                    \"Maximum contributed amount\",\n",
        "                                    \"Minimum contributed city\",\n",
        "                                    \"Minimum contributed amount\",\n",
        "                                    ])\n",
        "  fig.update_layout(\n",
        "      autosize=False,\n",
        "      margin = dict(\n",
        "                l=2,\n",
        "                r=0,\n",
        "                b=0,\n",
        "                t=0,\n",
        "                pad=4,\n",
        "                autoexpand=True\n",
        "            ),height = 500, width = 1500,\n",
        "            paper_bgcolor = \"#091335\",\n",
        "      geo=dict(\n",
        "          showframe=False,\n",
        "          showcoastlines=False,\n",
        "          projection_type='equirectangular',\n",
        "          showocean=True, \n",
        "          oceancolor=\"LightBlue\"\n",
        "      ))\n",
        "  return fig\n",
        "\n",
        "\n"
      ],
      "metadata": {
        "id": "5YmZ8iRsL64f"
      },
      "execution_count": null,
      "outputs": []
    },
    {
      "cell_type": "markdown",
      "source": [
        "**Overall dashboard developement**"
      ],
      "metadata": {
        "id": "TdSRJ2PEFktR"
      }
    },
    {
      "cell_type": "code",
      "source": [
        "#from dash import Dash\n",
        "from jupyter_dash import JupyterDash\n",
        "from dash import Dash, dcc, html, Input, Output\n",
        "import dash_bootstrap_components as dbc\n",
        "from dash_bootstrap_templates import load_figure_template\n",
        "#\n",
        "load_figure_template([\"sketchy\", \"cyborg\", \"minty\"])\n",
        "#app = Dash(__name__)\n",
        "\n",
        "app = JupyterDash(__name__, external_stylesheets=[dbc.themes.VAPOR])\n",
        "\n",
        "fig6 = px.icicle(overall_indian_data, path=[px.Constant(\"all\"), 'Mode of Order','City', \"State\"],\n",
        "                values='Total cost in log', color='State', hover_name = \"Total Cost in INR\", hover_data = [\"No of Orders\", \"Total Cost in INR\"])\n",
        "fig6.update_layout(margin = dict(t=50, l=25, r=25, b=25), paper_bgcolor = \"#091335\")\n",
        "\n",
        "app.layout = html.Div([\n",
        "   html.H1(\"Zomato Conutry wise sales analysis\", style = {\"color\" : \"red\", \"textAlign\"  : \"center\"}),\n",
        "   html.Br(),\n",
        "   html.H4(\"Select the Country\"),\n",
        "   html.Div([\n",
        "       dcc.Dropdown(\n",
        "           id = \"countryname\",\n",
        "           options = [{\"label\" : x, \"value\" : x} for x in data[\"Country Name\"].unique()],\n",
        "           placeholder = \"India\",\n",
        "           clearable=True   \n",
        "       )\n",
        "   ]),\n",
        "   html.Br(),\n",
        "   dcc.Graph(\n",
        "       id = \"fig3\"\n",
        "   ),\n",
        "   #html.Br(),\n",
        "   dcc.Graph(\n",
        "       id = \"fig4\"\n",
        "       ),\n",
        "     html.H1(\"Zomato data Indian Citywise analysis\", style = {\"color\" : \"red\", \"textAlign\"  : \"center\"}),\n",
        "     html.Br(),\n",
        "     html.H4(\"Select the city\"),\n",
        "   html.Div([\n",
        "       dcc.Dropdown(\n",
        "           id = \"cityname\",\n",
        "           options = [{\"label\" : x, \"value\" : x} for x in Indian_data[\"City\"].unique()],\n",
        "           value = \"Chennai\",\n",
        "           clearable=True   \n",
        "       )\n",
        "   ]),\n",
        "   html.Br(),\n",
        "   dcc.Graph(\n",
        "       id = \"fig1\"\n",
        "   ),\n",
        "   html.Br(),\n",
        "   dcc.Graph(\n",
        "       id = \"fig2\"\n",
        "       ),\n",
        "    html.Br(),\n",
        "    html.H1(\"Revanue of the Indian Cities with respect to their delivery modes\", style = {\"color\" : \"red\", \"textAlign\" : \"center\", \"size\" : 15}),\n",
        "    dcc.Graph(\n",
        "        id = \"mode_of_delivery_analysis\",\n",
        "        figure = fig6\n",
        "\n",
        "  ),\n",
        "  html.H1(\"Zomato worldwide sales analysis\", style = {\"color\" : \"red\", \"textAlign\"  : \"center\"}),\n",
        "  html.H4(\"Select the featur\"),\n",
        "  html.Div([\n",
        "      dcc.Dropdown(\n",
        "          id = \"featurename\",\n",
        "          options = [{\"label\" : \"Country wise spending nature\" ,\"value\" :  \"Average cost  in INR\"},\n",
        "                     {\"label\" : \"Gross revaneu by country\" , \"value\" : \"Total amount of money spent in a country\"},\n",
        "                     {\"label\" : \"Revaneu by Online delivery\" , \"value\" : \"Revanue by Online delivery\"},\n",
        "                     {\"label\" : \"Revaneu by Dine In\" , \"value\" : \"Revanue by Dine In\"},\n",
        "                     {\"label\" : \"Average Rating by the customers by country\" , \"value\" : \"Aggregate rating\"},\n",
        "                     {\"label\" : \"Prefered price range by country\" , \"value\" : \"Price range\"}],\n",
        "                   value = \"Gross revaneu by country\",\n",
        "                   clearable=True   \n",
        "       )\n",
        "   ]),\n",
        "   html.Br(),\n",
        "   html.H4(\"Select the map type\"),\n",
        "   dcc.RadioItems(\n",
        "       id = \"map_selection\",\n",
        "       options = ['Choropleth Visuvalization','Scattered Visuvalization'],\n",
        "       value =  'Choropleth Visuvalization'),\n",
        "  #html.Br(),\n",
        "  html.H2([], \n",
        "          style = {\"Color\" : \"red\", \"textAlign\" : \"center\", \"size\" : 15},\n",
        "          id = \"map_name\"),\n",
        "  html.Br(),\n",
        "\n",
        "   dcc.Graph(\n",
        "       id = \"fig5\"\n",
        "   ),\n",
        "   html.Br(),\n",
        "   html.H6(\"This dashboard is only for educational purpose and developed by G.TAMIZHARASAN\", style = {\"textAlign\" : \"center\"})\n",
        "\n",
        "   \n",
        "])\n",
        " \n",
        " \n",
        "@app.callback(\n",
        "    Output(component_id='fig3', component_property='figure'),\n",
        "    Input(component_id='countryname', component_property='value'),\n",
        "    prevent_initial_call=True\n",
        ")\n",
        "def update_tabel_country(input_value):\n",
        "  return tabulate_country_data(input_value)\n",
        "\n",
        "@app.callback(\n",
        "    Output(component_id='fig4', component_property='figure'),\n",
        "    Input(component_id='countryname', component_property='value'),\n",
        "    prevent_initial_call=True\n",
        ")\n",
        "def update_charts_country(input_value):\n",
        "  return country_plot(input_value)\n",
        "\n",
        "@app.callback(\n",
        "    Output(component_id='fig1', component_property='figure'),\n",
        "    Input(component_id='cityname', component_property='value'),\n",
        "    prevent_initial_call=True\n",
        ")\n",
        "def update_tabel_city(input_value):\n",
        "  return tabulate_city_data(input_value)\n",
        "\n",
        "@app.callback(\n",
        "    Output(component_id='fig2', component_property='figure'),\n",
        "    Input(component_id='cityname', component_property='value'),\n",
        "    prevent_initial_call=True\n",
        ")\n",
        "def update_chart_india(input_value):\n",
        "  return city_plot(input_value)\n",
        "\n",
        "@app.callback(\n",
        "    Output(component_id='map_name', component_property='children'),\n",
        "    Input(component_id='featurename', component_property='value'),\n",
        ")\n",
        "def title(name): \n",
        "  return name.upper()\n",
        "\n",
        " \n",
        "@app.callback(\n",
        "    Output(component_id='fig5', component_property='figure'),\n",
        "    Input(component_id='featurename', component_property='value'),\n",
        "    Input(component_id='map_selection', component_property='value'),\n",
        "    prevent_initial_call=True\n",
        ")\n",
        "def update_map(comp, map_selection):\n",
        "  if map_selection == \"Choropleth Visuvalization\":\n",
        "    return choropleth_map(comp)\n",
        "  elif map_selection == \"Scattered Visuvalization\":\n",
        "    return scatter_map(comp)\n",
        "\n",
        "\n",
        "\n",
        "\n",
        "if __name__ == '__main__':\n",
        "   app.run_server(debug = True, mode = \"external\", port = 8600)"
      ],
      "metadata": {
        "id": "9h1CYsB64FcN",
        "colab": {
          "base_uri": "https://localhost:8080/",
          "height": 52
        },
        "outputId": "e89aa33a-9fe8-46de-e680-65311d71012e"
      },
      "execution_count": 20,
      "outputs": [
        {
          "output_type": "stream",
          "name": "stdout",
          "text": [
            "Dash app running on:\n"
          ]
        },
        {
          "output_type": "display_data",
          "data": {
            "text/plain": [
              "<IPython.core.display.Javascript object>"
            ],
            "application/javascript": [
              "(async (port, path, text, element) => {\n",
              "    if (!google.colab.kernel.accessAllowed) {\n",
              "      return;\n",
              "    }\n",
              "    element.appendChild(document.createTextNode(''));\n",
              "    const url = await google.colab.kernel.proxyPort(port);\n",
              "    const anchor = document.createElement('a');\n",
              "    anchor.href = new URL(path, url).toString();\n",
              "    anchor.target = '_blank';\n",
              "    anchor.setAttribute('data-href', url + path);\n",
              "    anchor.textContent = text;\n",
              "    element.appendChild(anchor);\n",
              "  })(8600, \"/\", \"http://127.0.0.1:8600/\", window.element)"
            ]
          },
          "metadata": {}
        }
      ]
    },
    {
      "cell_type": "markdown",
      "source": [
        "## **Part 2 : This part contains raw code for the overall dash developement same thing in the above parts without any explinations**"
      ],
      "metadata": {
        "id": "-BBhoPt2strN"
      }
    },
    {
      "cell_type": "code",
      "source": [
        "!pip install countryinfo\n",
        "!pip install easy-exchange-rates \n",
        "!pip install geopy  \n",
        "!pip install pycountry\n",
        "!pip install jupyter_dash\n",
        "!pip install dash\n",
        "!pip install dash_bootstrap_templates\n",
        "!pip install dash_bootstrap_components\n",
        "\n",
        "import pandas as pd\n",
        "import plotly.express as px\n",
        "import seaborn as sns\n",
        "from countryinfo import CountryInfo\n",
        "import numpy as np\n",
        "import  datetime\n",
        "import json\n",
        "import matplotlib.pyplot as plt\n",
        "from plotly.subplots import make_subplots\n",
        "import plotly.graph_objects as go\n",
        "from dash_bootstrap_templates import load_figure_template"
      ],
      "metadata": {
        "id": "hDYncGYHs9hq"
      },
      "execution_count": null,
      "outputs": []
    },
    {
      "cell_type": "code",
      "source": [
        "data = pd.read_csv(\"https://raw.githubusercontent.com/nethajinirmal13/Training-datasets/main/zomato/zomato.csv\")"
      ],
      "metadata": {
        "id": "-XLUkgwyssc7"
      },
      "execution_count": 2,
      "outputs": []
    },
    {
      "cell_type": "code",
      "source": [
        "country_name = {1 : \"India\",\n",
        "                14 : \"Australia\",\n",
        "                30 : \"Brazil\",\n",
        "                37 : \"Canada\",\n",
        "                94 : \"Indonesia\",\n",
        "                148 : \"New Zealand\",\n",
        "                162 : \"Phillipines\",\n",
        "                166 : \"Qatar\",\n",
        "                184 : \"Singapore\",\n",
        "                189 : \"South Africa\",\n",
        "                191 : \"Sri Lanka\",\n",
        "                208 : \"Turkey\",\n",
        "                214 : \"UAE\",\n",
        "                215 : \"United Kingdom\",\n",
        "                216 : \"United States\"}\n",
        "\n",
        "Country_Name= data[\"Country Code\"].map(country_name)\n",
        "data.insert(3, \"Country Name\",Country_Name )\n",
        "name = ['Brazil','United States', 'Australia', 'Canada', 'Singapore',\"South Africa\", 'UAE', 'India', 'Indonesia', 'New Zealand', 'United Kingdom','Qatar', 'Sri Lanka', 'Turkey']\n",
        "a = []\n",
        "for i in name:\n",
        "  currencies = CountryInfo(i).currencies()\n",
        "  a.append(currencies[0])\n",
        "\n",
        "a.insert(0, \"PHP\")"
      ],
      "metadata": {
        "id": "mqYBCgNctU-B"
      },
      "execution_count": 3,
      "outputs": []
    },
    {
      "cell_type": "code",
      "source": [
        "from easy_exchange_rates import API\n",
        "api = API()\n",
        "df1 = pd.DataFrame([])\n",
        "ind_val = {}\n",
        "x = datetime.date.today()\n",
        "y = str(x)\n",
        "for i in a:\n",
        "  time_series = api.get_exchange_rates(\n",
        "    base_currency=i,\n",
        "    start_date =y ,\n",
        "    end_date = y, \n",
        "    targets=[\"INR\"]\n",
        "  )\n",
        "  \n",
        "  \n",
        "  df = api.to_dataframe(time_series)\n",
        "  df1 = pd.concat([df1, df])"
      ],
      "metadata": {
        "id": "OHlpWaVitqfD"
      },
      "execution_count": 4,
      "outputs": []
    },
    {
      "cell_type": "code",
      "execution_count": null,
      "metadata": {
        "id": "CnbwV8ZouC8r"
      },
      "outputs": [],
      "source": [
        "df1[\"Currency code\"] = a\n",
        "country_name = [ \"Phillipines\",\n",
        "                'Brazil','United States',\n",
        "                'Australia',\n",
        "                'Canada',\n",
        "                'Singapore',\n",
        "                \"South Africa\",\n",
        "                'UAE',\n",
        "                'India',\n",
        "                'Indonesia',\n",
        "                'New Zealand',\n",
        "                'United Kingdom',\n",
        "                'Qatar',\n",
        "                'Sri Lanka',\n",
        "                'Turkey']\n",
        "df1[\"Country name\"] = country_name\n",
        "df1.columns = [\"INR value\", \"Currency code\", \"Country name\"]\n",
        "df1 = df1.sort_values(by = \"INR value\", ascending = True)"
      ]
    },
    {
      "cell_type": "code",
      "execution_count": 6,
      "metadata": {
        "id": "-rEVvRY8uC8s"
      },
      "outputs": [],
      "source": [
        "x = np.array(df1[\"Country name\"]).reshape(-1, 1).flatten()# - Counntry name\n",
        "y = np.array(df1[\"INR value\"]).reshape(-1, 1).flatten()# - Currency value\n",
        "\n",
        "xy_zip = zip(x, y)\n",
        "inr_val = {}\n",
        "for i in xy_zip:\n",
        "  inr_val[i[0]] = i[1]\n",
        "\n",
        "#Adding INR value of the each country to the original dataframe\n",
        "inr_value = data[\"Country Name\"].map(inr_val)\n",
        "data.insert(13, \"INR Value for currency\", inr_value)\n",
        "avg_c_inr = data[\"Average Cost for two\"] * data[\"INR Value for currency\"]\n",
        "data.insert(14, \"Average cost  in INR\", avg_c_inr)\n",
        "#Rounding up to 2 decimal\n",
        "data[\"Average cost  in INR\"] = data[\"Average cost  in INR\"].apply(lambda x:round(x, 2))"
      ]
    },
    {
      "cell_type": "code",
      "source": [
        "#function for finding the state name of the city\n",
        "from geopy.geocoders import Nominatim\n",
        "def read_country(city):\n",
        "    \"\"\"\n",
        "    Convert cities and returns the full address with country as a tuple\n",
        "    \"\"\"\n",
        "    geolocator = Nominatim(user_agent=\"google\") #user agent can be any user agent \n",
        "    location = geolocator.geocode(city, language=\"en\") #specified the language as some countries are in other lanaguages\n",
        "    country= location.address.split(\",\") #split the string based on comma and retruns the second last element (state)\n",
        "    return country"
      ],
      "metadata": {
        "id": "dVxCHcIOur7k"
      },
      "execution_count": 7,
      "outputs": []
    },
    {
      "cell_type": "code",
      "execution_count": 8,
      "metadata": {
        "id": "Z0sRjMaMur7r"
      },
      "outputs": [],
      "source": [
        "#Adding column Mode of Order in the data\n",
        "data[\"Mode of Order\"] = data[\"Has Table booking\"].map({\"Yes\" : \"Dine In\", \"No\" : \"Online Delivery\"})\n",
        "Indian_data = data[data[\"Country Name\"] == \"India\"]\n",
        "\n",
        "Indian_dine_in = Indian_data[Indian_data[\"Mode of Order\"] == \"Dine In\"].groupby(\"City\").sum()\n",
        "Indian_dine_in = Indian_dine_in.iloc[:, [-4, 1]]\n",
        "#Indian_dine_in\n",
        "Indian_dine_in.columns = [\"Total Cost in INR\", \"No of Orders\"]\n",
        "Indian_dine_in[\"Mode of Order\"] = \"Dine In\"\n",
        "Indian_dine_in[\"City\"] = Indian_dine_in.index\n",
        "Indian_dine_in[\"S No\"] = [i for i in range(1, Indian_dine_in.shape[0]+1)]\n",
        "Indian_dine_in.set_index(\"S No\", inplace = True)"
      ]
    },
    {
      "cell_type": "code",
      "execution_count": 9,
      "metadata": {
        "id": "6lT61a2Fur7r"
      },
      "outputs": [],
      "source": [
        "States_d = []\n",
        "for i in Indian_dine_in[\"City\"]:\n",
        "    x = read_country(i)\n",
        "    y = x[-2].strip(\" \")\n",
        "    if y.isdigit():\n",
        "        States_d.append(x[-3].strip(\" \"))\n",
        "    elif not(y.isdigit()):\n",
        "        States_d.append(x[-2].strip(\" \"))\n",
        "\n",
        "Indian_dine_in[\"State\"] = States_d\n",
        "#log is taken for the better visuvalization\n",
        "Indian_dine_in[\"Total cost in log\"] = Indian_dine_in['Total Cost in INR'].apply(lambda x: np.log(x))"
      ]
    },
    {
      "cell_type": "code",
      "source": [
        "Indian_online_order = Indian_data[Indian_data[\"Mode of Order\"] == \"Online Delivery\"].groupby(\"City\").sum()\n",
        "Indian_online_order = Indian_online_order.iloc[:, [-4, 1]]\n",
        "Indian_online_order.columns = [\"Total Cost in INR\", \"No of Orders\"]\n",
        "Indian_online_order[\"Mode of Order\"] = \"Online Delivery\"\n",
        "Indian_online_order[\"City\"] = Indian_online_order.index\n",
        "Indian_online_order[\"S No\"] = [i for i in range(1, Indian_online_order.shape[0]+1)]\n",
        "Indian_online_order.set_index(\"S No\", inplace = True)"
      ],
      "metadata": {
        "id": "ia9pD1Egur7r"
      },
      "execution_count": 10,
      "outputs": []
    },
    {
      "cell_type": "code",
      "source": [
        "States_o = []\n",
        "for i in Indian_online_order[\"City\"]:\n",
        "    x = read_country(i)\n",
        "    y = x[-2].strip(\" \")\n",
        "    if y.isdigit():\n",
        "        States_o.append(x[-3].strip(\" \"))\n",
        "    elif not(y.isdigit()):\n",
        "        States_o.append(x[-2].strip(\" \"))\n",
        "\n",
        "# Gujarat state names mising in the package\n",
        "States_o[-4] = \"Gujarat\"\n",
        "Indian_online_order[\"State\"] = States_o\n",
        "Indian_online_order[\"Total cost in log\"] = Indian_online_order[\"Total Cost in INR\"].apply(lambda x: np.log(x))"
      ],
      "metadata": {
        "id": "xH9Wb3fqur7r"
      },
      "execution_count": 11,
      "outputs": []
    },
    {
      "cell_type": "code",
      "source": [
        "overall = [Indian_dine_in, Indian_online_order]\n",
        "overall_indian_data = pd.concat(overall)\n",
        "overall_indian_data[\"S.No\"] = [i for i in range(1, overall_indian_data.shape[0]+1)]\n",
        "overall_indian_data.set_index(\"S.No\", inplace = True)"
      ],
      "metadata": {
        "id": "TvaAR5SUur7r"
      },
      "execution_count": 12,
      "outputs": []
    },
    {
      "cell_type": "code",
      "source": [
        "city = Indian_data[\"City\"].unique()\n",
        "#function for finding the city wise fav food\n",
        "#counter is imported here to find the favourite cusien of the city\n",
        "from collections import Counter\n",
        "def fav_cuisien(y):\n",
        "    from heapq import nlargest\n",
        "    c1 = []\n",
        "    c2 = []\n",
        "    for i in Indian_data[Indian_data[\"City\"] == y][\"Cuisines\"].values:\n",
        "        c1.append(i.split(\",\"))\n",
        "    for i in c1:\n",
        "        for j in i:\n",
        "            c2.append(j)\n",
        "    l = dict(Counter(c2))\n",
        "    return nlargest(1, l, key = l.get)[0]\n",
        "\n",
        "food = []\n",
        "for i in city:\n",
        "    food.append(fav_cuisien(i))\n",
        "\n",
        "value = {\"City\" : city, \"Favorite Cuisines\" : food}\n",
        "f_food_of_cities = pd.DataFrame(value)\n",
        "\n",
        "'''\n",
        "Loop for finding the coustliest dishes of the cities\n",
        "'''\n",
        "coustlu_cuisines = []\n",
        "for i in city:\n",
        "    coustlu_cuisines.append(Indian_data[Indian_data[\"City\"] == i].sort_values(\"Average cost  in INR\", ascending = False)[\"Cuisines\"].head(1).values)\n",
        "    \n",
        "\n",
        "costly_cuisiens = []\n",
        "for i in range(len(coustlu_cuisines)):\n",
        "    costly_cuisiens.append(coustlu_cuisines[i][0]) \n",
        "\n",
        "f_food_of_cities[\"Costly Cuisines\"] = costly_cuisiens"
      ],
      "metadata": {
        "id": "HtjFCexu1jAU"
      },
      "execution_count": 13,
      "outputs": []
    },
    {
      "cell_type": "code",
      "execution_count": 14,
      "metadata": {
        "id": "3sxmje7p2VTb"
      },
      "outputs": [],
      "source": [
        "#Functionss for creating informations for the tabel\n",
        "class City_data:\n",
        "    def __init__(self, city_name):\n",
        "        self.city_name = city_name\n",
        "    \n",
        "    #Function to find the favorite cuisiens of the c\n",
        "    def top5_cuisiens_indian_cities(self):\n",
        "        c1 = []\n",
        "        c2 = []\n",
        "        for i in Indian_data[Indian_data[\"City\"] == self.city_name][\"Cuisines\"].values:\n",
        "            c1.append(i.split(\",\"))\n",
        "        for i in c1:\n",
        "            for j in i:\n",
        "                c2.append(j)\n",
        "        l = dict(Counter(c2))\n",
        "        from heapq import nlargest\n",
        "        res = nlargest(5, l, key = l.get)\n",
        "        return res\n",
        "\n",
        "    #Function to find the costly cuisien combinations of the people of a specific city\n",
        "    def top5_costly_cusiens_combinations_of_indian_cities(self):\n",
        "        return Indian_data[Indian_data[\"City\"] == self.city_name].sort_values(\"Average cost  in INR\", ascending = False)[\"Cuisines\"].head().tolist()\n",
        "    \n",
        "    #Function to find the top frequent restraunts in the city\n",
        "    def top_picks_of_people(self):\n",
        "        return Indian_data[Indian_data[\"City\"] == self.city_name][\"Restaurant Name\"].value_counts().head(5).index\n",
        "    \n",
        "    #Function to find the top 5 high revaneu restaurant of the city\n",
        "    def high_revaneu_restaurants(self):\n",
        "        return Indian_data[Indian_data[\"City\"] == self.city_name].groupby(\"Restaurant Name\").sum().sort_values(\"Average cost  in INR\", ascending = False).head().index\n",
        "    \n",
        "    #Function to find the least revaneu restarunts of the city\n",
        "    def low_revaneu_restarunts(self):\n",
        "        return Indian_data[Indian_data[\"City\"] == self.city_name].sort_values(\"Average cost  in INR\", ascending = True)[\"Restaurant Name\"].head().tolist()\n",
        "\n",
        "#********************************************************************************************************************************************************************************************\n",
        "#Function for tabulating city data\n",
        "def tabulate_city_data(x):\n",
        "    nx = City_data(x)\n",
        "    cusiens = nx.top5_cuisiens_indian_cities()\n",
        "    combination = nx.top5_costly_cusiens_combinations_of_indian_cities()\n",
        "    top_picks = nx.top_picks_of_people()\n",
        "    high_revaneu = nx.high_revaneu_restaurants()\n",
        "    low_revaneu = nx.low_revaneu_restarunts()\n",
        "\n",
        "    c_data=  pd.DataFrame({\"Rank\" : [1, 2, 3, 4, 5],\"Favourite cuisiens\" : cusiens,\n",
        "                              \"Top 5 costly cuisines combination\" : combination,\n",
        "                             \"Top picked Restarunts\" : top_picks,\n",
        "                             \"High revaneu restarunts\" : high_revaneu,\n",
        "                             \"Low revaneu restarunts\" : low_revaneu})\n",
        "    fig = go.Figure(data=[go.Table(\n",
        "        columnorder = [1,2, 3, 4, 5, 6],\n",
        "        columnwidth = [50,100, 250, 150, 150, 150],\n",
        "        header = dict(\n",
        "            values = [['<b>'+i+'<b>'] for i in c_data.columns],\n",
        "            line_color='red',\n",
        "            fill_color='black',\n",
        "            align=['center'],\n",
        "            font=dict(color='red', size=15),\n",
        "            height=40\n",
        "      ),\n",
        "      cells=dict(\n",
        "        values=[c_data.Rank,\n",
        "                c_data[\"Favourite cuisiens\"], \n",
        "                c_data[\"Top 5 costly cuisines combination\"], \n",
        "                c_data[\"Top picked Restarunts\"], \n",
        "                c_data[\"High revaneu restarunts\"],\n",
        "                c_data[\"Low revaneu restarunts\"]\n",
        "               ],\n",
        "        line_color='red',\n",
        "        fill=dict(color=['white', 'white']),\n",
        "        fill_color='white',\n",
        "        align=['center'],\n",
        "        font_size=15,\n",
        "        height=30)\n",
        "        )\n",
        "    ])\n",
        "    fig.update_layout(height = 300,width = 1300,\n",
        "                      paper_bgcolor = \"#091335\",\n",
        "                       autosize=False,\n",
        "                       margin = dict(\n",
        "                           l=20,\n",
        "                           r=20,\n",
        "                           b=0,\n",
        "                           t=10,\n",
        "                           pad=4,\n",
        "                           autoexpand=True))\n",
        "    return fig\n",
        "    \n",
        "#********************************************************************************************************************************************************************************************\n",
        "#Function for creating bar and pie chart of country wise analysis\n",
        "def city_plot(cty_name):\n",
        "  fig = make_subplots(\n",
        "      rows=1, cols=2,\n",
        "      subplot_titles=(f'Spending habit of people in the {cty_name}',\n",
        "                      'Dine IN vs Online delivery'),\n",
        "      specs=[[{\"type\": \"xy\"}, {\"type\": \"domain\"}]],         \n",
        "  )\n",
        "\n",
        "  fig.add_trace(\n",
        "      go.Box(x = Indian_data[Indian_data[\"City\"] == cty_name][\"Average cost  in INR\"], showlegend=False), row = 1, col = 1)\n",
        "  \n",
        "  fig.add_trace(go.Pie(values = Indian_data[Indian_data[\"City\"] == cty_name][\"Mode of Order\"].value_counts().tolist(),\n",
        "                        labels = Indian_data[Indian_data[\"City\"] == cty_name][\"Mode of Order\"].value_counts().index,\n",
        "                        textinfo=\"label+percent\",\n",
        "                        showlegend=False),\n",
        "                  row=1, col=2)\n",
        "\n",
        "  fig.update_layout(height=400,\n",
        "                    width = 1500,\n",
        "                     autosize=False,\n",
        "                    margin = dict(\n",
        "                        l=30,\n",
        "                        r=0,\n",
        "                        b=30,\n",
        "                        t=50,\n",
        "                        pad=4,\n",
        "                        autoexpand=False),\n",
        "                    template = \"plotly_dark\",\n",
        "                    plot_bgcolor = \"#A3ACAC\",\n",
        "                    paper_bgcolor = \"#091335 \",\n",
        "                    showlegend=False)\n",
        "  return fig\n"
      ]
    },
    {
      "cell_type": "code",
      "execution_count": 15,
      "metadata": {
        "id": "2LuosKDx21cI"
      },
      "outputs": [],
      "source": [
        "#Counter will not work woth nan vaues so removing the nan values.\n",
        "data.dropna(axis = 0, inplace = True)\n",
        "\n",
        "#Function to find the fav cuisiens of countries\n",
        "def fav_cuisiens_countries(x):\n",
        "    c1 = []\n",
        "    c2 = []\n",
        "    \n",
        "    for i in data[data[\"Country Name\"] == x][\"Cuisines\"].values:\n",
        "        c1.append(i.split(\",\"))\n",
        "    for i in c1:\n",
        "        for j in i:\n",
        "            c2.append(j)\n",
        "    l = dict(Counter(c2))\n",
        "    from heapq import nlargest\n",
        "    res = nlargest(1, l, key = l.get)\n",
        "    return res\n",
        "#top revanued city\n",
        "def max_perticipant(x):\n",
        "    max_city = data[data[\"Country Name\"] == x].groupby(\"City\").sum().sort_values(\"Average cost  in INR\", ascending = False).index[0]\n",
        "    return max_city\n",
        "#least revanued city\n",
        "def min_perticipant(x):\n",
        "    min_city = data[data[\"Country Name\"] == x].groupby(\"City\").sum().sort_values(\"Average cost  in INR\", ascending = False).index[-1]\n",
        "    return min_city\n",
        "#top revaneu in a single city\n",
        "def amt_max_cont(x):\n",
        "    amt_max = data[data[\"Country Name\"] == x].groupby(\"City\").sum().sort_values(\"Average cost  in INR\", ascending = False).iloc[0, 6]\n",
        "    return amt_max\n",
        "#leadt revanue in a single city\n",
        "def amt_min_cont(x):\n",
        "    amt_min = data[data[\"Country Name\"] == x].groupby(\"City\").sum().sort_values(\"Average cost  in INR\", ascending = False).iloc[-1, 6]\n",
        "    return amt_min\n",
        "\n",
        "def iso_code(x):    \n",
        "    import pycountry\n",
        "    user_input = x\n",
        "    mapping = {country.name: country.alpha_3 for country in pycountry.countries}\n",
        "    return mapping.get(user_input)"
      ]
    },
    {
      "cell_type": "code",
      "execution_count": 16,
      "metadata": {
        "collapsed": true,
        "id": "QPIqOAYu21cO"
      },
      "outputs": [],
      "source": [
        "Country_data = data.groupby(\"Country Name\").mean().iloc[:, [6,7,8]]\n",
        "Country_data[\"Total amount of money spent in a country\"] = data.groupby(\"Country Name\").sum().iloc[:, 6]\n",
        "Country_data[\"Sum of voted in a country\"] = data.groupby(\"Country Name\").sum().iloc[:, 9]\n",
        "Country_data[\"Country Name\"] = Country_data.index\n",
        "Country_data[\"S.No\"] = [i for i in range(1, Country_data.shape[0]+1)]\n",
        "Country_data.set_index(\"S.No\", inplace = True)\n",
        "Country_data[\"Maximum contributed city\"] = Country_data[\"Country Name\"].apply(lambda x:max_perticipant(x))\n",
        "Country_data[\"Maximum contributed amount\"] = Country_data[\"Country Name\"].apply(lambda x:amt_max_cont(x))\n",
        "Country_data[\"Minimum contributed city\"] = Country_data[\"Country Name\"].apply(lambda x:min_perticipant(x))\n",
        "Country_data[\"Minimum contributed amount\"] = Country_data[\"Country Name\"].apply(lambda x:amt_min_cont(x))\n",
        "Country_data[\"Favourite cuisien\"] = Country_data[\"Country Name\"].apply(lambda x:fav_cuisiens_countries(x)[0])\n",
        "Country_data[\"ISO_alpha\"] = Country_data[\"Country Name\"].apply(lambda x:iso_code(x))\n",
        "Country_data.iloc[-3, -1] = \"UAE\"\n",
        "Country_data.iloc[6, -1] = \"PHL\"\n",
        "online_order_by_country = {}\n",
        "dine_in_by_country = {}\n",
        "for i in zip(data[data[\"Mode of Order\"] == \"Dine In\"].groupby(\"Country Name\").sum().iloc[:, 6].index, data[data[\"Mode of Order\"] == \"Dine In\"].groupby(\"Country Name\").sum().iloc[:, 6].tolist()):\n",
        "  dine_in_by_country[i[0]] = round(i[1], 2)\n",
        "for i in zip(data[data[\"Mode of Order\"] == \"Online Delivery\"].groupby(\"Country Name\").sum().iloc[:, 6].index, data[data[\"Mode of Order\"] == \"Online Delivery\"].groupby(\"Country Name\").sum().iloc[:, 6].tolist()):\n",
        "  online_order_by_country[i[0]] = round(i[1], 2)\n",
        "\n",
        "Country_data[\"Revanue by Online delivery\"] = Country_data[\"Country Name\"].map(online_order_by_country)\n",
        "Country_data[\"Revanue by Dine In\"] = Country_data[\"Country Name\"].map(dine_in_by_country)\n",
        "#Since dine in data of some countries were not available it is filled zero for further manipulation\n",
        "Country_data.fillna(0, inplace = True)"
      ]
    },
    {
      "cell_type": "code",
      "source": [
        "#Class of functiond for creating the content for the table\n",
        "class Country_details:\n",
        "  def __init__(self, c_name):\n",
        "    self.c_name = c_name\n",
        "\n",
        "  def fav_cuis_country(self):\n",
        "    cuis = Country_data[Country_data[\"Country Name\"] == self.c_name].iloc[0, -4]\n",
        "    return cuis\n",
        "\n",
        "  def t_contribution(self):\n",
        "    t_cont = Country_data[Country_data[\"Country Name\"] == self.c_name].iloc[0, 3]\n",
        "    return \"₹\"+str(round(t_cont, 2))\n",
        "\n",
        "  def avg_spend(self):\n",
        "    avg_spnd = Country_data[Country_data[\"Country Name\"] == self.c_name].iloc[0, 0]\n",
        "    return \"₹\"+str(round(avg_spnd, 2))\n",
        "\n",
        "  def max_city(self):\n",
        "    max_city = Country_data[Country_data[\"Country Name\"] == self.c_name].iloc[0, 6]\n",
        "    return max_city\n",
        "  \n",
        "  def min_city(self):\n",
        "    min_city = Country_data[Country_data[\"Country Name\"] == self.c_name].iloc[0, 8]\n",
        "    return min_city\n",
        "\n",
        "#*********************************************************************************************************************************************************************************\n",
        "#Function for creating table for the country wise analysis\n",
        "def tabulate_country_data(x):\n",
        "    country_analysis = Country_details(x)\n",
        "    o1 = country_analysis.fav_cuis_country()\n",
        "    o2 = country_analysis.t_contribution()\n",
        "    o3 = country_analysis.avg_spend()\n",
        "    o4 = country_analysis.max_city()\n",
        "    o5 = country_analysis.min_city()\n",
        "    ctry_data=  pd.DataFrame({\"Favourite Cuisine\" : o1,\n",
        "                              \"Total contribution\" : o2,\n",
        "                              \"Average spending ability of people\" : o3,\n",
        "                              \"Maximum contributed city\" : o4,\n",
        "                              \"Minimum contributed city\" : o5}, index = [1])\n",
        "    fig = go.Figure(data=[go.Table(\n",
        "        columnorder = [1,2, 3, 4, 5],\n",
        "        columnwidth = [100,100, 150, 150, 150],\n",
        "        header = dict(\n",
        "            values = [['<b>'+i+'<b>'] for i in ctry_data.columns],\n",
        "            line_color='red',\n",
        "            fill_color='black',\n",
        "            align=['center'],\n",
        "            font=dict(color='red', size=15),\n",
        "            height=40\n",
        "      ),\n",
        "      cells=dict(\n",
        "        values=[ctry_data[\"Favourite Cuisine\"],\n",
        "                ctry_data[\"Total contribution\"], \n",
        "                ctry_data[\"Average spending ability of people\"], \n",
        "                ctry_data[\"Maximum contributed city\"], \n",
        "                ctry_data[\"Minimum contributed city\"]\n",
        "               ],\n",
        "        line_color='red',\n",
        "        fill=dict(color=['white', 'white']),\n",
        "        align=['center'],\n",
        "        font_size=15,\n",
        "        height=30)\n",
        "        )\n",
        "    ])\n",
        "    fig.update_layout(width=1500, height=290, paper_bgcolor = \"#091335\", title = \"Tabular representation of country\")\n",
        "    \n",
        "    return fig\n",
        "\n",
        "#***************************************************************************************************************************************************************************\n",
        "#Function for creating bar and pie chart of country wise analysis\n",
        "def country_plot(c_name):\n",
        "  fig = make_subplots(\n",
        "      rows=1, cols=2,\n",
        "      subplot_titles=(f'Spending habit of people in the country {c_name} in INR',\n",
        "                      'Dine IN vs Online delivery'),\n",
        "      specs=[[{\"type\": \"xy\"}, {\"type\": \"domain\"}]],         \n",
        "  )\n",
        "\n",
        "  fig.add_trace(\n",
        "      go.Box(x = data[data[\"Country Name\"] == c_name][\"Average cost  in INR\"], showlegend=False), row = 1, col = 1)\n",
        "  \n",
        "  fig.add_trace(go.Pie(values = data[data[\"Country Name\"] == c_name][\"Mode of Order\"].value_counts().tolist(),\n",
        "                        labels = data[data[\"Country Name\"] == c_name][\"Mode of Order\"].value_counts().index,\n",
        "                        textinfo=\"label+percent\",\n",
        "                        showlegend=False),\n",
        "                  row=1, col=2)\n",
        "\n",
        "  fig.update_layout(height=500,\n",
        "                    width = 1500,\n",
        "                    template = \"plotly_dark\",\n",
        "                    plot_bgcolor = \"#A3ACAC\",\n",
        "                    paper_bgcolor = \"#091335\",\n",
        "                    showlegend=False)\n",
        "  return fig\n"
      ],
      "metadata": {
        "id": "yV9GcJEI21cO"
      },
      "execution_count": 17,
      "outputs": []
    },
    {
      "cell_type": "code",
      "source": [
        "def choropleth_map(feature):\n",
        "  money = [\"Average cost  in INR\", \"Total amount of money spent in a country\", \"Revanue by Online delivery\", \"Revanue by Dine In\"]\n",
        "  if feature in money:\n",
        "    ct = '₹'\n",
        "  elif feature not in money:\n",
        "    ct = \"\"\n",
        "\n",
        "  fig = go.Figure(data=go.Choropleth(\n",
        "      locations = Country_data['ISO_alpha'],\n",
        "      z = Country_data[feature],\n",
        "      text = Country_data['Country Name'],\n",
        "      autocolorscale=True,\n",
        "      reversescale=True,\n",
        "      marker_line_color='black',\n",
        "      marker_line_width=0.5,\n",
        "      colorbar_tickprefix = ct,\n",
        "      colorbar_title = feature\n",
        "  ))\n",
        "\n",
        "  fig.update_layout(\n",
        "      autosize=False,\n",
        "      margin = dict(\n",
        "                l=2,\n",
        "                r=0,\n",
        "                b=0,\n",
        "                t=0,\n",
        "                pad=4,\n",
        "                autoexpand=True\n",
        "            ),height = 500, width = 1500,\n",
        "            paper_bgcolor = \"#091335\",\n",
        "      geo=dict(\n",
        "          showframe=False,\n",
        "          showcoastlines=False,\n",
        "          projection_type='equirectangular',\n",
        "          showocean=True, oceancolor=\"LightBlue\"\n",
        "      ),\n",
        "      annotations = [dict(\n",
        "          x=0.1,\n",
        "          y=0.1,\n",
        "          xref='paper',\n",
        "          yref='paper',\n",
        "          showarrow = False\n",
        "      )]\n",
        "  )\n",
        "  return fig\n",
        "\n",
        "def scatter_map(feature):\n",
        "  money = [\"Average cost  in INR\", \"Total amount of money spent in a country\", \"Revanue by Online delivery\", \"Revanue by Dine In\"]\n",
        "  if feature in money:\n",
        "    ct = '₹'\n",
        "  elif feature not in money:\n",
        "    ct = \"\"\n",
        "  fig = px.scatter_geo(Country_data, locations=\"ISO_alpha\",\n",
        "                      color=feature, # lifeExp is a column of gapminder\n",
        "                      hover_name=\"Country Name\", # column to add to hover information\n",
        "                      color_continuous_scale=px.colors.sequential.Plasma,\n",
        "                      size = feature,\n",
        "                      hover_data = [\"Favourite cuisien\",\n",
        "                                    \"Maximum contributed city\", \n",
        "                                    \"Maximum contributed amount\",\n",
        "                                    \"Minimum contributed city\",\n",
        "                                    \"Minimum contributed amount\",\n",
        "                                    ])\n",
        "  fig.update_layout(\n",
        "      autosize=False,\n",
        "      margin = dict(\n",
        "                l=2,\n",
        "                r=0,\n",
        "                b=0,\n",
        "                t=0,\n",
        "                pad=4,\n",
        "                autoexpand=True\n",
        "            ),height = 500, width = 1500,\n",
        "            paper_bgcolor = \"#091335\",\n",
        "      geo=dict(\n",
        "          showframe=False,\n",
        "          showcoastlines=False,\n",
        "          projection_type='equirectangular',\n",
        "          showocean=True, \n",
        "          oceancolor=\"LightBlue\"\n",
        "      ))\n",
        "  return fig\n",
        "\n",
        "\n"
      ],
      "metadata": {
        "id": "0D2eHWnJ3OUP"
      },
      "execution_count": 18,
      "outputs": []
    },
    {
      "cell_type": "code",
      "source": [
        "#from dash import Dash\n",
        "from jupyter_dash import JupyterDash\n",
        "from dash import Dash, dcc, html, Input, Output\n",
        "import dash_bootstrap_components as dbc\n",
        "#\n",
        "load_figure_template([\"sketchy\", \"cyborg\", \"minty\"])\n",
        "#app = Dash(__name__)\n",
        "\n",
        "app = JupyterDash(__name__, external_stylesheets=[dbc.themes.VAPOR])\n",
        "\n",
        "fig6 = px.icicle(overall_indian_data, path=[px.Constant(\"all\"), 'Mode of Order','City', \"State\"],\n",
        "                values='Total cost in log', color='State', hover_name = \"Total Cost in INR\", hover_data = [\"No of Orders\", \"Total Cost in INR\"])\n",
        "fig6.update_layout(margin = dict(t=50, l=25, r=25, b=25), paper_bgcolor = \"#091335\")\n",
        "\n",
        "app.layout = html.Div([\n",
        "   html.H1(\"Zomato Conutry wise sales analysis\", style = {\"color\" : \"red\", \"textAlign\"  : \"center\"}),\n",
        "   html.Br(),\n",
        "   html.H4(\"Select the Country\"),\n",
        "   html.Div([\n",
        "       dcc.Dropdown(\n",
        "           id = \"countryname\",\n",
        "           options = [{\"label\" : x, \"value\" : x} for x in data[\"Country Name\"].unique()],\n",
        "           placeholder = \"India\",\n",
        "           clearable=True   \n",
        "       )\n",
        "   ]),\n",
        "   html.Br(),\n",
        "   dcc.Graph(\n",
        "       id = \"fig3\"\n",
        "   ),\n",
        "   #html.Br(),\n",
        "   dcc.Graph(\n",
        "       id = \"fig4\"\n",
        "       ),\n",
        "     html.H1(\"Zomato data Indian Citywise analysis\", style = {\"color\" : \"red\", \"textAlign\"  : \"center\"}),\n",
        "     html.Br(),\n",
        "     html.H4(\"Select the city\"),\n",
        "   html.Div([\n",
        "       dcc.Dropdown(\n",
        "           id = \"cityname\",\n",
        "           options = [{\"label\" : x, \"value\" : x} for x in Indian_data[\"City\"].unique()],\n",
        "           value = \"Chennai\",\n",
        "           clearable=True   \n",
        "       )\n",
        "   ]),\n",
        "   html.Br(),\n",
        "   dcc.Graph(\n",
        "       id = \"fig1\"\n",
        "   ),\n",
        "   html.Br(),\n",
        "   dcc.Graph(\n",
        "       id = \"fig2\"\n",
        "       ),\n",
        "    html.Br(),\n",
        "    html.H1(\"Revanue of the Indian Cities with respect to their delivery modes\", style = {\"color\" : \"red\", \"textAlign\" : \"center\", \"size\" : 15}),\n",
        "    dcc.Graph(\n",
        "        id = \"mode_of_delivery_analysis\",\n",
        "        figure = fig6\n",
        "\n",
        "  ),\n",
        "  html.H1(\"Zomato worldwide sales analysis\", style = {\"color\" : \"red\", \"textAlign\"  : \"center\"}),\n",
        "  html.H4(\"Select the featur\"),\n",
        "  html.Div([\n",
        "      dcc.Dropdown(\n",
        "          id = \"featurename\",\n",
        "          options = [{\"label\" : \"Country wise spending nature\" ,\"value\" :  \"Average cost  in INR\"},\n",
        "                     {\"label\" : \"Gross revaneu by country\" , \"value\" : \"Total amount of money spent in a country\"},\n",
        "                     {\"label\" : \"Revaneu by Online delivery\" , \"value\" : \"Revanue by Online delivery\"},\n",
        "                     {\"label\" : \"Revaneu by Dine In\" , \"value\" : \"Revanue by Dine In\"},\n",
        "                     {\"label\" : \"Average Rating by the customers by country\" , \"value\" : \"Aggregate rating\"},\n",
        "                     {\"label\" : \"Prefered price range by country\" , \"value\" : \"Price range\"}],\n",
        "                   value = \"Gross revaneu by country\",\n",
        "                   clearable=True   \n",
        "       )\n",
        "   ]),\n",
        "   html.Br(),\n",
        "   html.H4(\"Select the map type\"),\n",
        "   dcc.RadioItems(\n",
        "       id = \"map_selection\",\n",
        "       options = ['Choropleth Visuvalization','Scattered Visuvalization'],\n",
        "       value =  'Choropleth Visuvalization'),\n",
        "  #html.Br(),\n",
        "  html.H2([], \n",
        "          style = {\"Color\" : \"red\", \"textAlign\" : \"center\", \"size\" : 15},\n",
        "          id = \"map_name\"),\n",
        "  html.Br(),\n",
        "\n",
        "   dcc.Graph(\n",
        "       id = \"fig5\"\n",
        "   ),\n",
        "   html.Br(),\n",
        "   html.H6(\"This dashboard is only for educational purpose and developed by G.TAMIZHARASAN\", style = {\"textAlign\" : \"center\"})\n",
        "\n",
        "   \n",
        "])\n",
        " \n",
        " \n",
        "@app.callback(\n",
        "    Output(component_id='fig3', component_property='figure'),\n",
        "    Input(component_id='countryname', component_property='value'),\n",
        "    prevent_initial_call=True\n",
        ")\n",
        "def update_tabel_country(input_value):\n",
        "  return tabulate_country_data(input_value)\n",
        "\n",
        "@app.callback(\n",
        "    Output(component_id='fig4', component_property='figure'),\n",
        "    Input(component_id='countryname', component_property='value'),\n",
        "    prevent_initial_call=True\n",
        ")\n",
        "def update_charts_country(input_value):\n",
        "  return country_plot(input_value)\n",
        "\n",
        "@app.callback(\n",
        "    Output(component_id='fig1', component_property='figure'),\n",
        "    Input(component_id='cityname', component_property='value'),\n",
        "    prevent_initial_call=True\n",
        ")\n",
        "def update_tabel_city(input_value):\n",
        "  return tabulate_city_data(input_value)\n",
        "\n",
        "@app.callback(\n",
        "    Output(component_id='fig2', component_property='figure'),\n",
        "    Input(component_id='cityname', component_property='value'),\n",
        "    prevent_initial_call=True\n",
        ")\n",
        "def update_chart_india(input_value):\n",
        "  return city_plot(input_value)\n",
        "\n",
        "@app.callback(\n",
        "    Output(component_id='map_name', component_property='children'),\n",
        "    Input(component_id='featurename', component_property='value'),\n",
        ")\n",
        "def title(name): \n",
        "  return name.upper()\n",
        "\n",
        " \n",
        "@app.callback(\n",
        "    Output(component_id='fig5', component_property='figure'),\n",
        "    Input(component_id='featurename', component_property='value'),\n",
        "    Input(component_id='map_selection', component_property='value'),\n",
        "    prevent_initial_call=True\n",
        ")\n",
        "def update_map(comp, map_selection):\n",
        "  if map_selection == \"Choropleth Visuvalization\":\n",
        "    return choropleth_map(comp)\n",
        "  elif map_selection == \"Scattered Visuvalization\":\n",
        "    return scatter_map(comp)\n",
        "\n",
        "\n",
        "\n",
        "\n",
        "if __name__ == '__main__':\n",
        "   app.run_server(mode = \"external\", port = 8600)"
      ],
      "metadata": {
        "id": "I5ds8TZ-3Q5M",
        "colab": {
          "base_uri": "https://localhost:8080/",
          "height": 52
        },
        "outputId": "d8910610-6684-40d0-a754-b0b23e39bd91"
      },
      "execution_count": 22,
      "outputs": [
        {
          "output_type": "stream",
          "name": "stdout",
          "text": [
            "Dash app running on:\n"
          ]
        },
        {
          "output_type": "display_data",
          "data": {
            "text/plain": [
              "<IPython.core.display.Javascript object>"
            ],
            "application/javascript": [
              "(async (port, path, text, element) => {\n",
              "    if (!google.colab.kernel.accessAllowed) {\n",
              "      return;\n",
              "    }\n",
              "    element.appendChild(document.createTextNode(''));\n",
              "    const url = await google.colab.kernel.proxyPort(port);\n",
              "    const anchor = document.createElement('a');\n",
              "    anchor.href = new URL(path, url).toString();\n",
              "    anchor.target = '_blank';\n",
              "    anchor.setAttribute('data-href', url + path);\n",
              "    anchor.textContent = text;\n",
              "    element.appendChild(anchor);\n",
              "  })(8600, \"/\", \"http://127.0.0.1:8600/\", window.element)"
            ]
          },
          "metadata": {}
        }
      ]
    }
  ],
  "metadata": {
    "colab": {
      "provenance": [],
      "include_colab_link": true
    },
    "kernelspec": {
      "display_name": "Python 3 (ipykernel)",
      "language": "python",
      "name": "python3"
    },
    "language_info": {
      "codemirror_mode": {
        "name": "ipython",
        "version": 3
      },
      "file_extension": ".py",
      "mimetype": "text/x-python",
      "name": "python",
      "nbconvert_exporter": "python",
      "pygments_lexer": "ipython3",
      "version": "3.11.0"
    }
  },
  "nbformat": 4,
  "nbformat_minor": 0
}