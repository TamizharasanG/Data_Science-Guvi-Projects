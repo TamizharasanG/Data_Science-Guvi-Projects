{
  "cells": [
    {
      "cell_type": "markdown",
      "metadata": {
        "id": "view-in-github",
        "colab_type": "text"
      },
      "source": [
        "<a href=\"https://colab.research.google.com/github/TamizharasanG/Guvi_Tasks/blob/main/copy_of_numpy_tasks.ipynb\" target=\"_parent\"><img src=\"https://colab.research.google.com/assets/colab-badge.svg\" alt=\"Open In Colab\"/></a>"
      ]
    },
    {
      "cell_type": "markdown",
      "metadata": {
        "id": "oSsTRj98RojV"
      },
      "source": [
        "# Numpy\n",
        "\n"
      ]
    },
    {
      "cell_type": "markdown",
      "metadata": {
        "id": "FR1Dqi-jRojh"
      },
      "source": [
        "#### 1. Import the numpy package under the name `np` (★☆☆) \n",
        "(**hint**: import … as …)"
      ]
    },
    {
      "cell_type": "code",
      "execution_count": null,
      "metadata": {
        "collapsed": true,
        "id": "yevcs5qjRojj"
      },
      "outputs": [],
      "source": [
        "import numpy as np"
      ]
    },
    {
      "cell_type": "markdown",
      "metadata": {
        "id": "n1lnZtqXRojl"
      },
      "source": [
        "#### 2. Print the numpy version and the configuration (★☆☆) \n",
        "(**hint**: np.\\_\\_version\\_\\_, np.show\\_config)"
      ]
    },
    {
      "cell_type": "code",
      "execution_count": null,
      "metadata": {
        "id": "f1uDwrYvRojn",
        "colab": {
          "base_uri": "https://localhost:8080/",
          "height": 36
        },
        "outputId": "325d33a0-914f-4a99-8cf9-4574de682141"
      },
      "outputs": [
        {
          "output_type": "execute_result",
          "data": {
            "text/plain": [
              "'1.21.6'"
            ],
            "application/vnd.google.colaboratory.intrinsic+json": {
              "type": "string"
            }
          },
          "metadata": {},
          "execution_count": 2
        }
      ],
      "source": [
        "np.__version__"
      ]
    },
    {
      "cell_type": "markdown",
      "metadata": {
        "id": "q186UGdJRojo"
      },
      "source": [
        "#### 3. Create a null vector of size 10 (★☆☆) \n",
        "(**hint**: np.zeros)"
      ]
    },
    {
      "cell_type": "code",
      "execution_count": null,
      "metadata": {
        "id": "FQG2sK_nRojp",
        "colab": {
          "base_uri": "https://localhost:8080/"
        },
        "outputId": "1336f0ef-6707-4b2e-a281-805da931c5ef"
      },
      "outputs": [
        {
          "output_type": "execute_result",
          "data": {
            "text/plain": [
              "array([0., 0., 0., 0., 0., 0., 0., 0., 0., 0.])"
            ]
          },
          "metadata": {},
          "execution_count": 3
        }
      ],
      "source": [
        "np.zeros(10)"
      ]
    },
    {
      "cell_type": "markdown",
      "metadata": {
        "id": "LPmfetmZRojr"
      },
      "source": [
        "#### 4.  How to find the memory size of any array (★☆☆) \n",
        "(**hint**: size, itemsize)"
      ]
    },
    {
      "cell_type": "code",
      "execution_count": null,
      "metadata": {
        "id": "LfFR4WuYRojt",
        "colab": {
          "base_uri": "https://localhost:8080/"
        },
        "outputId": "dccdffdc-e45f-4587-ccc0-446b4c0d3ec0"
      },
      "outputs": [
        {
          "output_type": "stream",
          "name": "stdout",
          "text": [
            "[ 1  2  3  4  5  6  7  8  9 10 11 12 13 14 15 16 17 18 19 20]\n",
            "20\n",
            "8\n"
          ]
        }
      ],
      "source": [
        "x = np.array([i for i in range(1, 21)])\n",
        "print(x)\n",
        "print(x.size)\n",
        "print(x.itemsize)"
      ]
    },
    {
      "cell_type": "markdown",
      "metadata": {
        "id": "05rpcQVkRoju"
      },
      "source": [
        "#### 5.  How to get the documentation of the numpy add function from the command line? (★☆☆) \n",
        "(**hint**: np.info)"
      ]
    },
    {
      "cell_type": "code",
      "execution_count": null,
      "metadata": {
        "collapsed": true,
        "id": "23mG3LReRojw",
        "colab": {
          "base_uri": "https://localhost:8080/"
        },
        "outputId": "a4232784-f77f-4cb9-f104-b2cf4743ee0c"
      },
      "outputs": [
        {
          "output_type": "stream",
          "name": "stdout",
          "text": [
            " info(object=None, maxwidth=76,\n",
            "      output=<ipykernel.iostream.OutStream object at 0x7f7142f23f10>,\n",
            "      toplevel='numpy')\n",
            "\n",
            "Get help information for a function, class, or module.\n",
            "\n",
            "Parameters\n",
            "----------\n",
            "object : object or str, optional\n",
            "    Input object or name to get information about. If `object` is a\n",
            "    numpy object, its docstring is given. If it is a string, available\n",
            "    modules are searched for matching objects.  If None, information\n",
            "    about `info` itself is returned.\n",
            "maxwidth : int, optional\n",
            "    Printing width.\n",
            "output : file like object, optional\n",
            "    File like object that the output is written to, default is\n",
            "    ``stdout``.  The object has to be opened in 'w' or 'a' mode.\n",
            "toplevel : str, optional\n",
            "    Start search at this level.\n",
            "\n",
            "See Also\n",
            "--------\n",
            "source, lookfor\n",
            "\n",
            "Notes\n",
            "-----\n",
            "When used interactively with an object, ``np.info(obj)`` is equivalent\n",
            "to ``help(obj)`` on the Python prompt or ``obj?`` on the IPython\n",
            "prompt.\n",
            "\n",
            "Examples\n",
            "--------\n",
            ">>> np.info(np.polyval) # doctest: +SKIP\n",
            "   polyval(p, x)\n",
            "     Evaluate the polynomial p at x.\n",
            "     ...\n",
            "\n",
            "When using a string for `object` it is possible to get multiple results.\n",
            "\n",
            ">>> np.info('fft') # doctest: +SKIP\n",
            "     *** Found in numpy ***\n",
            "Core FFT routines\n",
            "...\n",
            "     *** Found in numpy.fft ***\n",
            " fft(a, n=None, axis=-1)\n",
            "...\n",
            "     *** Repeat reference found in numpy.fft.fftpack ***\n",
            "     *** Total of 3 references found. ***\n"
          ]
        }
      ],
      "source": [
        "np.info()"
      ]
    },
    {
      "cell_type": "markdown",
      "metadata": {
        "id": "9oidTc8sRojx"
      },
      "source": [
        "#### 6.  Create a null vector of size 10 but the fifth value which is 1 (★☆☆) \n",
        "(**hint**: array\\[4\\])"
      ]
    },
    {
      "cell_type": "code",
      "execution_count": null,
      "metadata": {
        "id": "Oc940Z7hRojx"
      },
      "outputs": [],
      "source": []
    },
    {
      "cell_type": "markdown",
      "metadata": {
        "id": "EkIO5-VxRojy"
      },
      "source": [
        "#### 7.  Create a vector with values ranging from 10 to 49 (★☆☆) \n",
        "(**hint**: np.arange)"
      ]
    },
    {
      "cell_type": "code",
      "execution_count": null,
      "metadata": {
        "id": "zPdjCn5lRojz",
        "colab": {
          "base_uri": "https://localhost:8080/"
        },
        "outputId": "e7f9cd2c-384d-4ecb-bdf8-0858776c930a"
      },
      "outputs": [
        {
          "output_type": "execute_result",
          "data": {
            "text/plain": [
              "array([10, 11, 12, 13, 14, 15, 16, 17, 18, 19, 20, 21, 22, 23, 24, 25, 26,\n",
              "       27, 28, 29, 30, 31, 32, 33, 34, 35, 36, 37, 38, 39, 40, 41, 42, 43,\n",
              "       44, 45, 46, 47, 48])"
            ]
          },
          "metadata": {},
          "execution_count": 11
        }
      ],
      "source": [
        "x = np.arange(10, 49)\n",
        "x\n"
      ]
    },
    {
      "cell_type": "markdown",
      "metadata": {
        "id": "rqn2BvXIRojz"
      },
      "source": [
        "#### 8.  Reverse a vector (first element becomes last) (★☆☆) \n",
        "(**hint**: array\\[::-1\\])"
      ]
    },
    {
      "cell_type": "code",
      "execution_count": null,
      "metadata": {
        "id": "9f7ubZ8ARoj0",
        "colab": {
          "base_uri": "https://localhost:8080/"
        },
        "outputId": "45920df3-215b-44b7-d3e0-fe16c1bdfb39"
      },
      "outputs": [
        {
          "output_type": "execute_result",
          "data": {
            "text/plain": [
              "array([48, 47, 46, 45, 44, 43, 42, 41, 40, 39, 38, 37, 36, 35, 34, 33, 32,\n",
              "       31, 30, 29, 28, 27, 26, 25, 24, 23, 22, 21, 20, 19, 18, 17, 16, 15,\n",
              "       14, 13, 12, 11, 10])"
            ]
          },
          "metadata": {},
          "execution_count": 14
        }
      ],
      "source": [
        "x[::-1]\n"
      ]
    },
    {
      "cell_type": "markdown",
      "metadata": {
        "id": "PLEHXmS-Roj0"
      },
      "source": [
        "#### 9.  Create a 3x3 matrix with values ranging from 0 to 8 (★☆☆) \n",
        "(**hint**: reshape)"
      ]
    },
    {
      "cell_type": "code",
      "execution_count": null,
      "metadata": {
        "id": "iLaakyNVRoj1",
        "colab": {
          "base_uri": "https://localhost:8080/"
        },
        "outputId": "868da789-1c49-49c2-d6ea-e5412bb6132d"
      },
      "outputs": [
        {
          "output_type": "stream",
          "name": "stdout",
          "text": [
            "(3, 3)\n"
          ]
        },
        {
          "output_type": "execute_result",
          "data": {
            "text/plain": [
              "array([[0, 1, 2],\n",
              "       [3, 4, 5],\n",
              "       [6, 7, 8]])"
            ]
          },
          "metadata": {},
          "execution_count": 16
        }
      ],
      "source": [
        "x = np.arange(0, 9).reshape(3, 3)\n",
        "print(x.shape)\n",
        "x"
      ]
    },
    {
      "cell_type": "markdown",
      "metadata": {
        "id": "3t7-hdWYRoj2"
      },
      "source": [
        "#### 10. Find indices of non-zero elements from \\[1,2,0,0,4,0\\] (★☆☆) \n",
        "(**hint**: np.nonzero)"
      ]
    },
    {
      "cell_type": "code",
      "execution_count": null,
      "metadata": {
        "id": "sY_viaTrRoj3",
        "colab": {
          "base_uri": "https://localhost:8080/"
        },
        "outputId": "328fdfa1-1536-47db-abab-4b342e297bde"
      },
      "outputs": [
        {
          "output_type": "execute_result",
          "data": {
            "text/plain": [
              "(array([0, 1, 4]),)"
            ]
          },
          "metadata": {},
          "execution_count": 20
        }
      ],
      "source": [
        "x = np.array([1, 2, 0, 0, 4, 0])\n",
        "np.nonzero(x)"
      ]
    },
    {
      "cell_type": "markdown",
      "metadata": {
        "id": "Yk4Fuc8DRoj3"
      },
      "source": [
        "#### 11. Create a 3x3 identity matrix (★☆☆) \n",
        "(**hint**: np.eye)"
      ]
    },
    {
      "cell_type": "code",
      "execution_count": null,
      "metadata": {
        "id": "9mwTr3IdRoj4",
        "colab": {
          "base_uri": "https://localhost:8080/"
        },
        "outputId": "969f7317-08cb-43be-acad-7550c890ea0b"
      },
      "outputs": [
        {
          "output_type": "execute_result",
          "data": {
            "text/plain": [
              "array([[1., 0., 0.],\n",
              "       [0., 1., 0.],\n",
              "       [0., 0., 1.]])"
            ]
          },
          "metadata": {},
          "execution_count": 22
        }
      ],
      "source": [
        "x = np.eye(3, 3)\n",
        "x"
      ]
    },
    {
      "cell_type": "markdown",
      "metadata": {
        "id": "vGkgOMk4Roj4"
      },
      "source": [
        "#### 12. Create a 3x3x3 array with random values (★☆☆) \n",
        "(**hint**: np.random.random)"
      ]
    },
    {
      "cell_type": "code",
      "execution_count": null,
      "metadata": {
        "collapsed": true,
        "id": "cpCWD0eDRoj5",
        "colab": {
          "base_uri": "https://localhost:8080/"
        },
        "outputId": "79f3d1b2-f098-4299-de3e-ba27475cb8d1"
      },
      "outputs": [
        {
          "output_type": "execute_result",
          "data": {
            "text/plain": [
              "array([[[0.91742193, 0.60199542, 0.8370491 ],\n",
              "        [0.97108528, 0.95894722, 0.90816176],\n",
              "        [0.44578049, 0.4029511 , 0.61181692]],\n",
              "\n",
              "       [[0.20893872, 0.13150176, 0.05833979],\n",
              "        [0.35763366, 0.67885351, 0.93516546],\n",
              "        [0.69942959, 0.82071106, 0.13860876]],\n",
              "\n",
              "       [[0.84224422, 0.11250213, 0.73097851],\n",
              "        [0.16446555, 0.63180456, 0.42678248],\n",
              "        [0.49765617, 0.85359357, 0.28993104]]])"
            ]
          },
          "metadata": {},
          "execution_count": 30
        }
      ],
      "source": [
        "x = np.random.random(27).reshape(3, 3, 3)\n",
        "x"
      ]
    },
    {
      "cell_type": "markdown",
      "metadata": {
        "id": "1MOXHuhZRoj5"
      },
      "source": [
        "#### 13. Create a 10x10 array with random values and find the minimum and maximum values (★☆☆) \n",
        "(**hint**: min, max)"
      ]
    },
    {
      "cell_type": "code",
      "execution_count": null,
      "metadata": {
        "id": "4Ql2_42PRoj6",
        "colab": {
          "base_uri": "https://localhost:8080/"
        },
        "outputId": "704c7cc7-8c52-43e0-cdd3-e9912ee79395"
      },
      "outputs": [
        {
          "output_type": "stream",
          "name": "stdout",
          "text": [
            "[[0.05772798 0.21156714 0.08648786 0.59139727 0.79997331 0.09699441\n",
            "  0.97666584 0.65475968 0.76244355 0.46290827]\n",
            " [0.73161832 0.61819495 0.88191878 0.31324079 0.11396279 0.22414087\n",
            "  0.59259454 0.45899751 0.37484118 0.15290365]\n",
            " [0.380342   0.7423078  0.06289981 0.99356703 0.52241338 0.29631009\n",
            "  0.91486961 0.96755578 0.16393745 0.24348603]\n",
            " [0.5655824  0.19939969 0.2407527  0.7516825  0.47315238 0.13129377\n",
            "  0.2864911  0.35236081 0.68365105 0.95936237]\n",
            " [0.28890161 0.19201701 0.61550873 0.27950082 0.91866969 0.59954091\n",
            "  0.86101154 0.59459477 0.66243021 0.12276753]\n",
            " [0.42698602 0.1484311  0.30001224 0.25085878 0.30680371 0.20138227\n",
            "  0.1840198  0.3161006  0.56005275 0.45116297]\n",
            " [0.70524651 0.10651585 0.13796545 0.34581121 0.41142166 0.85157069\n",
            "  0.58917418 0.8346211  0.19847879 0.8630312 ]\n",
            " [0.0204735  0.57318398 0.77397728 0.15914103 0.50640191 0.93668327\n",
            "  0.58056953 0.69143408 0.47708824 0.94318652]\n",
            " [0.09928528 0.16878706 0.43695626 0.53277112 0.95221099 0.84993491\n",
            "  0.48688141 0.94233738 0.85842175 0.04401309]\n",
            " [0.63365474 0.11729284 0.62364702 0.70146094 0.46033024 0.30782167\n",
            "  0.20648271 0.01722052 0.91639727 0.52863668]]\n",
            "Minimum :  0.01722051598560359\n",
            "Maximum :  0.9935670251471355\n"
          ]
        }
      ],
      "source": [
        "x = np.random.random(100).reshape(10, 10)\n",
        "print(x)\n",
        "print(\"Minimum : \",np.min(x))\n",
        "print(\"Maximum : \",np.max(x))"
      ]
    },
    {
      "cell_type": "markdown",
      "metadata": {
        "id": "VTH8sXNARoj6"
      },
      "source": [
        "#### 14. Create a random vector of size 30 and find the mean value (★☆☆) \n",
        "(**hint**: mean)"
      ]
    },
    {
      "cell_type": "code",
      "execution_count": null,
      "metadata": {
        "id": "PNIDSwtIRoj7",
        "colab": {
          "base_uri": "https://localhost:8080/"
        },
        "outputId": "25cf7469-40f1-47df-8a3c-0d0d06d58336"
      },
      "outputs": [
        {
          "output_type": "stream",
          "name": "stdout",
          "text": [
            "Mean :  0.5005181471409196\n"
          ]
        },
        {
          "output_type": "execute_result",
          "data": {
            "text/plain": [
              "array([2.52636239e-01, 2.66988188e-01, 4.73747482e-01, 9.67348289e-01,\n",
              "       1.06791968e-01, 1.43883004e-01, 2.98309485e-01, 2.42767309e-01,\n",
              "       3.14394376e-03, 1.46077683e-01, 7.98051823e-01, 7.25280051e-01,\n",
              "       3.26261421e-01, 9.81661136e-01, 8.70769656e-01, 7.13028468e-01,\n",
              "       2.15870989e-04, 7.46338735e-01, 1.98802798e-01, 2.85325318e-01,\n",
              "       9.72867326e-01, 7.92960692e-01, 3.01599044e-01, 9.57971524e-01,\n",
              "       9.71820766e-01, 8.53074799e-01, 6.70709221e-02, 6.20781282e-01,\n",
              "       3.89893330e-01, 5.40075859e-01])"
            ]
          },
          "metadata": {},
          "execution_count": 34
        }
      ],
      "source": [
        "x = np.random.random(30)\n",
        "print(\"Mean : \", np.mean(x))\n",
        "x"
      ]
    },
    {
      "cell_type": "markdown",
      "metadata": {
        "id": "NVwGV5e-Roj7"
      },
      "source": [
        "#### 15. Create a 2d array with 1 on the border and 0 inside (★☆☆) \n",
        "(**hint**: array\\[1:-1, 1:-1\\])"
      ]
    },
    {
      "cell_type": "code",
      "execution_count": null,
      "metadata": {
        "id": "vjrQYkCjRoj8",
        "colab": {
          "base_uri": "https://localhost:8080/"
        },
        "outputId": "354714bd-8f08-43d8-8764-6c5c932e75b3"
      },
      "outputs": [
        {
          "output_type": "stream",
          "name": "stdout",
          "text": [
            "[[1. 1. 1. 1. 1.]\n",
            " [1. 1. 1. 1. 1.]\n",
            " [1. 1. 1. 1. 1.]\n",
            " [1. 1. 1. 1. 1.]\n",
            " [1. 1. 1. 1. 1.]]\n"
          ]
        },
        {
          "output_type": "execute_result",
          "data": {
            "text/plain": [
              "array([[1., 1., 1., 1., 1.],\n",
              "       [1., 0., 0., 0., 1.],\n",
              "       [1., 0., 0., 0., 1.],\n",
              "       [1., 0., 0., 0., 1.],\n",
              "       [1., 1., 1., 1., 1.]])"
            ]
          },
          "metadata": {},
          "execution_count": 42
        }
      ],
      "source": [
        "x = np.ones((5, 5))\n",
        "print(x)\n",
        "x[1:-1, 1:-1] = 0\n",
        "x"
      ]
    },
    {
      "cell_type": "markdown",
      "metadata": {
        "id": "13o0NjSSRoj8"
      },
      "source": [
        "#### 16. How to add a border (filled with 0's) around an existing array? (★☆☆) \n",
        "(**hint**: np.pad)"
      ]
    },
    {
      "cell_type": "code",
      "execution_count": null,
      "metadata": {
        "id": "6SEGYgjwRoj9",
        "colab": {
          "base_uri": "https://localhost:8080/"
        },
        "outputId": "dcb2f9ed-39d2-4322-a55c-6c056364729e"
      },
      "outputs": [
        {
          "output_type": "execute_result",
          "data": {
            "text/plain": [
              "array([[0., 0., 0., 0., 0.],\n",
              "       [0., 1., 1., 1., 0.],\n",
              "       [0., 1., 1., 1., 0.],\n",
              "       [0., 1., 1., 1., 0.],\n",
              "       [0., 0., 0., 0., 0.]])"
            ]
          },
          "metadata": {},
          "execution_count": 49
        }
      ],
      "source": [
        "x = np.ones((3, 3))\n",
        "np.pad(x, (1,))"
      ]
    },
    {
      "cell_type": "markdown",
      "metadata": {
        "id": "od79WuKRRoj9"
      },
      "source": [
        "#### 17. What is the result of the following expression? (★☆☆) \n",
        "(**hint**: NaN = not a number, inf = infinity)"
      ]
    },
    {
      "cell_type": "markdown",
      "metadata": {
        "id": "Qwlyhzd8Roj-"
      },
      "source": [
        "```python\n",
        "0 * np.nan\n",
        "np.nan == np.nan\n",
        "np.inf > np.nan\n",
        "np.nan - np.nan\n",
        "0.3 == 3 * 0.1\n",
        "```"
      ]
    },
    {
      "cell_type": "code",
      "execution_count": null,
      "metadata": {
        "id": "roBB4N3KRoj_"
      },
      "outputs": [],
      "source": [
        "False"
      ]
    },
    {
      "cell_type": "markdown",
      "metadata": {
        "id": "gAiMWMC6Roj_"
      },
      "source": [
        "#### 18. Create a 5x5 matrix with values 1,2,3,4 just below the diagonal (★☆☆) \n",
        "(**hint**: np.diag)"
      ]
    },
    {
      "cell_type": "code",
      "execution_count": null,
      "metadata": {
        "id": "EUhscuQeRokA",
        "colab": {
          "base_uri": "https://localhost:8080/"
        },
        "outputId": "55e79186-c290-4674-ea7a-7176a95331ac"
      },
      "outputs": [
        {
          "output_type": "stream",
          "name": "stdout",
          "text": [
            "(5, 5)\n"
          ]
        },
        {
          "output_type": "execute_result",
          "data": {
            "text/plain": [
              "array([[0, 0, 0, 0, 0],\n",
              "       [0, 1, 0, 0, 0],\n",
              "       [0, 0, 2, 0, 0],\n",
              "       [0, 0, 0, 3, 0],\n",
              "       [0, 0, 0, 0, 4]])"
            ]
          },
          "metadata": {},
          "execution_count": 56
        }
      ],
      "source": [
        "x = np.diag([0, 1, 2, 3, 4])\n",
        "print(x.shape)\n",
        "x"
      ]
    },
    {
      "cell_type": "markdown",
      "metadata": {
        "id": "jfb4GtpCRokA"
      },
      "source": [
        "#### 19. Create a 8x8 matrix and fill it with a checkerboard pattern (★☆☆) \n",
        "(**hint**: array\\[::2\\])"
      ]
    },
    {
      "cell_type": "code",
      "execution_count": null,
      "metadata": {
        "id": "mWZFdY73RokB",
        "colab": {
          "base_uri": "https://localhost:8080/"
        },
        "outputId": "8cda27ea-8bb2-43f8-9a82-114fde3a25d0"
      },
      "outputs": [
        {
          "output_type": "stream",
          "name": "stdout",
          "text": [
            "[[0 1 0 1 0 1 0 1]\n",
            " [1 0 1 0 1 0 1 0]\n",
            " [0 1 0 1 0 1 0 1]\n",
            " [1 0 1 0 1 0 1 0]\n",
            " [0 1 0 1 0 1 0 1]\n",
            " [1 0 1 0 1 0 1 0]\n",
            " [0 1 0 1 0 1 0 1]\n",
            " [1 0 1 0 1 0 1 0]]\n"
          ]
        },
        {
          "output_type": "execute_result",
          "data": {
            "text/plain": [
              "(8, 8)"
            ]
          },
          "metadata": {},
          "execution_count": 58
        }
      ],
      "source": [
        "x = np.ones((3,3))\n",
        "x = np.zeros((8,8),dtype=int)\n",
        "x[1::2,::2] = 1\n",
        "x[::2,1::2] = 1\n",
        "print(x)\n",
        "x.shape"
      ]
    },
    {
      "cell_type": "markdown",
      "metadata": {
        "id": "vbbAQW9lRokB"
      },
      "source": [
        "#### 20. Consider a (6,7,8) shape array, what is the index (x,y,z) of the 100th element? \n",
        "(**hint**: np.unravel_index)"
      ]
    },
    {
      "cell_type": "code",
      "execution_count": null,
      "metadata": {
        "id": "BaZpah5TRokC",
        "colab": {
          "base_uri": "https://localhost:8080/"
        },
        "outputId": "955ccad7-d508-45bf-e3f1-2d7ca738e2de"
      },
      "outputs": [
        {
          "output_type": "stream",
          "name": "stdout",
          "text": [
            "(1, 5, 4)\n"
          ]
        }
      ],
      "source": [
        "print(np.unravel_index(100,(6,7,8)))"
      ]
    },
    {
      "cell_type": "markdown",
      "metadata": {
        "id": "aSYnR8F6RokC"
      },
      "source": [
        "#### 21. Create a checkerboard 8x8 matrix using the tile function (★☆☆) \n",
        "(**hint**: np.tile)"
      ]
    },
    {
      "cell_type": "code",
      "execution_count": null,
      "metadata": {
        "id": "HQ0oDl4hRokD",
        "colab": {
          "base_uri": "https://localhost:8080/"
        },
        "outputId": "db1c769e-f256-4926-a5bc-08eb232b7aa7"
      },
      "outputs": [
        {
          "output_type": "stream",
          "name": "stdout",
          "text": [
            "[[0 1 0 1 0 1 0 1]\n",
            " [1 0 1 0 1 0 1 0]\n",
            " [0 1 0 1 0 1 0 1]\n",
            " [1 0 1 0 1 0 1 0]\n",
            " [0 1 0 1 0 1 0 1]\n",
            " [1 0 1 0 1 0 1 0]\n",
            " [0 1 0 1 0 1 0 1]\n",
            " [1 0 1 0 1 0 1 0]]\n"
          ]
        }
      ],
      "source": [
        "x = np.tile( np.array([[0,1],[1,0]]), (4,4))\n",
        "print(x)"
      ]
    },
    {
      "cell_type": "markdown",
      "metadata": {
        "id": "n0KcFBa_RokD"
      },
      "source": [
        "#### 22. Normalize a 5x5 random matrix (★☆☆) \n",
        "(**hint**: (x - min) / (max - min))"
      ]
    },
    {
      "cell_type": "code",
      "execution_count": null,
      "metadata": {
        "id": "u3Yn2cxCRokE",
        "colab": {
          "base_uri": "https://localhost:8080/"
        },
        "outputId": "319da376-32d4-4fdb-e7c8-9eeba72ca66b"
      },
      "outputs": [
        {
          "output_type": "stream",
          "name": "stdout",
          "text": [
            "[[0.28348729 0.72913627 0.28143974 0.71352719 0.85385901]\n",
            " [0.20132559 0.26129668 0.75020338 0.70598415 0.0814054 ]\n",
            " [0.07229865 0.5942971  0.00506508 0.41426999 0.69049926]\n",
            " [0.21982904 0.58543899 0.12494483 0.50315003 0.21831492]\n",
            " [0.17472184 0.62810769 0.50151011 0.11008668 0.57165308]]\n",
            "*****************************\n",
            "[[0.32802097 0.85305887 0.32560867 0.83466916 1.        ]\n",
            " [0.2312228  0.30187727 0.87787893 0.82578238 0.08993975]\n",
            " [0.07921071 0.69419914 0.         0.4821016  0.80753897]\n",
            " [0.2530225  0.68376303 0.1412354  0.58681494 0.25123865]\n",
            " [0.19987979 0.73403283 0.58488287 0.12373039 0.66752127]]\n"
          ]
        }
      ],
      "source": [
        "x = np.random.random((5,5))\n",
        "print(x)\n",
        "x_max, x_min = x.max(), x.min()\n",
        "x = (x - x_min)/(x_max - x_min)\n",
        "print(\"*****************************\")\n",
        "print(x)"
      ]
    },
    {
      "cell_type": "markdown",
      "metadata": {
        "id": "INlyDLnJRokE"
      },
      "source": [
        "#### 23. Create a custom dtype that describes a color as four unsigned bytes (RGBA) (★☆☆) \n",
        "(**hint**: np.dtype)"
      ]
    },
    {
      "cell_type": "code",
      "execution_count": null,
      "metadata": {
        "collapsed": true,
        "id": "vMmyVIjGRokE",
        "colab": {
          "base_uri": "https://localhost:8080/"
        },
        "outputId": "602543f4-3cfb-4a07-aab9-438e76b15b8d"
      },
      "outputs": [
        {
          "output_type": "stream",
          "name": "stderr",
          "text": [
            "<ipython-input-67-02daf17723c8>:1: FutureWarning: Passing (type, 1) or '1type' as a synonym of type is deprecated; in a future version of numpy, it will be understood as (type, (1,)) / '(1,)type'.\n",
            "  color = np.dtype([(\"r\", np.ubyte, 1), (\"g\", np.ubyte, 1), (\"b\", np.ubyte, 1), (\"a\", np.ubyte, 1)])\n"
          ]
        }
      ],
      "source": [
        "color = np.dtype([(\"r\", np.ubyte, 1), (\"g\", np.ubyte, 1), (\"b\", np.ubyte, 1), (\"a\", np.ubyte, 1)])"
      ]
    },
    {
      "cell_type": "markdown",
      "metadata": {
        "id": "dODmfaCvRokF"
      },
      "source": [
        "#### 24. Multiply a 5x3 matrix by a 3x2 matrix (real matrix product) (★☆☆) \n",
        "(**hint**: np.dot | @)"
      ]
    },
    {
      "cell_type": "code",
      "execution_count": null,
      "metadata": {
        "id": "c91PxTCnRokF",
        "colab": {
          "base_uri": "https://localhost:8080/"
        },
        "outputId": "cc171ba6-d07b-43d4-f986-2fed0185b7cd"
      },
      "outputs": [
        {
          "output_type": "execute_result",
          "data": {
            "text/plain": [
              "array([[3., 3.],\n",
              "       [3., 3.],\n",
              "       [3., 3.],\n",
              "       [3., 3.],\n",
              "       [3., 3.]])"
            ]
          },
          "metadata": {},
          "execution_count": 4
        }
      ],
      "source": [
        "x = np.dot(np.ones((5, 3)), np.ones((3, 2)))\n",
        "x"
      ]
    },
    {
      "cell_type": "markdown",
      "metadata": {
        "id": "_5ioB8MrRokF"
      },
      "source": [
        "#### 25. Given a 1D array, negate all elements which are between 3 and 8, in place. (★☆☆) \n",
        "(**hint**: >, <=)"
      ]
    },
    {
      "cell_type": "code",
      "execution_count": null,
      "metadata": {
        "id": "MsBsPqVFRokG",
        "colab": {
          "base_uri": "https://localhost:8080/"
        },
        "outputId": "13db1b27-7819-4a61-ed78-e5f401cc5e26"
      },
      "outputs": [
        {
          "output_type": "stream",
          "name": "stdout",
          "text": [
            "[ 0  1  2  3  4  5  6  7  8  9 10 11 12 13 14 15 16 17 18 19 20]\n"
          ]
        },
        {
          "output_type": "execute_result",
          "data": {
            "text/plain": [
              "array([ 0,  1,  2,  3, -4, -5, -6, -7, -8,  9, 10, 11, 12, 13, 14, 15, 16,\n",
              "       17, 18, 19, 20])"
            ]
          },
          "metadata": {},
          "execution_count": 9
        }
      ],
      "source": [
        "x = np.arange(21)\n",
        "print(x)\n",
        "x[(3 < x) & (x <= 8)] *= -1\n",
        "x"
      ]
    },
    {
      "cell_type": "markdown",
      "metadata": {
        "id": "rTRbHdXnRokG"
      },
      "source": [
        "#### 26. What is the output of the following script? (★☆☆) \n",
        "(**hint**: np.sum)"
      ]
    },
    {
      "cell_type": "markdown",
      "metadata": {
        "id": "4_BV8kjMRokG"
      },
      "source": [
        "```python\n",
        "# Author: Jake VanderPlas\n",
        "\n",
        "print(sum(range(5),-1))\n",
        "from numpy import *\n",
        "print(sum(range(5),-1))\n",
        "```"
      ]
    },
    {
      "cell_type": "code",
      "execution_count": null,
      "metadata": {
        "id": "zAlrokppRokH"
      },
      "outputs": [],
      "source": [
        "9"
      ]
    },
    {
      "cell_type": "markdown",
      "metadata": {
        "id": "88CIx5yjRokH"
      },
      "source": [
        "#### 27. Consider an integer vector Z, which of these expressions are legal? (★☆☆)"
      ]
    },
    {
      "cell_type": "markdown",
      "metadata": {
        "id": "nenh9fb_RokI"
      },
      "source": [
        "```python\n",
        "Z**Z\n",
        "2 << Z >> 2\n",
        "Z <- Z\n",
        "1j*Z\n",
        "Z/1/1\n",
        "Z<Z>Z\n",
        "```"
      ]
    },
    {
      "cell_type": "code",
      "execution_count": null,
      "metadata": {
        "id": "Ml5GO_lfRokI"
      },
      "outputs": [],
      "source": [
        "z = np.arange(1, 6)\n",
        "z**z\n",
        "2 << z >> 2\n",
        "z <- z\n",
        "z/1/1"
      ]
    },
    {
      "cell_type": "markdown",
      "metadata": {
        "id": "TSb-ipszRokI"
      },
      "source": [
        "#### 28. What are the result of the following expressions?"
      ]
    },
    {
      "cell_type": "markdown",
      "metadata": {
        "id": "K7_Ldp8MRokJ"
      },
      "source": [
        "```python\n",
        "np.array(0) / np.array(0)\n",
        "np.array(0) // np.array(0)\n",
        "np.array([np.nan]).astype(int).astype(float)\n",
        "```"
      ]
    },
    {
      "cell_type": "code",
      "execution_count": null,
      "metadata": {
        "id": "lBrUhucHRokJ",
        "colab": {
          "base_uri": "https://localhost:8080/"
        },
        "outputId": "77612b8a-5a8b-4c5b-9a6b-bfa96d90840a"
      },
      "outputs": [
        {
          "output_type": "execute_result",
          "data": {
            "text/plain": [
              "array([-9.22337204e+18])"
            ]
          },
          "metadata": {},
          "execution_count": 21
        }
      ],
      "source": [
        "0\n",
        "0\n",
        "np.array([np.nan]).astype(int).astype(float)"
      ]
    },
    {
      "cell_type": "markdown",
      "metadata": {
        "id": "AH83x2lQRokJ"
      },
      "source": [
        "#### 29. How to round away from zero a float array ? (★☆☆) \n",
        "(**hint**: np.uniform, np.copysign, np.ceil, np.abs)"
      ]
    },
    {
      "cell_type": "code",
      "execution_count": null,
      "metadata": {
        "id": "-41Ew2g6RokK",
        "colab": {
          "base_uri": "https://localhost:8080/"
        },
        "outputId": "e3588568-70a8-43de-e2e6-5bbd2474da1c"
      },
      "outputs": [
        {
          "output_type": "stream",
          "name": "stdout",
          "text": [
            "[-7.7459549  -0.54732929  5.61622447  4.39527411  0.41283743 -3.33955504\n",
            " -7.93565145  0.11614747 -0.04943933  7.65120674]\n",
            "[-8. -1.  6.  4.  0. -3. -8.  0. -0.  8.]\n"
          ]
        }
      ],
      "source": [
        "x = np.random.uniform(-10,+10,10)\n",
        "print(x)\n",
        "print (np.trunc(x + np.copysign(0.5, x)))"
      ]
    },
    {
      "cell_type": "markdown",
      "metadata": {
        "id": "qOo4lbjERokK"
      },
      "source": [
        "#### 30. How to find common values between two arrays? (★☆☆) \n",
        "(**hint**: np.intersect1d)"
      ]
    },
    {
      "cell_type": "code",
      "execution_count": null,
      "metadata": {
        "id": "CskuAc0bRokL",
        "colab": {
          "base_uri": "https://localhost:8080/"
        },
        "outputId": "2cd94335-b0a4-442b-8f6a-ce3d5f06758b"
      },
      "outputs": [
        {
          "output_type": "stream",
          "name": "stdout",
          "text": [
            "[2 1 0 7 8 8 7 9 1 8]\n",
            "[ 0  3  8 13  9  6  4 18  4  0]\n",
            "[0 8 9]\n"
          ]
        }
      ],
      "source": [
        "x = np.random.randint(0, 10, 10)\n",
        "y = np.random.randint(0, 20, 10)\n",
        "z = np.intersect1d(x, y)\n",
        "print(x)\n",
        "print(y)\n",
        "print(z)"
      ]
    },
    {
      "cell_type": "markdown",
      "metadata": {
        "id": "W9F7Z2J4RokL"
      },
      "source": [
        "#### 31. How to ignore all numpy warnings (not recommended)? (★☆☆) \n",
        "(**hint**: np.seterr, np.errstate)"
      ]
    },
    {
      "cell_type": "code",
      "execution_count": null,
      "metadata": {
        "id": "eqwonPdQRokM"
      },
      "outputs": [],
      "source": [
        "# Suicide mode on\n",
        "\n",
        "defaults = np.seterr(all=\"ignore\")\n",
        "x = np.ones(1) / 0\n",
        "# Removing the sucide mode\n",
        "_ = np.seterr(**defaults)\n",
        "\n",
        "\n",
        "with np.errstate(divide='ignore'):\n",
        "  x = np.arange(5) / 0\n",
        "\n"
      ]
    },
    {
      "cell_type": "markdown",
      "metadata": {
        "id": "8Z9luV5DRokM"
      },
      "source": [
        "#### 32. Is the following expressions true? (★☆☆) \n",
        "(**hint**: imaginary number)"
      ]
    },
    {
      "cell_type": "markdown",
      "metadata": {
        "id": "W_jTM3KrRokM"
      },
      "source": [
        "```python\n",
        "np.sqrt(-1) == np.emath.sqrt(-1)\n",
        "```"
      ]
    },
    {
      "cell_type": "code",
      "source": [
        "False"
      ],
      "metadata": {
        "id": "qKTUoccbpSRX"
      },
      "execution_count": null,
      "outputs": []
    },
    {
      "cell_type": "markdown",
      "metadata": {
        "id": "p5_V7q_QRokN"
      },
      "source": [
        "#### 33. How to get the dates of yesterday, today and tomorrow? (★☆☆) \n",
        "(**hint**: np.datetime64, np.timedelta64)"
      ]
    },
    {
      "cell_type": "code",
      "execution_count": null,
      "metadata": {
        "collapsed": true,
        "id": "cP6lGLJCRokO",
        "colab": {
          "base_uri": "https://localhost:8080/"
        },
        "outputId": "9658cb89-ff3b-4ca6-ce82-e26fd600fd65"
      },
      "outputs": [
        {
          "output_type": "stream",
          "name": "stdout",
          "text": [
            "2023-01-10 \n",
            " 2023-01-11 \n",
            " 2023-01-09\n"
          ]
        }
      ],
      "source": [
        "Today = np.datetime64(\"today\", \"D\")\n",
        "Yesterday = np.datetime64(\"today\", \"D\") - np.timedelta64(1, \"D\")\n",
        "Tomorrow =  np.datetime64(\"today\", \"D\") + np.timedelta64(1, \"D\")\n",
        "print(Today,\"\\n\",Tomorrow,\"\\n\",Yesterday)"
      ]
    },
    {
      "cell_type": "markdown",
      "metadata": {
        "id": "AEPJBM3wRokO"
      },
      "source": [
        "#### 34. How to get all the dates corresponding to the month of July 2016? (★★☆) \n",
        "(**hint**: np.arange(dtype=datetime64\\['D'\\]))"
      ]
    },
    {
      "cell_type": "code",
      "execution_count": null,
      "metadata": {
        "id": "ekvsyXRVRokO",
        "colab": {
          "base_uri": "https://localhost:8080/"
        },
        "outputId": "6a1b0fde-30b3-47f6-bfb6-0175b7f1dfa2"
      },
      "outputs": [
        {
          "output_type": "execute_result",
          "data": {
            "text/plain": [
              "array(['2016-07-01', '2016-07-02', '2016-07-03', '2016-07-04',\n",
              "       '2016-07-05', '2016-07-06', '2016-07-07', '2016-07-08',\n",
              "       '2016-07-09', '2016-07-10', '2016-07-11', '2016-07-12',\n",
              "       '2016-07-13', '2016-07-14', '2016-07-15', '2016-07-16',\n",
              "       '2016-07-17', '2016-07-18', '2016-07-19', '2016-07-20',\n",
              "       '2016-07-21', '2016-07-22', '2016-07-23', '2016-07-24',\n",
              "       '2016-07-25', '2016-07-26', '2016-07-27', '2016-07-28',\n",
              "       '2016-07-29', '2016-07-30', '2016-07-31'], dtype='datetime64[D]')"
            ]
          },
          "metadata": {},
          "execution_count": 48
        }
      ],
      "source": [
        "july_2016 = np.arange( \"2016-07\", \"2016-08\", dtype = \"datetime64[D]\")\n",
        "july_2016"
      ]
    },
    {
      "cell_type": "markdown",
      "metadata": {
        "id": "uGs2r6k1RokP"
      },
      "source": [
        "#### 35. How to compute ((A+B)\\*(-A/2)) in place (without copy)? (★★☆) \n",
        "(**hint**: np.add(out=), np.negative(out=), np.multiply(out=), np.divide(out=))"
      ]
    },
    {
      "cell_type": "code",
      "execution_count": null,
      "metadata": {
        "id": "uYca9nlQRokP",
        "colab": {
          "base_uri": "https://localhost:8080/"
        },
        "outputId": "e9186935-2f33-46f5-b000-bb6651272087"
      },
      "outputs": [
        {
          "output_type": "stream",
          "name": "stdout",
          "text": [
            "[1. 1. 1.]\n",
            "[2. 2. 2.]\n",
            "[3. 3. 3.]\n"
          ]
        },
        {
          "output_type": "execute_result",
          "data": {
            "text/plain": [
              "array([-1.5, -1.5, -1.5])"
            ]
          },
          "metadata": {},
          "execution_count": 55
        }
      ],
      "source": [
        "x = np.ones(3)*1\n",
        "print(x)\n",
        "y = np.ones(3)*2\n",
        "print(y)\n",
        "z = np.ones(3)*3\n",
        "print(z)\n",
        "np.add(x, y,out=y)\n",
        "\n",
        "np.divide(x,2,out=x)\n",
        "\n",
        "np.negative(x,out=x)\n",
        "\n",
        "a = np.multiply(x, y,out=x)\n",
        "\n",
        "a"
      ]
    },
    {
      "cell_type": "markdown",
      "metadata": {
        "id": "JueaUV-JRokP"
      },
      "source": [
        "#### 36. Extract the integer part of a random array using 5 different methods (★★☆) \n",
        "(**hint**: %, np.floor, np.ceil, astype, np.trunc)"
      ]
    },
    {
      "cell_type": "code",
      "execution_count": null,
      "metadata": {
        "id": "-sdwPr1-RokQ",
        "colab": {
          "base_uri": "https://localhost:8080/"
        },
        "outputId": "0bee717c-877f-4e5f-a1cb-80e5a95052e6"
      },
      "outputs": [
        {
          "output_type": "stream",
          "name": "stdout",
          "text": [
            "[7.30744162 4.21615573 5.62655622 3.26143558 9.83546653 0.25310418\n",
            " 0.27112893 7.74775173 0.91049206 0.97500557]\n",
            "[7. 4. 5. 3. 9. 0. 0. 7. 0. 0.]\n",
            "[7. 4. 5. 3. 9. 0. 0. 7. 0. 0.]\n",
            "[7. 4. 5. 3. 9. 0. 0. 7. 0. 0.]\n",
            "[7. 4. 5. 3. 9. 0. 0. 7. 0. 0.]\n",
            "[7 4 5 3 9 0 0 7 0 0]\n"
          ]
        }
      ],
      "source": [
        "x = np.random.uniform(0, 10, 10)\n",
        "print(x)\n",
        "print(x-x%1)\n",
        "print(np.floor(x))\n",
        "print(np.ceil(x) - 1)\n",
        "print(np.trunc(x))\n",
        "print(x.astype(int))"
      ]
    },
    {
      "cell_type": "markdown",
      "metadata": {
        "id": "NdVjmIAyRokQ"
      },
      "source": [
        "#### 37. Create a 5x5 matrix with row values ranging from 0 to 4 (★★☆) \n",
        "(**hint**: np.arange)"
      ]
    },
    {
      "cell_type": "code",
      "execution_count": null,
      "metadata": {
        "id": "NfOIemR5RokR",
        "colab": {
          "base_uri": "https://localhost:8080/"
        },
        "outputId": "7628e319-43aa-4681-9576-881f6b90bdbe"
      },
      "outputs": [
        {
          "output_type": "execute_result",
          "data": {
            "text/plain": [
              "array([[0., 1., 2., 3., 4.],\n",
              "       [0., 1., 2., 3., 4.],\n",
              "       [0., 1., 2., 3., 4.],\n",
              "       [0., 1., 2., 3., 4.],\n",
              "       [0., 1., 2., 3., 4.]])"
            ]
          },
          "metadata": {},
          "execution_count": 61
        }
      ],
      "source": [
        "x = np.zeros((5, 5))\n",
        "x += np.arange(5)\n",
        "x"
      ]
    },
    {
      "cell_type": "markdown",
      "metadata": {
        "id": "qmYyopgkRokS"
      },
      "source": [
        "#### 38. Consider a generator function that generates 10 integers and use it to build an array (★☆☆) \n",
        "(**hint**: np.fromiter)"
      ]
    },
    {
      "cell_type": "code",
      "execution_count": null,
      "metadata": {
        "id": "heIMYI3yRokS",
        "colab": {
          "base_uri": "https://localhost:8080/"
        },
        "outputId": "ac261925-4baa-4192-b02d-926104350f1e"
      },
      "outputs": [
        {
          "output_type": "execute_result",
          "data": {
            "text/plain": [
              "array([0, 1, 2, 3, 4])"
            ]
          },
          "metadata": {},
          "execution_count": 67
        }
      ],
      "source": [
        "def generator():\n",
        "  for i in range(10):\n",
        "    yield i\n",
        "x = np.fromiter(generator(), dtype = int, count = -1)\n",
        "x"
      ]
    },
    {
      "cell_type": "markdown",
      "metadata": {
        "id": "gsWQqUNHRokT"
      },
      "source": [
        "#### 39. Create a vector of size 10 with values ranging from 0 to 1, both excluded (★★☆) \n",
        "(**hint**: np.linspace)"
      ]
    },
    {
      "cell_type": "code",
      "execution_count": null,
      "metadata": {
        "id": "SipzYij2RokU",
        "colab": {
          "base_uri": "https://localhost:8080/"
        },
        "outputId": "335b1384-3d78-4882-b604-306673381c0a"
      },
      "outputs": [
        {
          "output_type": "execute_result",
          "data": {
            "text/plain": [
              "array([0.09090909, 0.18181818, 0.27272727, 0.36363636, 0.45454545,\n",
              "       0.54545455, 0.63636364, 0.72727273, 0.81818182, 0.90909091])"
            ]
          },
          "metadata": {},
          "execution_count": 71
        }
      ],
      "source": [
        "x = np.linspace(0, 1, 12)[1 : -1]\n",
        "x"
      ]
    },
    {
      "cell_type": "markdown",
      "metadata": {
        "id": "vMBcdQwBRokU"
      },
      "source": [
        "#### 40. Create a random vector of size 10 and sort it (★★☆) \n",
        "(**hint**: sort)"
      ]
    },
    {
      "cell_type": "code",
      "execution_count": null,
      "metadata": {
        "id": "y2nTEmEPRokV",
        "colab": {
          "base_uri": "https://localhost:8080/"
        },
        "outputId": "8cf9438b-76aa-4beb-c0fe-f4da2387187c"
      },
      "outputs": [
        {
          "output_type": "execute_result",
          "data": {
            "text/plain": [
              "array([ 0, 13, 18, 25, 31, 38, 78, 80, 87, 94])"
            ]
          },
          "metadata": {},
          "execution_count": 72
        }
      ],
      "source": [
        "x = np.random.randint(0 , 100, 10)\n",
        "np.sort(x)"
      ]
    },
    {
      "cell_type": "markdown",
      "metadata": {
        "id": "_Iy-Z28gRokV"
      },
      "source": [
        "#### 41. How to sum a small array faster than np.sum? (★★☆) \n",
        "(**hint**: np.add.reduce)"
      ]
    },
    {
      "cell_type": "code",
      "execution_count": null,
      "metadata": {
        "id": "aB--FkOGRokW",
        "colab": {
          "base_uri": "https://localhost:8080/"
        },
        "outputId": "6dc39b38-ff72-45e4-a8ea-8b1afb7e57e2"
      },
      "outputs": [
        {
          "output_type": "execute_result",
          "data": {
            "text/plain": [
              "55"
            ]
          },
          "metadata": {},
          "execution_count": 73
        }
      ],
      "source": [
        "x = np.arange(1, 11)\n",
        "np.add.reduce(x)"
      ]
    },
    {
      "cell_type": "markdown",
      "metadata": {
        "id": "0pfiqkVGRokW"
      },
      "source": [
        "#### 42. Consider two random array A and B, check if they are equal (★★☆) \n",
        "(**hint**: np.allclose, np.array\\_equal)"
      ]
    },
    {
      "cell_type": "code",
      "execution_count": null,
      "metadata": {
        "id": "l_Grlsp2RokW",
        "colab": {
          "base_uri": "https://localhost:8080/"
        },
        "outputId": "7a116217-4b70-44a3-9c27-735ba7b805d0"
      },
      "outputs": [
        {
          "output_type": "stream",
          "name": "stdout",
          "text": [
            "False\n",
            "False\n",
            "[0 0 0 2 8]\n",
            "[5 6 5 8 0]\n"
          ]
        }
      ],
      "source": [
        "x = np.random.randint(0, 10, 5)\n",
        "y = np.random.randint(0, 10, 5)\n",
        "a = np.allclose(x, y)\n",
        "b = np.array_equal(x, y)\n",
        "print(a)\n",
        "print(b)\n",
        "print(x)\n",
        "print(y)"
      ]
    },
    {
      "cell_type": "markdown",
      "metadata": {
        "id": "ipJi_sQkRokX"
      },
      "source": [
        "#### 43. Make an array immutable (read-only) (★★☆) \n",
        "(**hint**: flags.writeable)"
      ]
    },
    {
      "cell_type": "code",
      "execution_count": null,
      "metadata": {
        "id": "XBogVSaLRokX",
        "colab": {
          "base_uri": "https://localhost:8080/"
        },
        "outputId": "9303d919-d754-4bb0-a46e-33592265f7ea"
      },
      "outputs": [
        {
          "output_type": "stream",
          "name": "stdout",
          "text": [
            "This array is immutable\n"
          ]
        }
      ],
      "source": [
        "x = np.arange(11)\n",
        "x.flags.writeable = False\n",
        "try:\n",
        "  x[0] = 2\n",
        "except ValueError:\n",
        "  print(\"This array is immutable\")"
      ]
    },
    {
      "cell_type": "markdown",
      "metadata": {
        "id": "BCd_-Q6bRokX"
      },
      "source": [
        "#### 44. Consider a random 10x2 matrix representing cartesian coordinates, convert them to polar coordinates (★★☆) \n",
        "(**hint**: np.sqrt, np.arctan2)"
      ]
    },
    {
      "cell_type": "code",
      "execution_count": null,
      "metadata": {
        "id": "N8swxCZmRokY",
        "colab": {
          "base_uri": "https://localhost:8080/"
        },
        "outputId": "413cd586-3da1-4a0f-c084-46b730fd111d"
      },
      "outputs": [
        {
          "output_type": "stream",
          "name": "stdout",
          "text": [
            "[0.40759001 0.60027201 0.69587484 0.21741631 0.26623112 0.63988973\n",
            " 0.79729265 0.31771418 0.03648164 0.25980827]\n",
            "[0.55378808 0.88355523 0.613044   0.43222689 0.60682856 0.96868489\n",
            " 0.75054659 0.32447402 0.03890891 0.80381356]\n",
            "[[0.40759001 0.65917943]\n",
            " [0.60027201 0.4926483 ]\n",
            " [0.69587484 0.98921806]\n",
            " [0.21741631 0.47129271]\n",
            " [0.26623112 0.38350303]\n",
            " [0.63988973 0.43975844]\n",
            " [0.79729265 0.85489739]\n",
            " [0.31771418 0.94455981]\n",
            " [0.03648164 0.93714343]\n",
            " [0.25980827 0.25041132]]\n"
          ]
        }
      ],
      "source": [
        "x = np.random.random((10, 2))\n",
        "a = x[:, 0]\n",
        "b = x[:, 1]\n",
        "c = np.sqrt(a**2, b**2)\n",
        "d = np.arctan2(a, b)\n",
        "print(c)\n",
        "print(d)\n",
        "print(x)"
      ]
    },
    {
      "cell_type": "markdown",
      "metadata": {
        "id": "zznvadKNRokY"
      },
      "source": [
        "#### 45. Create random vector of size 10 and replace the maximum value by 0 (★★☆) \n",
        "(**hint**: argmax)"
      ]
    },
    {
      "cell_type": "code",
      "execution_count": null,
      "metadata": {
        "id": "jN0UA0wIRokY",
        "colab": {
          "base_uri": "https://localhost:8080/"
        },
        "outputId": "b6222715-e327-4343-b8c8-8485bdd9a1fd"
      },
      "outputs": [
        {
          "output_type": "stream",
          "name": "stdout",
          "text": [
            "[19 28 64 48 68 29 79  7 58 34]\n"
          ]
        },
        {
          "output_type": "execute_result",
          "data": {
            "text/plain": [
              "array([19, 28, 64, 48, 68, 29,  0,  7, 58, 34])"
            ]
          },
          "metadata": {},
          "execution_count": 84
        }
      ],
      "source": [
        "x = np.random.randint(0, 100, 10)\n",
        "print(x)\n",
        "x[x.argmax()] = 0\n",
        "x"
      ]
    },
    {
      "cell_type": "markdown",
      "metadata": {
        "id": "bFSlgZlXRokZ"
      },
      "source": [
        "#### 46. Create a structured array with `x` and `y` coordinates covering the \\[0,1\\]x\\[0,1\\] area (★★☆) \n",
        "(**hint**: np.meshgrid)"
      ]
    },
    {
      "cell_type": "code",
      "execution_count": null,
      "metadata": {
        "id": "KVdOJRrZRokZ",
        "colab": {
          "base_uri": "https://localhost:8080/"
        },
        "outputId": "82d0629b-fe92-4c45-d476-cf22c1e23394"
      },
      "outputs": [
        {
          "output_type": "stream",
          "name": "stdout",
          "text": [
            "[[(0.  , 0.  ) (0.25, 0.  ) (0.5 , 0.  ) (0.75, 0.  ) (1.  , 0.  )]\n",
            " [(0.  , 0.25) (0.25, 0.25) (0.5 , 0.25) (0.75, 0.25) (1.  , 0.25)]\n",
            " [(0.  , 0.5 ) (0.25, 0.5 ) (0.5 , 0.5 ) (0.75, 0.5 ) (1.  , 0.5 )]\n",
            " [(0.  , 0.75) (0.25, 0.75) (0.5 , 0.75) (0.75, 0.75) (1.  , 0.75)]\n",
            " [(0.  , 1.  ) (0.25, 1.  ) (0.5 , 1.  ) (0.75, 1.  ) (1.  , 1.  )]]\n"
          ]
        }
      ],
      "source": [
        "x = np.zeros((5,5), [('a',float),('b',float)])\n",
        "x['a'], x['b'] = np.meshgrid(np.linspace(0,1,5),\n",
        "np.linspace(0,1,5))\n",
        "print(x)"
      ]
    },
    {
      "cell_type": "markdown",
      "metadata": {
        "id": "VXn9e_1hRokZ"
      },
      "source": [
        "####  47. Given two arrays, X and Y, construct the Cauchy matrix C (Cij =1/(xi - yj)) \n",
        "(**hint**: np.subtract.outer)"
      ]
    },
    {
      "cell_type": "code",
      "execution_count": null,
      "metadata": {
        "id": "jFAgLTqbRoka"
      },
      "outputs": [],
      "source": [
        "x = np.arange(1, 9)\n",
        "y = x+0.5\n",
        "a = 1/np.subtract.outer(x, y)\n",
        "a\n",
        "\n"
      ]
    },
    {
      "cell_type": "markdown",
      "metadata": {
        "id": "mUYpgGCyRoka"
      },
      "source": [
        "#### 48. Print the minimum and maximum representable value for each numpy scalar type (★★☆) \n",
        "(**hint**: np.iinfo, np.finfo, eps)"
      ]
    },
    {
      "cell_type": "code",
      "execution_count": null,
      "metadata": {
        "id": "lKrfyXohRoka"
      },
      "outputs": [],
      "source": [
        "for dtype in [np.int8, np.int32, np.int64]:\n",
        "  print(np.iinfo(dtype).min)\n",
        "  print(np.iinfo(dtype).max)\n",
        "\n",
        "for dtype in [np.float32, np.float64]:\n",
        "  print(np.finfo(dtype).min)\n",
        "  print(np.finfo(dtype).max)\n",
        "  print(np.finfo(dtype).eps)"
      ]
    },
    {
      "cell_type": "markdown",
      "metadata": {
        "id": "bVDVeogLRokb"
      },
      "source": [
        "#### 49. How to print all the values of an array? (★★☆) \n",
        "(**hint**: np.set\\_printoptions)"
      ]
    },
    {
      "cell_type": "code",
      "execution_count": null,
      "metadata": {
        "id": "IliGh17mRokb",
        "colab": {
          "base_uri": "https://localhost:8080/"
        },
        "outputId": "f75a9363-9994-42ee-f97e-414476cf1ed8"
      },
      "outputs": [
        {
          "output_type": "execute_result",
          "data": {
            "text/plain": [
              "array([[0., 0.],\n",
              "       [0., 0.]])"
            ]
          },
          "metadata": {},
          "execution_count": 93
        }
      ],
      "source": [
        "np.set_printoptions()\n",
        "x = np.zeros((2, 2))\n",
        "x"
      ]
    },
    {
      "cell_type": "markdown",
      "metadata": {
        "id": "8ndk3IHURokc"
      },
      "source": [
        "#### 50. How to find the closest value (to a given scalar) in a vector? (★★☆) \n",
        "(**hint**: argmin)"
      ]
    },
    {
      "cell_type": "code",
      "execution_count": null,
      "metadata": {
        "id": "ErTUl30WRokc",
        "colab": {
          "base_uri": "https://localhost:8080/"
        },
        "outputId": "e739b235-3cf0-4c77-987c-22a7926daba7"
      },
      "outputs": [
        {
          "output_type": "stream",
          "name": "stdout",
          "text": [
            "28\n"
          ]
        }
      ],
      "source": [
        "x = np.arange(50)\n",
        "y = np.random.uniform(0, 100, 50)\n",
        "a = (np.abs(x-y)).argmin()\n",
        "print(x[a])\n"
      ]
    },
    {
      "cell_type": "markdown",
      "metadata": {
        "id": "srh2PQAkRokc"
      },
      "source": [
        "#### 51. Create a structured array representing a position (x,y) and a color (r,g,b) (★★☆) \n",
        "(**hint**: dtype)"
      ]
    },
    {
      "cell_type": "code",
      "execution_count": null,
      "metadata": {
        "id": "lGucyG6zRokd",
        "colab": {
          "base_uri": "https://localhost:8080/"
        },
        "outputId": "a546c5f6-e3a9-4a04-c20b-63a59813476b"
      },
      "outputs": [
        {
          "output_type": "stream",
          "name": "stdout",
          "text": [
            "[((0., 0.), (0., 0., 0.)) ((0., 0.), (0., 0., 0.))\n",
            " ((0., 0.), (0., 0., 0.)) ((0., 0.), (0., 0., 0.))\n",
            " ((0., 0.), (0., 0., 0.)) ((0., 0.), (0., 0., 0.))\n",
            " ((0., 0.), (0., 0., 0.)) ((0., 0.), (0., 0., 0.))\n",
            " ((0., 0.), (0., 0., 0.)) ((0., 0.), (0., 0., 0.))]\n"
          ]
        },
        {
          "output_type": "stream",
          "name": "stderr",
          "text": [
            "<ipython-input-98-de5d63102e18>:1: FutureWarning: Passing (type, 1) or '1type' as a synonym of type is deprecated; in a future version of numpy, it will be understood as (type, (1,)) / '(1,)type'.\n",
            "  x = np.zeros(10, [ ('position', [ ('x', float, 1),('y', float, 1)]),\n"
          ]
        }
      ],
      "source": [
        "x = np.zeros(10, [ ('position', [ ('x', float, 1),('y', float, 1)]),\n",
        "('color', [ \n",
        "    ('r', float, 1),\n",
        "    ('g', float, 1),\n",
        "    ('b', float, 1)\n",
        "    ])\n",
        "])\n",
        "\n",
        "print(x)"
      ]
    },
    {
      "cell_type": "markdown",
      "metadata": {
        "id": "Z24oCklERoke"
      },
      "source": [
        "#### 52. Consider a random vector with shape (100,2) representing coordinates, find point by point distances (★★☆) \n",
        "(**hint**: np.atleast\\_2d, T, np.sqrt)"
      ]
    },
    {
      "cell_type": "code",
      "execution_count": null,
      "metadata": {
        "id": "9U7wn0vjRoke",
        "colab": {
          "base_uri": "https://localhost:8080/"
        },
        "outputId": "a17a6faa-d0c2-4936-b6c3-1798169cc8e0"
      },
      "outputs": [
        {
          "output_type": "execute_result",
          "data": {
            "text/plain": [
              "array([[0.        , 0.36308983, 0.05382267, 0.01471509, 0.38542725,\n",
              "        0.22780465, 0.40625215, 0.51535236, 0.25047426, 0.15793045],\n",
              "       [0.36308983, 0.        , 0.4169125 , 0.37780492, 0.74851708,\n",
              "        0.59089448, 0.04316232, 0.15226253, 0.11261557, 0.52102028],\n",
              "       [0.05382267, 0.4169125 , 0.        , 0.03910758, 0.33160458,\n",
              "        0.17398198, 0.46007482, 0.56917503, 0.30429693, 0.10410778],\n",
              "       [0.01471509, 0.37780492, 0.03910758, 0.        , 0.37071216,\n",
              "        0.21308956, 0.42096723, 0.53006745, 0.26518935, 0.14321536],\n",
              "       [0.38542725, 0.74851708, 0.33160458, 0.37071216, 0.        ,\n",
              "        0.1576226 , 0.79167939, 0.9007796 , 0.6359015 , 0.2274968 ],\n",
              "       [0.22780465, 0.59089448, 0.17398198, 0.21308956, 0.1576226 ,\n",
              "        0.        , 0.63405679, 0.743157  , 0.4782789 , 0.0698742 ],\n",
              "       [0.40625215, 0.04316232, 0.46007482, 0.42096723, 0.79167939,\n",
              "        0.63405679, 0.        , 0.10910021, 0.15577789, 0.56418259],\n",
              "       [0.51535236, 0.15226253, 0.56917503, 0.53006745, 0.9007796 ,\n",
              "        0.743157  , 0.10910021, 0.        , 0.2648781 , 0.6732828 ],\n",
              "       [0.25047426, 0.11261557, 0.30429693, 0.26518935, 0.6359015 ,\n",
              "        0.4782789 , 0.15577789, 0.2648781 , 0.        , 0.4084047 ],\n",
              "       [0.15793045, 0.52102028, 0.10410778, 0.14321536, 0.2274968 ,\n",
              "        0.0698742 , 0.56418259, 0.6732828 , 0.4084047 , 0.        ]])"
            ]
          },
          "metadata": {},
          "execution_count": 99
        }
      ],
      "source": [
        "a = np.random.random((10, 2))\n",
        "x, y = np.atleast_2d(a[:, 0], a[:, 1])\n",
        "b = np.sqrt((x-x.T)**2, (y - y.T)**2)\n",
        "b"
      ]
    },
    {
      "cell_type": "markdown",
      "metadata": {
        "id": "pLc19uDKRokf"
      },
      "source": [
        "#### 53. How to convert a float (32 bits) array into an integer (32 bits) in place? \n",
        "(**hint**: astype(copy=False))"
      ]
    },
    {
      "cell_type": "code",
      "execution_count": null,
      "metadata": {
        "id": "MJnhFoXpRokg",
        "colab": {
          "base_uri": "https://localhost:8080/"
        },
        "outputId": "5a26531d-4a97-4e25-9e11-120352f5001b"
      },
      "outputs": [
        {
          "output_type": "execute_result",
          "data": {
            "text/plain": [
              "array([ 0,  1,  2,  3,  4,  5,  6,  7,  8,  9, 10], dtype=int32)"
            ]
          },
          "metadata": {},
          "execution_count": 102
        }
      ],
      "source": [
        "x = np.arange(11, dtype = np.float32)\n",
        "x.astype(np.int32, copy = False)"
      ]
    },
    {
      "cell_type": "markdown",
      "metadata": {
        "id": "1oCQx_Y1Rokg"
      },
      "source": [
        "#### 54. How to read the following file? (★★☆) \n",
        "(**hint**: np.genfromtxt)"
      ]
    },
    {
      "cell_type": "markdown",
      "metadata": {
        "id": "yiNKbzNQRokh"
      },
      "source": [
        "```\n",
        "1, 2, 3, 4, 5\n",
        "6,  ,  , 7, 8\n",
        " ,  , 9,10,11\n",
        "```"
      ]
    },
    {
      "cell_type": "code",
      "execution_count": null,
      "metadata": {
        "id": "MBQxY_mpRokh",
        "colab": {
          "base_uri": "https://localhost:8080/"
        },
        "outputId": "4c5184e0-26af-431b-afc1-d5a52d75875c"
      },
      "outputs": [
        {
          "output_type": "execute_result",
          "data": {
            "text/plain": [
              "array([[ 1,  2,  3,  4,  5],\n",
              "       [ 6, -1, -1,  7,  8],\n",
              "       [-1, -1,  9, 10, 11]], dtype=int8)"
            ]
          },
          "metadata": {},
          "execution_count": 114
        }
      ],
      "source": [
        "from io import StringIO\n",
        "s = StringIO(\"\"\"1, 2, 3, 4, 5\n",
        "              6,  ,  , 7, 8\n",
        "            ,  , 9,10,11\"\"\")\n",
        "\n",
        "x = np.genfromtxt(s, delimiter = \",\", dtype = \"i1\")\n",
        "x"
      ]
    },
    {
      "cell_type": "markdown",
      "metadata": {
        "id": "8k3mULVJRoki"
      },
      "source": [
        "#### 55. What is the equivalent of enumerate for numpy arrays? (★★☆) \n",
        "(**hint**: np.ndenumerate, np.ndindex)"
      ]
    },
    {
      "cell_type": "code",
      "execution_count": null,
      "metadata": {
        "id": "VpsOcVb3Roki",
        "colab": {
          "base_uri": "https://localhost:8080/"
        },
        "outputId": "ff1a267c-6d1f-4290-cbfc-369847863b03"
      },
      "outputs": [
        {
          "output_type": "stream",
          "name": "stdout",
          "text": [
            "(0, 0) 0\n",
            "(0, 1) 1\n",
            "(0, 2) 2\n",
            "(1, 0) 3\n",
            "(1, 1) 4\n",
            "(1, 2) 5\n",
            "(2, 0) 6\n",
            "(2, 1) 7\n",
            "(2, 2) 8\n",
            "*********************************\n",
            "(0, 0) 0\n",
            "(0, 1) 1\n",
            "(0, 2) 2\n",
            "(1, 0) 3\n",
            "(1, 1) 4\n",
            "(1, 2) 5\n",
            "(2, 0) 6\n",
            "(2, 1) 7\n",
            "(2, 2) 8\n"
          ]
        }
      ],
      "source": [
        "x = np.arange(9).reshape(3, 3)\n",
        "for index, value in np.ndenumerate(x):\n",
        "  print(index, value)\n",
        "\n",
        "print(\"*********************************\")\n",
        "\n",
        "for index in np.ndindex(x.shape):\n",
        "  print(index, x[index])"
      ]
    },
    {
      "cell_type": "markdown",
      "metadata": {
        "id": "nBOX2Q4yRoki"
      },
      "source": [
        "#### 56. Generate a generic 2D Gaussian-like array (★★☆) \n",
        "(**hint**: np.meshgrid, np.exp)"
      ]
    },
    {
      "cell_type": "code",
      "execution_count": null,
      "metadata": {
        "id": "PTbJoSG4Rokj",
        "colab": {
          "base_uri": "https://localhost:8080/"
        },
        "outputId": "85bc7967-3151-498f-9598-feb77f5d729b"
      },
      "outputs": [
        {
          "output_type": "execute_result",
          "data": {
            "text/plain": [
              "array([[0.36787944, 0.44822088, 0.51979489, 0.57375342, 0.60279818,\n",
              "        0.60279818, 0.57375342, 0.51979489, 0.44822088, 0.36787944],\n",
              "       [0.44822088, 0.54610814, 0.63331324, 0.69905581, 0.73444367,\n",
              "        0.73444367, 0.69905581, 0.63331324, 0.54610814, 0.44822088],\n",
              "       [0.51979489, 0.63331324, 0.73444367, 0.81068432, 0.85172308,\n",
              "        0.85172308, 0.81068432, 0.73444367, 0.63331324, 0.51979489],\n",
              "       [0.57375342, 0.69905581, 0.81068432, 0.89483932, 0.9401382 ,\n",
              "        0.9401382 , 0.89483932, 0.81068432, 0.69905581, 0.57375342],\n",
              "       [0.60279818, 0.73444367, 0.85172308, 0.9401382 , 0.98773022,\n",
              "        0.98773022, 0.9401382 , 0.85172308, 0.73444367, 0.60279818],\n",
              "       [0.60279818, 0.73444367, 0.85172308, 0.9401382 , 0.98773022,\n",
              "        0.98773022, 0.9401382 , 0.85172308, 0.73444367, 0.60279818],\n",
              "       [0.57375342, 0.69905581, 0.81068432, 0.89483932, 0.9401382 ,\n",
              "        0.9401382 , 0.89483932, 0.81068432, 0.69905581, 0.57375342],\n",
              "       [0.51979489, 0.63331324, 0.73444367, 0.81068432, 0.85172308,\n",
              "        0.85172308, 0.81068432, 0.73444367, 0.63331324, 0.51979489],\n",
              "       [0.44822088, 0.54610814, 0.63331324, 0.69905581, 0.73444367,\n",
              "        0.73444367, 0.69905581, 0.63331324, 0.54610814, 0.44822088],\n",
              "       [0.36787944, 0.44822088, 0.51979489, 0.57375342, 0.60279818,\n",
              "        0.60279818, 0.57375342, 0.51979489, 0.44822088, 0.36787944]])"
            ]
          },
          "metadata": {},
          "execution_count": 127
        }
      ],
      "source": [
        "x, y = np.meshgrid(np.linspace(-1, 1, 10), np.linspace(-1, 1, 10))\n",
        "\n",
        "a = np.sqrt(x*x + y*y)\n",
        "sigma, mu = 1, 0\n",
        "b = np.exp(-((a- 0)**2/(2*sigma**2)))\n",
        "b"
      ]
    },
    {
      "cell_type": "markdown",
      "metadata": {
        "id": "ahmVA8GJRokj"
      },
      "source": [
        "#### 57. How to randomly place p elements in a 2D array? (★★☆) \n",
        "(**hint**: np.put, np.random.choice)"
      ]
    },
    {
      "cell_type": "code",
      "execution_count": null,
      "metadata": {
        "id": "tCOtsU75Rokj",
        "colab": {
          "base_uri": "https://localhost:8080/"
        },
        "outputId": "04404114-f455-4680-ef02-7fa8c2339976"
      },
      "outputs": [
        {
          "output_type": "stream",
          "name": "stdout",
          "text": [
            "[[0. 0. 0. 0. 0. 0. 0. 0. 0. 0.]\n",
            " [0. 0. 0. 0. 0. 0. 0. 0. 0. 0.]\n",
            " [0. 0. 0. 0. 0. 0. 0. 0. 0. 0.]\n",
            " [0. 0. 0. 0. 0. 0. 0. 0. 0. 0.]\n",
            " [0. 0. 0. 0. 0. 0. 0. 0. 0. 0.]\n",
            " [0. 0. 0. 0. 0. 0. 0. 0. 0. 0.]\n",
            " [0. 0. 0. 0. 0. 0. 0. 0. 0. 0.]\n",
            " [0. 0. 0. 0. 0. 0. 0. 0. 0. 0.]\n",
            " [0. 0. 0. 0. 0. 0. 0. 0. 0. 0.]\n",
            " [0. 0. 0. 0. 0. 0. 0. 0. 0. 0.]]\n",
            "[[0. 0. 1. 0. 0. 0. 0. 0. 0. 0.]\n",
            " [0. 0. 0. 0. 0. 1. 0. 0. 0. 0.]\n",
            " [0. 0. 0. 0. 0. 0. 0. 0. 1. 0.]\n",
            " [0. 0. 0. 0. 1. 0. 0. 0. 0. 0.]\n",
            " [0. 1. 0. 0. 0. 0. 0. 0. 0. 0.]\n",
            " [0. 0. 0. 0. 0. 0. 0. 0. 0. 0.]\n",
            " [0. 0. 0. 1. 0. 0. 0. 0. 0. 0.]\n",
            " [0. 0. 0. 0. 0. 0. 0. 0. 1. 1.]\n",
            " [0. 0. 0. 0. 0. 0. 0. 0. 0. 0.]\n",
            " [0. 1. 0. 0. 0. 0. 0. 1. 0. 0.]]\n"
          ]
        }
      ],
      "source": [
        "n = 10\n",
        "x = np.zeros((n, n))\n",
        "print(x)\n",
        "p = 10\n",
        "np.put(x, np.random.choice(range(n*n), p, replace=False),1)\n",
        "print(x)"
      ]
    },
    {
      "cell_type": "markdown",
      "metadata": {
        "id": "x4RG1SGERokk"
      },
      "source": [
        "#### 58. Subtract the mean of each row of a matrix (★★☆) \n",
        "(**hint**: mean(axis=,keepdims=))"
      ]
    },
    {
      "cell_type": "code",
      "execution_count": null,
      "metadata": {
        "id": "QnzE_veaRokk",
        "colab": {
          "base_uri": "https://localhost:8080/"
        },
        "outputId": "aee60361-df4a-4762-e49e-8ae3e90f5e8b"
      },
      "outputs": [
        {
          "output_type": "stream",
          "name": "stdout",
          "text": [
            "[[0.76490457 0.2864219  0.17223402]\n",
            " [0.88764579 0.35352884 0.75922044]\n",
            " [0.22483815 0.05692609 0.20401959]]\n"
          ]
        },
        {
          "output_type": "execute_result",
          "data": {
            "text/plain": [
              "array([[ 0.35705107, -0.1214316 , -0.23561948],\n",
              "       [ 0.22084743, -0.31326952,  0.09242208],\n",
              "       [ 0.06291021, -0.10500186,  0.04209165]])"
            ]
          },
          "metadata": {},
          "execution_count": 139
        }
      ],
      "source": [
        "x = np.random.rand(3, 3)\n",
        "print(x)\n",
        "y = x - x.mean(axis = 1, keepdims= True)\n",
        "y"
      ]
    },
    {
      "cell_type": "markdown",
      "metadata": {
        "id": "Tokhm5FGRokl"
      },
      "source": [
        "#### 59. How to sort an array by the nth column? (★★☆) \n",
        "(**hint**: argsort)"
      ]
    },
    {
      "cell_type": "code",
      "execution_count": null,
      "metadata": {
        "id": "Ov_p_84QRokl",
        "colab": {
          "base_uri": "https://localhost:8080/"
        },
        "outputId": "f313acfb-2dd4-4fba-c324-30661c8cc9f5"
      },
      "outputs": [
        {
          "output_type": "stream",
          "name": "stdout",
          "text": [
            "[[26 38 47  9]\n",
            " [36 25 23 25]\n",
            " [39 24 40 24]\n",
            " [14 38 27 39]\n",
            " [ 4  8 44 36]]\n",
            "*********************************\n",
            "[[26 38 47  9]\n",
            " [39 24 40 24]\n",
            " [36 25 23 25]\n",
            " [ 4  8 44 36]\n",
            " [14 38 27 39]]\n"
          ]
        }
      ],
      "source": [
        "x = np.random.randint(1, 50, 20).reshape(5, 4)\n",
        "print(x)\n",
        "print(\"*********************************\")\n",
        "print(x[x[:, 3].argsort()])"
      ]
    },
    {
      "cell_type": "markdown",
      "metadata": {
        "id": "vt6lpny8Rokl"
      },
      "source": [
        "#### 60. How to tell if a given 2D array has null columns? (★★☆) \n",
        "(**hint**: any, ~)"
      ]
    },
    {
      "cell_type": "code",
      "execution_count": null,
      "metadata": {
        "id": "xX1p_Jw9Rokm",
        "colab": {
          "base_uri": "https://localhost:8080/"
        },
        "outputId": "453f6136-7a8b-4125-c390-5b0eb7578175"
      },
      "outputs": [
        {
          "output_type": "stream",
          "name": "stdout",
          "text": [
            "[[13  2 11]\n",
            " [ 8  3  4]\n",
            " [12  7  8]]\n",
            "False\n"
          ]
        }
      ],
      "source": [
        "x = np.random.randint(1, 20, (3, 3))\n",
        "print(x)\n",
        "print((~x.any(axis = 1)).any())"
      ]
    },
    {
      "cell_type": "markdown",
      "metadata": {
        "id": "oC7GQXjlRokm"
      },
      "source": [
        "#### 61. Find the nearest value from a given value in an array (★★☆) \n",
        "(**hint**: np.abs, argmin, flat)"
      ]
    },
    {
      "cell_type": "code",
      "execution_count": null,
      "metadata": {
        "id": "NgIBojXyRokn",
        "colab": {
          "base_uri": "https://localhost:8080/"
        },
        "outputId": "033f905b-9593-4e12-b9be-a77df119661d"
      },
      "outputs": [
        {
          "output_type": "stream",
          "name": "stdout",
          "text": [
            "[0.39382911 0.41289134 0.40206163 0.73569597 0.88301506 0.55892838\n",
            " 0.11454849 0.98126248 0.82719019 0.91107144]\n"
          ]
        },
        {
          "output_type": "execute_result",
          "data": {
            "text/plain": [
              "0.3938291073760801"
            ]
          },
          "metadata": {},
          "execution_count": 149
        }
      ],
      "source": [
        "x = np.random.uniform(0, 1, 10)\n",
        "print(x)\n",
        "y = 0.3\n",
        "z = x.flat[np.abs(x-y).argmin()]\n",
        "z"
      ]
    },
    {
      "cell_type": "markdown",
      "metadata": {
        "id": "U470GA5XRokn"
      },
      "source": [
        "#### 62. Considering two arrays with shape (1,3) and (3,1), how to compute their sum using an iterator? (★★☆) \n",
        "(**hint**: np.nditer)"
      ]
    },
    {
      "cell_type": "code",
      "execution_count": null,
      "metadata": {
        "id": "G4qrMDOrRoko",
        "colab": {
          "base_uri": "https://localhost:8080/"
        },
        "outputId": "b1c36bf6-a3be-4a6e-b028-28f008246e22"
      },
      "outputs": [
        {
          "output_type": "stream",
          "name": "stdout",
          "text": [
            "[[0]\n",
            " [1]\n",
            " [2]]\n",
            "[[0 1 2]]\n",
            "<numpy.nditer object at 0x7f8edfe6ecb0>\n",
            "[[ 0 10  9]\n",
            " [11  9 10]\n",
            " [13 16  7]]\n",
            "[[ 0  1  9]\n",
            " [11  9 10]\n",
            " [13 16  7]]\n",
            "[[ 0  1  2]\n",
            " [11  9 10]\n",
            " [13 16  7]]\n",
            "[[ 0  1  2]\n",
            " [ 1  9 10]\n",
            " [13 16  7]]\n",
            "[[ 0  1  2]\n",
            " [ 1  2 10]\n",
            " [13 16  7]]\n",
            "[[ 0  1  2]\n",
            " [ 1  2  3]\n",
            " [13 16  7]]\n",
            "[[ 0  1  2]\n",
            " [ 1  2  3]\n",
            " [ 2 16  7]]\n",
            "[[0 1 2]\n",
            " [1 2 3]\n",
            " [2 3 7]]\n",
            "[[0 1 2]\n",
            " [1 2 3]\n",
            " [2 3 4]]\n"
          ]
        }
      ],
      "source": [
        "x = np.arange(3).reshape(3,1)\n",
        "print(x)\n",
        "y = np.arange(3).reshape(1,3)\n",
        "print(y)\n",
        "z = np.nditer([x,y,None])\n",
        "print(z)\n",
        "for m, n, p in z: \n",
        "  p[...] = m + n\n",
        "  print(z.operands[2])"
      ]
    },
    {
      "cell_type": "markdown",
      "metadata": {
        "id": "q46e_GMaRoko"
      },
      "source": [
        "#### 63. Create an array class that has a name attribute (★★☆) \n",
        "(**hint**: class method)"
      ]
    },
    {
      "cell_type": "code",
      "execution_count": null,
      "metadata": {
        "id": "34RiIRRlRoko",
        "colab": {
          "base_uri": "https://localhost:8080/"
        },
        "outputId": "d43ebf1c-5e38-426b-cbbd-63b1adf5d557"
      },
      "outputs": [
        {
          "output_type": "stream",
          "name": "stdout",
          "text": [
            "guvi\n"
          ]
        }
      ],
      "source": [
        "class NamedArray(np.ndarray):\n",
        "\n",
        "  def __new__(cls, array, name=\"no name\"):\n",
        "    obj = np.asarray(array).view(cls)\n",
        "    obj.name = name\n",
        "    return obj\n",
        "\n",
        "  def __array_finalize__(self, obj):\n",
        "    if obj is None:\n",
        "      return\n",
        "    self.info = getattr(obj, 'name', \"no name\")\n",
        "\n",
        "Z = NamedArray(np.arange(10), \"guvi\")\n",
        "\n",
        "print (Z.name)"
      ]
    },
    {
      "cell_type": "markdown",
      "metadata": {
        "id": "Aum99uKeRokp"
      },
      "source": [
        "#### 64. Consider a given vector, how to add 1 to each element indexed by a second vector (be careful with repeated indices)? (★★★) \n",
        "(**hint**: np.bincount | np.add.at)"
      ]
    },
    {
      "cell_type": "code",
      "execution_count": null,
      "metadata": {
        "id": "pqhwTguKRokp"
      },
      "outputs": [],
      "source": [
        "Z = np.ones(10)\n",
        "I = np.random.randint(0,len(Z),20)\n",
        "Z += np.bincount(I, minlength=len(Z))\n",
        "print(Z)\n"
      ]
    },
    {
      "cell_type": "markdown",
      "metadata": {
        "id": "VQmgTctsRokp"
      },
      "source": [
        "#### 65. How to accumulate elements of a vector (X) to an array (F) based on an index list (I)? (★★★) \n",
        "(**hint**: np.bincount)"
      ]
    },
    {
      "cell_type": "code",
      "execution_count": null,
      "metadata": {
        "id": "p9_kNmD5Rokq",
        "colab": {
          "base_uri": "https://localhost:8080/"
        },
        "outputId": "df73492a-4cc7-4c45-d535-7e5cde7d2c6f"
      },
      "outputs": [
        {
          "output_type": "execute_result",
          "data": {
            "text/plain": [
              "array([ 0., 11., 12., 13., 14., 15., 16., 17., 18., 19., 20.])"
            ]
          },
          "metadata": {},
          "execution_count": 171
        }
      ],
      "source": [
        "x = np.arange(11, 21)\n",
        "y = np.arange(1, 11)\n",
        "z = np.bincount(y, x)\n",
        "z"
      ]
    },
    {
      "cell_type": "markdown",
      "metadata": {
        "id": "BU6w5A36Rokq"
      },
      "source": [
        "#### 66. Considering a (w,h,3) image of (dtype=ubyte), compute the number of unique colors (★★★) \n",
        "(**hint**: np.unique)"
      ]
    },
    {
      "cell_type": "code",
      "execution_count": null,
      "metadata": {
        "id": "sKMcUB3dRokq",
        "colab": {
          "base_uri": "https://localhost:8080/"
        },
        "outputId": "11b4150c-aabb-4fd7-e416-b4b2489c0a31"
      },
      "outputs": [
        {
          "output_type": "stream",
          "name": "stdout",
          "text": [
            "[0 1]\n"
          ]
        }
      ],
      "source": [
        "w,h = 4, 4\n",
        "\n",
        "I = np.random.randint(0,2,(h,w,3)).astype(np.ubyte)\n",
        "\n",
        "F = I[...,0]*2*2 + I[...,1]*2 +I[...,2]\n",
        "\n",
        "n = len(np.unique(F))\n",
        "\n",
        "print(np.unique(I))"
      ]
    },
    {
      "cell_type": "markdown",
      "metadata": {
        "id": "fk-P9_CsRokr"
      },
      "source": [
        "#### 67. Considering a four dimensions array, how to get sum over the last two axis at once? (★★★) \n",
        "(**hint**: sum(axis=(-2,-1)))"
      ]
    },
    {
      "cell_type": "code",
      "execution_count": null,
      "metadata": {
        "id": "kCSzj15dRoks",
        "colab": {
          "base_uri": "https://localhost:8080/"
        },
        "outputId": "7a25143f-6f65-4bf8-c687-ed224c1b713f"
      },
      "outputs": [
        {
          "output_type": "execute_result",
          "data": {
            "text/plain": [
              "array([[ 36, 117, 198],\n",
              "       [279, 360, 441],\n",
              "       [522, 603, 684]])"
            ]
          },
          "metadata": {},
          "execution_count": 176
        }
      ],
      "source": [
        "x = np.arange(81).reshape(3, 3, 3, 3)\n",
        "x.sum(axis = (-2, -1))"
      ]
    },
    {
      "cell_type": "markdown",
      "metadata": {
        "id": "o46lCFERRoku"
      },
      "source": [
        "#### 68. Considering a one-dimensional vector D, how to compute means of subsets of D using a vector S of same size describing subset  indices? (★★★) \n",
        "(**hint**: np.bincount)"
      ]
    },
    {
      "cell_type": "code",
      "execution_count": null,
      "metadata": {
        "id": "z8L1HKS5Rokv",
        "colab": {
          "base_uri": "https://localhost:8080/"
        },
        "outputId": "737d6f76-38e4-48c4-c83e-db0fdbfffde0"
      },
      "outputs": [
        {
          "output_type": "stream",
          "name": "stdout",
          "text": [
            "[0.75030375 0.61523077 0.89912279 0.72343465 0.29288768 0.372198\n",
            " 0.42829331 0.78338142 0.37025033 0.07337079 0.41461581 0.59222612\n",
            " 0.73024081 0.31500447 0.85536481 0.32063152 0.45933473 0.42993483\n",
            " 0.72793778 0.02028357 0.50839057 0.344396   0.72196693 0.54231357\n",
            " 0.88953495 0.83415653 0.86942108 0.79538781 0.57786042 0.03556211\n",
            " 0.14629466 0.05470676 0.81423201 0.97022754 0.64515234 0.52013992\n",
            " 0.63290356 0.59162547 0.39012331 0.26157916 0.84364061 0.81558135\n",
            " 0.34655034 0.23636841 0.79117224 0.07155093 0.67585852 0.52318674\n",
            " 0.8192802  0.43992182 0.51169416 0.89324629 0.53268593 0.84285892\n",
            " 0.5685757  0.28732779 0.20899202 0.05101277 0.36377913 0.08274924\n",
            " 0.38708303 0.4465939  0.55229218 0.93167461 0.89150493 0.99010631\n",
            " 0.69465647 0.90130465 0.39327316 0.23653236 0.26093083 0.07635718\n",
            " 0.60172911 0.46152914 0.66288659 0.36576007 0.17404724 0.76814382\n",
            " 0.67547481 0.15598717 0.11372439 0.98568798 0.19598438 0.00291952\n",
            " 0.29742058 0.62382032 0.87077604 0.71404039 0.93345813 0.53642007\n",
            " 0.80457228 0.9119463  0.29622776 0.77076777 0.216681   0.33903964\n",
            " 0.48267468 0.93495479 0.38568987 0.32587778]\n",
            "[2 8 7 3 3 1 5 2 0 8 8 0 9 3 4 7 4 8 0 8 1 2 4 6 3 0 9 9 7 5 5 4 7 6 0 7 4\n",
            " 3 9 9 5 4 1 2 3 7 3 9 2 3 4 5 8 8 1 9 5 2 8 3 4 5 9 0 0 6 3 6 6 9 9 1 1 6\n",
            " 2 2 6 7 2 7 2 9 6 0 3 3 3 6 1 1 6 8 2 7 0 3 8 8 7 7]\n",
            "[0.57916702 0.49295989 0.46352874 0.54485015 0.55482942 0.42894613\n",
            " 0.61473987 0.51000036 0.51112141 0.53570091]\n"
          ]
        }
      ],
      "source": [
        "x= np.random.uniform(0,1,100)\n",
        "print(x)\n",
        "y = np.random.randint(0,10,100)\n",
        "print(y)\n",
        "x_sums = np.bincount(y, weights=x)\n",
        "\n",
        "x_counts = np.bincount(y)\n",
        "\n",
        "x_means = x_sums / x_counts\n",
        "\n",
        "print(x_means)\n"
      ]
    },
    {
      "cell_type": "markdown",
      "metadata": {
        "id": "HIOhLL59Rokw"
      },
      "source": [
        "#### 69. How to get the diagonal of a dot product? (★★★) \n",
        "(**hint**: np.diag)"
      ]
    },
    {
      "cell_type": "code",
      "execution_count": null,
      "metadata": {
        "id": "P6EZUG9zRokx",
        "colab": {
          "base_uri": "https://localhost:8080/"
        },
        "outputId": "2a4f3c0a-dd51-4ff3-8753-3d83dc06ae1d"
      },
      "outputs": [
        {
          "output_type": "stream",
          "name": "stdout",
          "text": [
            "[[ 8.07575317 61.89695157 76.41354692 51.02728554 68.81039483 69.79237997]\n",
            " [73.19053756 28.52131107 87.73118653 94.76486262 12.46115793 52.01257537]\n",
            " [79.95126231 52.30553874 68.13575021 24.56542914 32.86570012 83.53817951]\n",
            " [ 2.74256697 93.16087948 40.98278567 11.56158275 46.32863568  7.70258463]\n",
            " [24.9419865  35.72110578 12.59690458 16.90016455 35.34589989 15.49345568]\n",
            " [24.18608016 71.85676864 20.18882908 82.82298421  4.23729391 71.37562942]]\n",
            "[[80.72286891 52.39531306 78.05220443 38.30157605 86.93462517 75.89505143]\n",
            " [40.7805238  86.44132535 77.58705372 63.97603072 22.54662333 81.06069801]\n",
            " [90.82161184 49.25605325 94.00617681 57.55101353 16.9665675  13.09338879]\n",
            " [26.75075164 66.61782097 46.14402263 98.99809818 72.29127241 62.68530665]\n",
            " [75.33307924 82.01569222 49.35245303 96.80423949 94.06244457 29.89706852]\n",
            " [86.98325722 29.15128701 83.31128759 84.56430791 11.93910133 40.26378588]]\n"
          ]
        },
        {
          "output_type": "execute_result",
          "data": {
            "text/plain": [
              "array([22735.57527596, 19472.82571222, 26419.01023385, 14704.4555625 ,\n",
              "        7918.87288185, 16117.02369775])"
            ]
          },
          "metadata": {},
          "execution_count": 181
        }
      ],
      "source": [
        "x = np.random.uniform(0, 100, 36).reshape(6, 6)\n",
        "y = np.random.uniform(0, 100, 36).reshape(6, 6)\n",
        "z = np.diag(np.dot(x, y))\n",
        "print(x)\n",
        "print(y)\n",
        "z"
      ]
    },
    {
      "cell_type": "markdown",
      "metadata": {
        "id": "1DKAvRPeRokx"
      },
      "source": [
        "#### 70. Consider the vector \\[1, 2, 3, 4, 5\\], how to build a new vector with 3 consecutive zeros interleaved between each value? (★★★) \n",
        "(**hint**: array\\[::4\\])"
      ]
    },
    {
      "cell_type": "code",
      "execution_count": null,
      "metadata": {
        "id": "vTFgBo1ERoky",
        "colab": {
          "base_uri": "https://localhost:8080/"
        },
        "outputId": "62c9d4a8-b1a4-4f13-ae71-6b23e6b0e929"
      },
      "outputs": [
        {
          "output_type": "stream",
          "name": "stdout",
          "text": [
            "[1 2 3 4 5]\n",
            "[0. 0. 0. 0. 0. 0. 0. 0. 0. 0. 0. 0. 0. 0. 0. 0. 0.]\n",
            "[1. 0. 0. 0. 2. 0. 0. 0. 3. 0. 0. 0. 4. 0. 0. 0. 5.]\n"
          ]
        }
      ],
      "source": [
        "x = np.arange(1, 6)\n",
        "print(x)\n",
        "y = np.zeros(len(x) + (len(x)-1)*3)\n",
        "print(y)\n",
        "y[::3+1] = x\n",
        "print(y)"
      ]
    },
    {
      "cell_type": "markdown",
      "metadata": {
        "id": "RXm1_tAERoky"
      },
      "source": [
        "#### 71. Consider an array of dimension (5,5,3), how to mulitply it by an array with dimensions (5,5)? (★★★) \n",
        "(**hint**: array\\[:, :, None\\])"
      ]
    },
    {
      "cell_type": "code",
      "execution_count": null,
      "metadata": {
        "collapsed": true,
        "id": "jK9MLfThRoky",
        "colab": {
          "base_uri": "https://localhost:8080/"
        },
        "outputId": "1b5a8a74-8bfa-4508-acf3-84b40cacda92"
      },
      "outputs": [
        {
          "output_type": "stream",
          "name": "stdout",
          "text": [
            "[[[   0    0    0]\n",
            "  [   3    4    5]\n",
            "  [  12   14   16]\n",
            "  [  27   30   33]\n",
            "  [  48   52   56]]\n",
            "\n",
            " [[  75   80   85]\n",
            "  [ 108  114  120]\n",
            "  [ 147  154  161]\n",
            "  [ 192  200  208]\n",
            "  [ 243  252  261]]\n",
            "\n",
            " [[ 300  310  320]\n",
            "  [ 363  374  385]\n",
            "  [ 432  444  456]\n",
            "  [ 507  520  533]\n",
            "  [ 588  602  616]]\n",
            "\n",
            " [[ 675  690  705]\n",
            "  [ 768  784  800]\n",
            "  [ 867  884  901]\n",
            "  [ 972  990 1008]\n",
            "  [1083 1102 1121]]\n",
            "\n",
            " [[1200 1220 1240]\n",
            "  [1323 1344 1365]\n",
            "  [1452 1474 1496]\n",
            "  [1587 1610 1633]\n",
            "  [1728 1752 1776]]]\n"
          ]
        }
      ],
      "source": [
        "x = np.arange(75).reshape(5, 5, 3)\n",
        "y = np.arange(25).reshape(5, 5)\n",
        "print(x*y[:, :, None])"
      ]
    },
    {
      "cell_type": "markdown",
      "metadata": {
        "id": "F40GYjzvRokz"
      },
      "source": [
        "#### 72. How to swap two rows of an array? (★★★) \n",
        "(**hint**: array\\[\\[\\]\\] = array\\[\\[\\]\\])"
      ]
    },
    {
      "cell_type": "code",
      "execution_count": null,
      "metadata": {
        "id": "ZV6i8k2URokz",
        "colab": {
          "base_uri": "https://localhost:8080/"
        },
        "outputId": "91f60dc1-24f1-4edb-ab0c-491a1be92f36"
      },
      "outputs": [
        {
          "output_type": "stream",
          "name": "stdout",
          "text": [
            "[[ 0  1  2  3  4]\n",
            " [ 5  6  7  8  9]\n",
            " [10 11 12 13 14]\n",
            " [15 16 17 18 19]\n",
            " [20 21 22 23 24]]\n",
            "[[ 5  6  7  8  9]\n",
            " [ 0  1  2  3  4]\n",
            " [10 11 12 13 14]\n",
            " [15 16 17 18 19]\n",
            " [20 21 22 23 24]]\n"
          ]
        }
      ],
      "source": [
        "x = np.arange(25).reshape(5, 5)\n",
        "print(x)\n",
        "print(\"************************************\")\n",
        "x[[0, 1]] = x[[1, 0]]\n",
        "print(x)"
      ]
    },
    {
      "cell_type": "markdown",
      "metadata": {
        "id": "iwiywHwrRok0"
      },
      "source": [
        "#### 73. Consider a set of 10 triplets describing 10 triangles (with shared vertices), find the set of unique line segments composing all the  triangles (★★★) \n",
        "(**hint**: repeat, np.roll, np.sort, view, np.unique)"
      ]
    },
    {
      "cell_type": "code",
      "execution_count": null,
      "metadata": {
        "id": "Gg5coNKuRok1",
        "colab": {
          "base_uri": "https://localhost:8080/"
        },
        "outputId": "3080839e-02ad-493c-97ab-ea097c31af17"
      },
      "outputs": [
        {
          "output_type": "stream",
          "name": "stdout",
          "text": [
            "[[86 47  4]\n",
            " [69 51 31]\n",
            " [31 80 25]\n",
            " [74 33 47]\n",
            " [26 80 96]\n",
            " [23 47 92]\n",
            " [55 33 74]\n",
            " [ 4 55 94]\n",
            " [ 1 14 45]\n",
            " [15 48 43]]\n",
            "[( 1, 14) ( 1, 45) ( 4, 47) ( 4, 55) ( 4, 86) ( 4, 94) (14, 45) (15, 43)\n",
            " (15, 48) (23, 47) (23, 92) (25, 31) (25, 80) (26, 80) (26, 96) (31, 51)\n",
            " (31, 69) (31, 80) (33, 47) (33, 55) (33, 74) (43, 48) (47, 74) (47, 86)\n",
            " (47, 92) (51, 69) (55, 74) (55, 94) (80, 96)]\n"
          ]
        }
      ],
      "source": [
        "faces = np.random.randint(0,100,(10,3))\n",
        "print(faces)\n",
        "\n",
        "F = np.roll(faces.repeat(2,axis=1),-1,axis=1)\n",
        "\n",
        "F = F.reshape(len(F)*3,2)\n",
        "\n",
        "F = np.sort(F,axis=1)\n",
        "\n",
        "G = F.view( dtype=[('p0',F.dtype),('p1',F.dtype)] )\n",
        "\n",
        "G = np.unique(G)\n",
        "\n",
        "print(G)\n",
        "\n"
      ]
    },
    {
      "cell_type": "markdown",
      "metadata": {
        "id": "7MrCUAKCRok2"
      },
      "source": [
        "#### 74. Given an array C that is a bincount, how to produce an array A such that np.bincount(A) == C? (★★★) \n",
        "(**hint**: np.repeat)"
      ]
    },
    {
      "cell_type": "code",
      "execution_count": null,
      "metadata": {
        "id": "k7T7QGHNRok2",
        "colab": {
          "base_uri": "https://localhost:8080/"
        },
        "outputId": "28638901-207d-438a-ecc7-8ce0c4d29032"
      },
      "outputs": [
        {
          "output_type": "stream",
          "name": "stdout",
          "text": [
            "[1 1 2 3 4 4 6]\n"
          ]
        }
      ],
      "source": [
        "C = np.bincount([1,1,2,3,4,4,6])\n",
        "A = np.repeat(np.arange(len(C)), C)\n",
        "print(A)"
      ]
    },
    {
      "cell_type": "markdown",
      "metadata": {
        "id": "D3DUoOBwRok3"
      },
      "source": [
        "#### 75. How to compute averages using a sliding window over an array? (★★★) \n",
        "(**hint**: np.cumsum)"
      ]
    },
    {
      "cell_type": "code",
      "execution_count": null,
      "metadata": {
        "id": "svEqMeubRok3",
        "colab": {
          "base_uri": "https://localhost:8080/"
        },
        "outputId": "f993a7cd-7648-461f-d014-1edaf6285557"
      },
      "outputs": [
        {
          "output_type": "stream",
          "name": "stdout",
          "text": [
            "[ 1.  2.  3.  4.  5.  6.  7.  8.  9. 10. 11. 12. 13. 14. 15. 16. 17. 18.]\n"
          ]
        }
      ],
      "source": [
        "def moving_average(a, n=3) :\n",
        "  ret = np.cumsum(a, dtype=float)\n",
        "  ret[n:] = ret[n:] - ret[:-n]\n",
        "  return ret[n - 1:] / n\n",
        "\n",
        "Z = np.arange(20)\n",
        "\n",
        "print(moving_average(Z, n=3))"
      ]
    },
    {
      "cell_type": "markdown",
      "metadata": {
        "id": "WIXNCqIpRok3"
      },
      "source": [
        "#### 76. Consider a one-dimensional array Z, build a two-dimensional array whose first row is (Z\\[0\\],Z\\[1\\],Z\\[2\\]) and each subsequent row is  shifted by 1 (last row should be (Z\\[-3\\],Z\\[-2\\],Z\\[-1\\]) (★★★) \n",
        "(**hint**: from numpy.lib import stride_tricks)"
      ]
    },
    {
      "cell_type": "code",
      "execution_count": null,
      "metadata": {
        "id": "FGDnucT_Rok4",
        "colab": {
          "base_uri": "https://localhost:8080/"
        },
        "outputId": "626d4526-4d09-41e6-efe3-d97a1b563540"
      },
      "outputs": [
        {
          "output_type": "stream",
          "name": "stdout",
          "text": [
            "[[0 1 2]\n",
            " [1 2 3]\n",
            " [2 3 4]\n",
            " [3 4 5]\n",
            " [4 5 6]\n",
            " [5 6 7]\n",
            " [6 7 8]\n",
            " [7 8 9]]\n"
          ]
        }
      ],
      "source": [
        "from numpy.lib import stride_tricks\n",
        "\n",
        "def rolling(a, window):\n",
        "  shape = (a.size - window + 1, window)\n",
        "  strides = (a.itemsize, a.itemsize)\n",
        "  return stride_tricks.as_strided(a, shape=shape, strides=strides)\n",
        "\n",
        "Z = rolling(np.arange(10), 3)\n",
        "\n",
        "print(Z)"
      ]
    },
    {
      "cell_type": "markdown",
      "metadata": {
        "id": "Yb-re27CRok4"
      },
      "source": [
        "#### 77. How to negate a boolean, or to change the sign of a float inplace? (★★★) \n",
        "(**hint**: np.logical_not, np.negative)"
      ]
    },
    {
      "cell_type": "code",
      "execution_count": null,
      "metadata": {
        "id": "Hwq-RzJcRok4",
        "colab": {
          "base_uri": "https://localhost:8080/"
        },
        "outputId": "59ef9d7c-5c88-406b-bcea-d6d854bebb0b"
      },
      "outputs": [
        {
          "output_type": "stream",
          "name": "stdout",
          "text": [
            "[1 0 0 1 1 0 0 1 0 1 1 0 1 1 0 0 1 0 0 1 0 0 0 0 1 0 1 0 0 0 0 1 0 0 0 1 0\n",
            " 1 1 0 0 1 0 0 1 1 0 0 0 1 0 1 1 1 0 1 0 1 1 0 0 0 1 1 1 1 1 0 0 0 0 0 0 1\n",
            " 1 1 1 1 1 1 0 0 0 1 1 1 1 1 1 1 0 0 1 1 1 0 1 0 1 1]\n",
            "[0 1 1 0 0 1 1 0 1 0 0 1 0 0 1 1 0 1 1 0 1 1 1 1 0 1 0 1 1 1 1 0 1 1 1 0 1\n",
            " 0 0 1 1 0 1 1 0 0 1 1 1 0 1 0 0 0 1 0 1 0 0 1 1 1 0 0 0 0 0 1 1 1 1 1 1 0\n",
            " 0 0 0 0 0 0 1 1 1 0 0 0 0 0 0 0 1 1 0 0 0 1 0 1 0 0]\n",
            "[ 0.65522031  0.01687269  0.41211272 -0.46889619 -0.46952616  0.13187244\n",
            " -0.63362309  0.76699556 -0.99286611  0.80954865 -0.5846117  -0.16131706\n",
            "  0.25849969  0.23029617  0.71232779 -0.65239123 -0.82723142 -0.95541675\n",
            " -0.82430361 -0.18637024  0.95899865 -0.52121461  0.50847741  0.71682899\n",
            " -0.31442338 -0.96899341  0.68121903  0.14009567 -0.61370067 -0.34457701\n",
            " -0.03808993  0.18980824 -0.64563004 -0.28960825  0.71779182  0.71418364\n",
            " -0.81765395  0.59208486 -0.51471698 -0.61757525  0.86625279 -0.26367541\n",
            "  0.99588208 -0.15099119 -0.60600818  0.36867938  0.53979872  0.42195321\n",
            "  0.29277559 -0.83349489  0.59572559  0.03227731  0.85682426  0.07661448\n",
            "  0.91650121 -0.84330137 -0.72545227 -0.40742518 -0.56294446  0.92260985\n",
            "  0.56460651  0.36501787  0.22281375 -0.19354096 -0.28398801 -0.51944295\n",
            "  0.30559572 -0.90742345 -0.96383811  0.04276449 -0.63615255 -0.12576856\n",
            "  0.71099889  0.24868831 -0.79762799  0.42834859 -0.52616102  0.60506323\n",
            "  0.64718452 -0.33223805  0.72661998  0.22477417 -0.91577614 -0.64271381\n",
            "  0.85446249 -0.9598633   0.89459495 -0.06776505  0.74918845  0.49809205\n",
            "  0.07162798 -0.82404854  0.09055875 -0.81743356  0.49584717  0.36114901\n",
            " -0.98934969 -0.59366793  0.65102814 -0.78506086]\n"
          ]
        },
        {
          "output_type": "execute_result",
          "data": {
            "text/plain": [
              "array([-0.65522031, -0.01687269, -0.41211272,  0.46889619,  0.46952616,\n",
              "       -0.13187244,  0.63362309, -0.76699556,  0.99286611, -0.80954865,\n",
              "        0.5846117 ,  0.16131706, -0.25849969, -0.23029617, -0.71232779,\n",
              "        0.65239123,  0.82723142,  0.95541675,  0.82430361,  0.18637024,\n",
              "       -0.95899865,  0.52121461, -0.50847741, -0.71682899,  0.31442338,\n",
              "        0.96899341, -0.68121903, -0.14009567,  0.61370067,  0.34457701,\n",
              "        0.03808993, -0.18980824,  0.64563004,  0.28960825, -0.71779182,\n",
              "       -0.71418364,  0.81765395, -0.59208486,  0.51471698,  0.61757525,\n",
              "       -0.86625279,  0.26367541, -0.99588208,  0.15099119,  0.60600818,\n",
              "       -0.36867938, -0.53979872, -0.42195321, -0.29277559,  0.83349489,\n",
              "       -0.59572559, -0.03227731, -0.85682426, -0.07661448, -0.91650121,\n",
              "        0.84330137,  0.72545227,  0.40742518,  0.56294446, -0.92260985,\n",
              "       -0.56460651, -0.36501787, -0.22281375,  0.19354096,  0.28398801,\n",
              "        0.51944295, -0.30559572,  0.90742345,  0.96383811, -0.04276449,\n",
              "        0.63615255,  0.12576856, -0.71099889, -0.24868831,  0.79762799,\n",
              "       -0.42834859,  0.52616102, -0.60506323, -0.64718452,  0.33223805,\n",
              "       -0.72661998, -0.22477417,  0.91577614,  0.64271381, -0.85446249,\n",
              "        0.9598633 , -0.89459495,  0.06776505, -0.74918845, -0.49809205,\n",
              "       -0.07162798,  0.82404854, -0.09055875,  0.81743356, -0.49584717,\n",
              "       -0.36114901,  0.98934969,  0.59366793, -0.65102814,  0.78506086])"
            ]
          },
          "metadata": {},
          "execution_count": 197
        }
      ],
      "source": [
        "Z = np.random.randint(0,2,100)\n",
        "print(Z)\n",
        "np.logical_not(Z, out=Z)\n",
        "print(Z)\n",
        "Z = np.random.uniform(-1.0,1.0,100)\n",
        "print(Z)\n",
        "\n",
        "np.negative(Z, out=Z)"
      ]
    },
    {
      "cell_type": "markdown",
      "metadata": {
        "id": "7wqz7vLARok5"
      },
      "source": [
        "#### 78. Consider 2 sets of points P0,P1 describing lines (2d) and a point p, how to compute distance from p to each line i  (P0\\[i\\],P1\\[i\\])? (★★★)"
      ]
    },
    {
      "cell_type": "code",
      "execution_count": null,
      "metadata": {
        "id": "kpQSAPrkRok5"
      },
      "outputs": [],
      "source": [
        "def distance(P0, P1, p):\n",
        "\n",
        "  T = P1 - P0\n",
        "  L = (T**2).sum(axis=1)\n",
        "  U = -((P0[:,0]-p[...,0])*T[:,0] + (P0[:,1]-p[...,1])*T[:,1]) / L\n",
        "  U = U.reshape(len(U),1)\n",
        "  D = P0 + U*T - p\n",
        "  return np.sqrt((D**2).sum(axis=1))\n",
        "\n",
        "P0 = np.random.uniform(-10,10,(10,2))\n",
        "print(P0)\n",
        "P1 = np.random.uniform(-10,10,(10,2))\n",
        "print(P1)\n",
        "p = np.random.uniform(-10,10,( 1,2))\n",
        "print(p)\n",
        "print(distance(P0, P1, p))\n",
        "\n"
      ]
    },
    {
      "cell_type": "markdown",
      "metadata": {
        "id": "2QafgAymRok5"
      },
      "source": [
        "#### 79. Consider 2 sets of points P0,P1 describing lines (2d) and a set of points P, how to compute distance from each point j (P\\[j\\]) to each line i (P0\\[i\\],P1\\[i\\])? (★★★)"
      ]
    },
    {
      "cell_type": "code",
      "execution_count": null,
      "metadata": {
        "id": "pIc_1lOURok6",
        "colab": {
          "base_uri": "https://localhost:8080/"
        },
        "outputId": "3d93e9c1-06b9-4d58-852e-61625de542b3"
      },
      "outputs": [
        {
          "output_type": "stream",
          "name": "stdout",
          "text": [
            "[[18.72675289 10.74264308  8.70472796  0.5489031  11.36479687  6.40429284\n",
            "   3.29159511 14.53251464  3.44778565 12.29461994]\n",
            " [10.0911284   1.63490068  3.64250417  0.36803003 11.54643348  1.81319083\n",
            "   5.85350016  5.68040038  3.73700212  3.51033504]\n",
            " [17.58472626 13.11626419  4.06416135  6.98960539  4.99241223  4.57279163\n",
            "   3.50575857 13.84648127  8.41540494 11.45476997]\n",
            " [ 0.93510243  4.62597016  8.77892539  8.30607084  2.18186844 13.4229031\n",
            "  15.39447307  4.89517437  4.03235631  7.22286098]\n",
            " [ 0.16715325  1.66859418 13.82854293 17.83493626  7.01568391 13.44224611\n",
            "  12.18536733  3.07019053  5.37258729  5.64002006]\n",
            " [ 0.63054656  3.16746875  7.64722375  8.11883404  2.49349716 11.89294438\n",
            "  13.81314063  3.31638106  3.04852288  5.64759627]\n",
            " [ 7.39674938  7.68724524  7.80791445 15.65692562  4.29641416  6.22838369\n",
            "   5.16828659  4.1231008   8.73108964  1.56956033]\n",
            " [ 1.09665643  2.41361347 13.02251928 17.50210557  6.61459627 12.50877245\n",
            "  11.29464285  2.14925491  5.75676539  4.71568018]\n",
            " [ 6.7292139   5.38126311  6.42131164 12.64817517  1.41862447  6.53015323\n",
            "   6.51255201  3.22185889  5.52624205  0.74644327]\n",
            " [11.85112524 10.84999941  3.49297808 13.3145373   1.64578073  1.67015252\n",
            "   1.06188744  8.48122161  9.8981303   5.96253609]]\n"
          ]
        }
      ],
      "source": [
        "def distance(P0, P1, p):\n",
        "\n",
        "  T = P1 - P0\n",
        "  L = (T**2).sum(axis=1)\n",
        "  U = -((P0[:,0]-p[...,0])*T[:,0] + (P0[:,1]-p[...,1])*T[:,1]) / L\n",
        "  U = U.reshape(len(U),1)\n",
        "  D = P0 + U*T - p\n",
        "  return np.sqrt((D**2).sum(axis=1))\n",
        "\n",
        "P0 = np.random.uniform(-10, 10, (10,2))\n",
        "\n",
        "P1 = np.random.uniform(-10,10,(10,2))\n",
        "\n",
        "p = np.random.uniform(-10, 10, (10,2))\n",
        "\n",
        "print(np.array([distance(P0,P1,p_i) for p_i in p]))"
      ]
    },
    {
      "cell_type": "markdown",
      "metadata": {
        "id": "eItN8cZhRok7"
      },
      "source": [
        "#### 80. Consider an arbitrary array, write a function that extract a subpart with a fixed shape and centered on a given element (pad with a `fill` value when necessary) (★★★) \n",
        "(**hint**: minimum, maximum)"
      ]
    },
    {
      "cell_type": "code",
      "execution_count": null,
      "metadata": {
        "id": "4eMkRoAlRok7",
        "colab": {
          "base_uri": "https://localhost:8080/"
        },
        "outputId": "3b7fffd3-6d2f-410b-a536-28849d14e5ee"
      },
      "outputs": [
        {
          "output_type": "stream",
          "name": "stdout",
          "text": [
            "[[5 6 9 1 7 5 5 5 9 4]\n",
            " [0 7 9 4 7 2 3 2 3 6]\n",
            " [9 9 8 7 6 3 0 5 0 8]\n",
            " [1 7 0 3 7 5 5 6 5 1]\n",
            " [8 8 9 5 0 7 6 0 6 4]\n",
            " [5 4 1 9 3 3 7 3 6 9]\n",
            " [2 6 5 7 1 3 2 3 2 0]\n",
            " [1 0 2 2 8 4 0 8 3 5]\n",
            " [4 8 0 2 3 8 3 5 0 0]\n",
            " [3 3 2 4 5 5 2 4 6 3]]\n",
            "[[0 0 0 0 0]\n",
            " [0 5 6 9 1]\n",
            " [0 0 7 9 4]\n",
            " [0 9 9 8 7]\n",
            " [0 1 7 0 3]]\n"
          ]
        },
        {
          "output_type": "stream",
          "name": "stderr",
          "text": [
            "<ipython-input-200-0a16cdf0f6a6>:37: FutureWarning: Using a non-tuple sequence for multidimensional indexing is deprecated; use `arr[tuple(seq)]` instead of `arr[seq]`. In the future this will be interpreted as an array index, `arr[np.array(seq)]`, which will result either in an error or a different result.\n",
            "  R[r] = Z[z]\n"
          ]
        }
      ],
      "source": [
        "Z = np.random.randint(0,10,(10,10))\n",
        "\n",
        "shape = (5,5)\n",
        "\n",
        "fill = 0\n",
        "\n",
        "position = (1,1)\n",
        "\n",
        "R = np.ones(shape, dtype=Z.dtype)*fill\n",
        "\n",
        "P = np.array(list(position)).astype(int)\n",
        "\n",
        "Rs = np.array(list(R.shape)).astype(int)\n",
        "\n",
        "Zs = np.array(list(Z.shape)).astype(int)\n",
        "\n",
        "R_start = np.zeros((len(shape),)).astype(int)\n",
        "\n",
        "R_stop = np.array(list(shape)).astype(int)\n",
        "\n",
        "Z_start = (P-Rs//2)\n",
        "\n",
        "Z_stop = (P+Rs//2)+Rs%2\n",
        "\n",
        "R_start = (R_start - np.minimum(Z_start,0)).tolist()\n",
        "\n",
        "Z_start = (np.maximum(Z_start,0)).tolist()\n",
        "\n",
        "R_stop = np.maximum(R_start, (R_stop - np.maximum(Z_stop-Zs,0))).tolist()\n",
        "\n",
        "Z_stop = (np.minimum(Z_stop,Zs)).tolist()\n",
        "\n",
        "r = [slice(start,stop) for start,stop in zip(R_start,R_stop)]\n",
        "\n",
        "z = [slice(start,stop) for start,stop in zip(Z_start,Z_stop)]\n",
        "\n",
        "R[r] = Z[z]\n",
        "\n",
        "print(Z)\n",
        "\n",
        "print(R)"
      ]
    },
    {
      "cell_type": "markdown",
      "metadata": {
        "id": "PzJ-abWmRok7"
      },
      "source": [
        "#### 81. Consider an array Z = \\[1,2,3,4,5,6,7,8,9,10,11,12,13,14\\], how to generate an array R = \\[\\[1,2,3,4\\], \\[2,3,4,5\\], \\[3,4,5,6\\], ..., \\[11,12,13,14\\]\\]? (★★★) \n",
        "(**hint**: stride\\_tricks.as\\_strided)"
      ]
    },
    {
      "cell_type": "code",
      "execution_count": null,
      "metadata": {
        "id": "PqxdiMgRRok8",
        "colab": {
          "base_uri": "https://localhost:8080/"
        },
        "outputId": "ca62ea1a-748e-4b13-f714-18d91fbca162"
      },
      "outputs": [
        {
          "output_type": "stream",
          "name": "stdout",
          "text": [
            "[[ 1  2  3  4]\n",
            " [ 2  3  4  5]\n",
            " [ 3  4  5  6]\n",
            " [ 4  5  6  7]\n",
            " [ 5  6  7  8]\n",
            " [ 6  7  8  9]\n",
            " [ 7  8  9 10]\n",
            " [ 8  9 10 11]\n",
            " [ 9 10 11 12]\n",
            " [10 11 12 13]\n",
            " [11 12 13 14]]\n",
            "***********************************\n",
            "[[ 1  2  3  4]\n",
            " [ 2  3  4  5]\n",
            " [ 3  4  5  6]\n",
            " [ 4  5  6  7]\n",
            " [ 5  6  7  8]\n",
            " [ 6  7  8  9]\n",
            " [ 7  8  9 10]\n",
            " [ 8  9 10 11]\n",
            " [ 9 10 11 12]\n",
            " [10 11 12 13]\n",
            " [11 12 13 14]]\n"
          ]
        }
      ],
      "source": [
        "z = np.array([1,2,3,4,5,6,7,8,9,10,11,12,13,14])\n",
        "a = rolling(z, 4)\n",
        "print(a)\n",
        "\n",
        "#or \n",
        "print(\"***********************************\")\n",
        "\n",
        "x = np.array([1,2,3,4,5,6,7,8,9,10,11,12,13,14],dtype=np.uint32)\n",
        "\n",
        "R = stride_tricks.as_strided(x,(11, 4),(4,4))\n",
        "\n",
        "print(R)"
      ]
    },
    {
      "cell_type": "markdown",
      "metadata": {
        "id": "NAcxhYkgRok8"
      },
      "source": [
        "#### 82. Compute a matrix rank (★★★) \n",
        "(**hint**: np.linalg.svd) (suggestion: np.linalg.svd)"
      ]
    },
    {
      "cell_type": "code",
      "execution_count": null,
      "metadata": {
        "id": "VRFKJpIuRok9",
        "colab": {
          "base_uri": "https://localhost:8080/"
        },
        "outputId": "06281598-9a18-442f-ea76-7a6c547eb648"
      },
      "outputs": [
        {
          "output_type": "stream",
          "name": "stdout",
          "text": [
            "5\n",
            "[[3.90383766 1.15660351 0.89049921 0.66915951 0.47214909]]\n"
          ]
        }
      ],
      "source": [
        "x = np.random.uniform(0,1,(1, 5, 10))\n",
        "U, S, V = np.linalg.svd(x)\n",
        "rank = np.sum(S > 1e-10)\n",
        "#print(x)\n",
        "print(rank)\n",
        "print(S)"
      ]
    },
    {
      "cell_type": "markdown",
      "metadata": {
        "id": "3Q1RFu-uRok9"
      },
      "source": [
        "#### 83. How to find the most frequent value in an array? \n",
        "(**hint**: np.bincount, argmax)"
      ]
    },
    {
      "cell_type": "code",
      "execution_count": null,
      "metadata": {
        "id": "z-PklH9ARok-",
        "colab": {
          "base_uri": "https://localhost:8080/"
        },
        "outputId": "bcda5ad3-bbe7-433b-c875-cc2adba11384"
      },
      "outputs": [
        {
          "output_type": "stream",
          "name": "stdout",
          "text": [
            "24\n"
          ]
        }
      ],
      "source": [
        "x = np.random.randint(1, 100, 30)\n",
        "print(np.bincount(x).argmax())"
      ]
    },
    {
      "cell_type": "markdown",
      "metadata": {
        "id": "Yeq55PZvRok-"
      },
      "source": [
        "#### 84. Extract all the contiguous 3x3 blocks from a random 10x10 matrix (★★★) \n",
        "(**hint**: stride\\_tricks.as\\_strided)"
      ]
    },
    {
      "cell_type": "code",
      "execution_count": null,
      "metadata": {
        "id": "5HWhepa2Rok-"
      },
      "outputs": [],
      "source": [
        "x = np.random.randint(1, 100,(10, 10))\n",
        "n = 3\n",
        "i = 1 + (x.shape[0]-3)\n",
        "j = 1 + (x.shape[1]-3)\n",
        "C = stride_tricks.as_strided(Z, shape=(i, j, n, n), strides=x.strides + x.strides)\n",
        "\n",
        "print(C)"
      ]
    },
    {
      "cell_type": "markdown",
      "metadata": {
        "id": "Wmc4Kpi7Rok-"
      },
      "source": [
        "#### 85. Create a 2D array subclass such that Z\\[i,j\\] == Z\\[j,i\\] (★★★) \n",
        "(**hint**: class method)"
      ]
    },
    {
      "cell_type": "code",
      "execution_count": null,
      "metadata": {
        "id": "0AL535rFRok_",
        "colab": {
          "base_uri": "https://localhost:8080/"
        },
        "outputId": "47caec8d-1707-4650-b32a-edd4eae3e85a"
      },
      "outputs": [
        {
          "output_type": "stream",
          "name": "stdout",
          "text": [
            "[[ 1  9  3  8 15]\n",
            " [ 9  8  6  5  8]\n",
            " [ 3  6  4 42  7]\n",
            " [ 8  5 42  1  5]\n",
            " [15  8  7  5  9]]\n"
          ]
        }
      ],
      "source": [
        "class Symetric(np.ndarray):\n",
        "  def __setitem__(self, index, value):\n",
        "    i,j = index\n",
        "    super(Symetric, self).__setitem__((i,j), value)\n",
        "    super(Symetric, self).__setitem__((j,i), value)\n",
        "\n",
        "def symetric(Z):\n",
        "  return np.asarray(Z + Z.T - np.diag(Z.diagonal())).view(Symetric)\n",
        "\n",
        "S = symetric(np.random.randint(0,10,(5,5)))\n",
        "\n",
        "S[2,3] = 42\n",
        "\n",
        "print(S)"
      ]
    },
    {
      "cell_type": "markdown",
      "metadata": {
        "id": "Jp7x-hreRok_"
      },
      "source": [
        "#### 86. Consider a set of p matrices wich shape (n,n) and a set of p vectors with shape (n,1). How to compute the sum of of the p matrix products at once? (result has shape (n,1)) (★★★) \n",
        "(**hint**: np.tensordot)"
      ]
    },
    {
      "cell_type": "code",
      "execution_count": null,
      "metadata": {
        "id": "QJqBZplORok_",
        "colab": {
          "base_uri": "https://localhost:8080/"
        },
        "outputId": "cd1a44c1-2db0-475a-b98b-d7104920b6bf"
      },
      "outputs": [
        {
          "output_type": "stream",
          "name": "stdout",
          "text": [
            "[[200.]\n",
            " [200.]\n",
            " [200.]\n",
            " [200.]\n",
            " [200.]\n",
            " [200.]\n",
            " [200.]\n",
            " [200.]\n",
            " [200.]\n",
            " [200.]\n",
            " [200.]\n",
            " [200.]\n",
            " [200.]\n",
            " [200.]\n",
            " [200.]\n",
            " [200.]\n",
            " [200.]\n",
            " [200.]\n",
            " [200.]\n",
            " [200.]]\n"
          ]
        }
      ],
      "source": [
        "p, n = 10, 20\n",
        "\n",
        "M = np.ones((p,n,n))\n",
        "\n",
        "V = np.ones((p,n,1))\n",
        "\n",
        "S = np.tensordot(M, V, axes=[[0, 2], [0, 1]])\n",
        "\n",
        "print(S)\n",
        "\n"
      ]
    },
    {
      "cell_type": "markdown",
      "metadata": {
        "id": "576Z79thRok_"
      },
      "source": [
        "#### 87. Consider a 16x16 array, how to get the block-sum (block size is 4x4)? (★★★) \n",
        "(**hint**: np.add.reduceat)"
      ]
    },
    {
      "cell_type": "code",
      "execution_count": null,
      "metadata": {
        "id": "j8JIwl3gRolA",
        "colab": {
          "base_uri": "https://localhost:8080/"
        },
        "outputId": "7fae989e-88c1-4fc2-8d07-5a23bbb43a8e"
      },
      "outputs": [
        {
          "output_type": "stream",
          "name": "stdout",
          "text": [
            "[[16. 16. 16. 16.]\n",
            " [16. 16. 16. 16.]\n",
            " [16. 16. 16. 16.]\n",
            " [16. 16. 16. 16.]]\n"
          ]
        }
      ],
      "source": [
        "x = np.ones((16,16))\n",
        "k = 4\n",
        "S = np.add.reduceat(np.add.reduceat(x, np.arange(0, x.shape[0], k), axis=0),\n",
        "np.arange(0, x.shape[1], k), axis=1)\n",
        "\n",
        "print(S)"
      ]
    },
    {
      "cell_type": "markdown",
      "metadata": {
        "id": "SkqGl7Q0RolA"
      },
      "source": [
        "#### 88. How to implement the Game of Life using numpy arrays? (★★★)"
      ]
    },
    {
      "cell_type": "code",
      "execution_count": null,
      "metadata": {
        "id": "bHpRPNcuRolB",
        "colab": {
          "base_uri": "https://localhost:8080/"
        },
        "outputId": "ca971614-02a0-4c59-f7d4-6a5f144d6a4e"
      },
      "outputs": [
        {
          "output_type": "stream",
          "name": "stdout",
          "text": [
            "[[0 0 0 ... 0 0 0]\n",
            " [0 0 0 ... 0 0 0]\n",
            " [0 0 0 ... 0 0 0]\n",
            " ...\n",
            " [0 0 0 ... 0 0 0]\n",
            " [0 0 0 ... 0 0 0]\n",
            " [0 0 0 ... 0 0 0]]\n"
          ]
        }
      ],
      "source": [
        "def iterate(Z):\n",
        "  N = (Z[0:-2,0:-2] + Z[0:-2,1:-1] + Z[0:-2,2:] +\n",
        "  Z[1:-1,0:-2] + Z[1:-1,2:] +\n",
        "  Z[2: ,0:-2] + Z[2: ,1:-1] + Z[2: ,2:])\n",
        "\n",
        "# Apply rules\n",
        "\n",
        "  birth = (N==3) & (Z[1:-1,1:-1]==0)\n",
        "\n",
        "  survive = ((N==2) | (N==3)) & (Z[1:-1,1:-1]==1)\n",
        "\n",
        "  Z[...] = 0\n",
        "\n",
        "  Z[1:-1,1:-1][birth | survive] = 1\n",
        "\n",
        "  return Z\n",
        "\n",
        "Z = np.random.randint(0,2,(50,50))\n",
        "\n",
        "for i in range(100):\n",
        "  Z = iterate(Z)\n",
        "print(Z)"
      ]
    },
    {
      "cell_type": "markdown",
      "metadata": {
        "id": "ok6kXDMKRolB"
      },
      "source": [
        "#### 89. How to get the n largest values of an array (★★★) \n",
        "(**hint**: np.argsort | np.argpartition)"
      ]
    },
    {
      "cell_type": "code",
      "execution_count": null,
      "metadata": {
        "id": "55s0WYflRolC",
        "colab": {
          "base_uri": "https://localhost:8080/"
        },
        "outputId": "69ebd6fe-ea96-433d-8619-33f3585be9c8"
      },
      "outputs": [
        {
          "output_type": "stream",
          "name": "stdout",
          "text": [
            "[9999]\n",
            "[9998 9999]\n",
            "[9997 9998 9999]\n",
            "[9996 9997 9998 9999]\n",
            "[9995 9996 9997 9998 9999]\n",
            "[9994 9995 9996 9997 9998 9999]\n",
            "[9993 9994 9995 9996 9997 9998 9999]\n",
            "[9992 9993 9994 9995 9996 9997 9998 9999]\n",
            "[9991 9992 9993 9994 9995 9996 9997 9998 9999]\n",
            "[9990 9991 9992 9993 9994 9995 9996 9997 9998 9999]\n"
          ]
        }
      ],
      "source": [
        "Z = np.arange(10000)\n",
        "\n",
        "np.random.shuffle(Z)\n",
        "\n",
        "y = np.arange(1, 11)\n",
        "for n in y:\n",
        "  print (Z[np.argsort(Z)[-n:]])"
      ]
    },
    {
      "cell_type": "markdown",
      "metadata": {
        "id": "_VBreAvFRolC"
      },
      "source": [
        "#### 90. Given an arbitrary number of vectors, build the cartesian product (every combinations of every item) (★★★) \n",
        "(**hint**: np.indices)"
      ]
    },
    {
      "cell_type": "code",
      "execution_count": null,
      "metadata": {
        "scrolled": true,
        "id": "oQOrbYdDRolC",
        "colab": {
          "base_uri": "https://localhost:8080/"
        },
        "outputId": "8108871d-9770-4f7b-b2e5-fed524258203"
      },
      "outputs": [
        {
          "output_type": "stream",
          "name": "stdout",
          "text": [
            "[[1 0 0]\n",
            " [1 0 1]\n",
            " [1 1 0]\n",
            " [1 1 1]\n",
            " [2 0 0]\n",
            " [2 0 1]\n",
            " [2 1 0]\n",
            " [2 1 1]\n",
            " [3 0 0]\n",
            " [3 0 1]\n",
            " [3 1 0]\n",
            " [3 1 1]]\n"
          ]
        }
      ],
      "source": [
        "def cartesian(arrays):\n",
        "  arrays = [np.asarray(a) for a in arrays]\n",
        "  shape = (len(x) for x in arrays)\n",
        "  ix = np.indices(shape, dtype=int)\n",
        "  ix = ix.reshape(len(arrays), -1).T\n",
        "  for n, arr in enumerate(arrays):\n",
        "    ix[:, n] = arrays[n][ix[:, n]]\n",
        "    return ix\n",
        "\n",
        "print (cartesian(([1, 2, 3], [4, 5], [6, 7])))"
      ]
    },
    {
      "cell_type": "markdown",
      "metadata": {
        "id": "2bEqChZCRolC"
      },
      "source": [
        "#### 91. How to create a record array from a regular array? (★★★) \n",
        "(**hint**: np.core.records.fromarrays)"
      ]
    },
    {
      "cell_type": "code",
      "execution_count": null,
      "metadata": {
        "id": "tjkLnNonRolD",
        "colab": {
          "base_uri": "https://localhost:8080/"
        },
        "outputId": "4dd0593c-8c95-4533-9aa7-e60f1f0637e4"
      },
      "outputs": [
        {
          "output_type": "stream",
          "name": "stdout",
          "text": [
            "[(b'Tamizh', 18.5, 23) (b'arasan', 13.6, 24)]\n"
          ]
        }
      ],
      "source": [
        "Z = np.array([(\"Tamizh\", 18.5, 23),(\"arasan\", 13.6, 24)])\n",
        "\n",
        "R = np.core.records.fromarrays(Z.T,names='col1, col2, col3',formats = 'a8, f4, i2')\n",
        "\n",
        "print(R)"
      ]
    },
    {
      "cell_type": "markdown",
      "metadata": {
        "id": "moERQzm6RolD"
      },
      "source": [
        "#### 92. Consider a large vector Z, compute Z to the power of 3 using 3 different methods (★★★) \n",
        "(**hint**: np.power, \\*, np.einsum)"
      ]
    },
    {
      "cell_type": "code",
      "execution_count": null,
      "metadata": {
        "id": "V0iDsii4RolD",
        "colab": {
          "base_uri": "https://localhost:8080/"
        },
        "outputId": "2847cad8-c28b-4d05-b777-57ef3d6f0f4b"
      },
      "outputs": [
        {
          "output_type": "stream",
          "name": "stdout",
          "text": [
            "1.91 µs ± 643 ns per loop (mean ± std. dev. of 7 runs, 100000 loops each)\n",
            "149 ns ± 2 ns per loop (mean ± std. dev. of 7 runs, 10000000 loops each)\n"
          ]
        }
      ],
      "source": [
        "x = np.random.randint(5e7)\n",
        "#x.astype(int)\n",
        "%timeit np.power(x,3)\n",
        "%timeit x*x*x\n",
        "%timeit np.einsum('i,i,i->i',x,x,x)"
      ]
    },
    {
      "cell_type": "markdown",
      "metadata": {
        "id": "f_MpfNriRolE"
      },
      "source": [
        "#### 93. Consider two arrays A and B of shape (8,3) and (2,2). How to find rows of A that contain elements of each row of B regardless of the order of the elements in B? (★★★) \n",
        "(**hint**: np.where)"
      ]
    },
    {
      "cell_type": "code",
      "execution_count": null,
      "metadata": {
        "id": "NVKjcYB5RolE",
        "colab": {
          "base_uri": "https://localhost:8080/"
        },
        "outputId": "2cab2a82-7377-45c7-834e-73547e1a5225"
      },
      "outputs": [
        {
          "output_type": "stream",
          "name": "stdout",
          "text": [
            "[1 2 4 7]\n"
          ]
        }
      ],
      "source": [
        "A = np.random.randint(0,5,(8,3))\n",
        "B = np.random.randint(0,5,(2,2))\n",
        "\n",
        "C = (A[..., np.newaxis, np.newaxis] == B)\n",
        "rows = (C.sum(axis=(1,2,3)) >= B.shape[1]).nonzero()[0]\n",
        "print(rows)"
      ]
    },
    {
      "cell_type": "markdown",
      "metadata": {
        "id": "L8NMVlvPRolE"
      },
      "source": [
        "#### 94. Considering a 10x3 matrix, extract rows with unequal values (e.g. \\[2,2,3\\]) (★★★)"
      ]
    },
    {
      "cell_type": "code",
      "execution_count": null,
      "metadata": {
        "id": "RKGbmNF7RolE",
        "colab": {
          "base_uri": "https://localhost:8080/"
        },
        "outputId": "fe7b4f62-93fa-496a-901c-59215fa468ba"
      },
      "outputs": [
        {
          "output_type": "stream",
          "name": "stdout",
          "text": [
            "[[18 10 24]\n",
            " [ 7  8 16]\n",
            " [ 2 27 22]\n",
            " [ 2 29 25]\n",
            " [ 6 20 10]\n",
            " [28  2 25]\n",
            " [13 28 13]\n",
            " [16 18 25]\n",
            " [26 26  7]\n",
            " [12 20 24]]\n",
            "*****************************************\n",
            "[[18 10 24]\n",
            " [ 7  8 16]\n",
            " [ 2 27 22]\n",
            " [ 2 29 25]\n",
            " [ 6 20 10]\n",
            " [28  2 25]\n",
            " [13 28 13]\n",
            " [16 18 25]\n",
            " [26 26  7]\n",
            " [12 20 24]]\n"
          ]
        }
      ],
      "source": [
        "Z = np.random.randint(0,30,(10,3))\n",
        "E = np.logical_and.reduce(Z[:,1:] == Z[:,:-1], axis=1)\n",
        "U = Z[~E]\n",
        "print(Z)\n",
        "print(\"*****************************************\")\n",
        "print(U)"
      ]
    },
    {
      "cell_type": "markdown",
      "metadata": {
        "id": "5VGWz6CARolF"
      },
      "source": [
        "#### 95. Convert a vector of ints into a matrix binary representation (★★★) \n",
        "(**hint**: np.unpackbits)"
      ]
    },
    {
      "cell_type": "code",
      "execution_count": null,
      "metadata": {
        "id": "kbULtWXMRolF",
        "colab": {
          "base_uri": "https://localhost:8080/"
        },
        "outputId": "59fea0ff-4517-4eed-ea0b-af93aafb2214"
      },
      "outputs": [
        {
          "output_type": "stream",
          "name": "stdout",
          "text": [
            "[[0 0 0 0 0 0 0 0]\n",
            " [0 0 0 0 0 0 0 1]\n",
            " [0 0 0 0 0 0 1 0]\n",
            " [0 0 0 0 0 0 1 1]\n",
            " [0 0 0 0 1 1 1 1]\n",
            " [0 0 0 1 0 0 0 0]\n",
            " [0 0 1 0 0 0 0 0]\n",
            " [0 1 0 0 0 0 0 0]\n",
            " [1 0 0 0 0 0 0 0]]\n"
          ]
        }
      ],
      "source": [
        "x = np.array([0, 1, 2, 3, 15, 16, 32, 64, 128], dtype=np.uint8)\n",
        "\n",
        "print(np.unpackbits(x[:, np.newaxis], axis=1))"
      ]
    },
    {
      "cell_type": "markdown",
      "metadata": {
        "id": "fCvfPwzaRolF"
      },
      "source": [
        "#### 96. Given a two dimensional array, how to extract unique rows? (★★★) \n",
        "(**hint**: np.ascontiguousarray)"
      ]
    },
    {
      "cell_type": "code",
      "source": [
        "Z = np.random.randint(0,2,(6,3))\n",
        "T = np.ascontiguousarray(Z).view(np.dtype((np.void, Z.dtype.itemsize * Z.shape[1])))\n",
        "_, idx = np.unique(T, return_index=True)\n",
        "uZ = Z[idx]\n",
        "\n",
        "print(uZ)"
      ],
      "metadata": {
        "colab": {
          "base_uri": "https://localhost:8080/"
        },
        "id": "DP68A6oXkgPX",
        "outputId": "7f0cf150-2a31-43da-85b8-14586342704b"
      },
      "execution_count": null,
      "outputs": [
        {
          "output_type": "stream",
          "name": "stdout",
          "text": [
            "[[0 0 0]\n",
            " [0 1 0]\n",
            " [1 0 0]\n",
            " [1 1 1]]\n"
          ]
        }
      ]
    },
    {
      "cell_type": "markdown",
      "metadata": {
        "id": "BsmLEwCARolG"
      },
      "source": [
        "#### 97. Considering 2 vectors A & B, write the einsum equivalent of inner, outer, sum, and mul function (★★★) \n",
        "(**hint**: np.einsum)"
      ]
    },
    {
      "cell_type": "code",
      "execution_count": null,
      "metadata": {
        "id": "riDmVsfBRolG",
        "colab": {
          "base_uri": "https://localhost:8080/"
        },
        "outputId": "63b91e2b-d368-4ee3-d2d5-8435f9bcc599"
      },
      "outputs": [
        {
          "output_type": "stream",
          "name": "stdout",
          "text": [
            "[0 1 2]\n"
          ]
        },
        {
          "output_type": "execute_result",
          "data": {
            "text/plain": [
              "array([[0, 0, 0],\n",
              "       [0, 1, 2],\n",
              "       [0, 2, 4]])"
            ]
          },
          "metadata": {},
          "execution_count": 279
        }
      ],
      "source": [
        "A= np.arange(3)\n",
        "B =  np.arange(3)\n",
        "print (A)\n",
        "np.einsum('i->', A)       # np.sum(A)\n",
        "np.einsum('i,j->i', A, B) # A * B\n",
        "np.einsum('i,i', A, B)    # np.inner(A, B)\n",
        "np.einsum('...i,j', A, B)    # np.outer(A, B)"
      ]
    },
    {
      "cell_type": "markdown",
      "metadata": {
        "id": "iNg84sSkRolG"
      },
      "source": [
        "#### 98. Considering a path described by two vectors (X,Y), how to sample it using equidistant samples (★★★)? \n",
        "(**hint**: np.cumsum, np.interp)"
      ]
    },
    {
      "cell_type": "code",
      "execution_count": null,
      "metadata": {
        "collapsed": true,
        "id": "CRXDFz93RolH"
      },
      "outputs": [],
      "source": [
        "phi = np.arange(0, 10*np.pi, 0.1)\n",
        "\n",
        "a = 1\n",
        "\n",
        "x = a*phi*np.cos(phi)\n",
        "\n",
        "y = a*phi*np.sin(phi)\n",
        "\n",
        "dr = (np.diff(x)**2 + np.diff(y)**2)**.5 # segment lengths\n",
        "\n",
        "r = np.zeros_like(x)\n",
        "\n",
        "r[1:] = np.cumsum(dr) # integrate path\n",
        "\n",
        "r_int = np.linspace(0, r.max(), 200) # regular spaced path\n",
        "\n",
        "x_int = np.interp(r_int, r, x) # integrate path\n",
        "\n",
        "y_int = np.interp(r_int, r, y)\n",
        "\n"
      ]
    },
    {
      "cell_type": "markdown",
      "metadata": {
        "id": "KbWTSCE7RolH"
      },
      "source": [
        "#### 99. Given an integer n and a 2D array X, select from X the rows which can be interpreted as draws from a multinomial distribution with n degrees, i.e., the rows which only contain integers and which sum to n. (★★★) \n",
        "(**hint**: np.logical\\_and.reduce, np.mod)"
      ]
    },
    {
      "cell_type": "code",
      "execution_count": null,
      "metadata": {
        "id": "4HRv2sWSRolH",
        "colab": {
          "base_uri": "https://localhost:8080/"
        },
        "outputId": "a8e40e21-ca95-4cb7-e026-49812420f377"
      },
      "outputs": [
        {
          "output_type": "stream",
          "name": "stdout",
          "text": [
            "[[2. 0. 1. 1.]]\n"
          ]
        }
      ],
      "source": [
        "X = np.asarray([[1.0, 0.0, 3.0, 8.0],\n",
        "\n",
        "[2.0, 0.0, 1.0, 1.0],\n",
        "\n",
        "[1.5, 2.5, 1.0, 0.0]])\n",
        "\n",
        "n = 4\n",
        "\n",
        "M = np.logical_and.reduce(np.mod(X, 1) == 0, axis=-1)\n",
        "\n",
        "M &= (X.sum(axis=-1) == n)\n",
        "\n",
        "print(X[M])"
      ]
    },
    {
      "cell_type": "markdown",
      "metadata": {
        "id": "CKxfwh94RolI"
      },
      "source": [
        "#### 100. Compute bootstrapped 95% confidence intervals for the mean of a 1D array X (i.e., resample the elements of an array with replacement N times, compute the mean of each sample, and then compute percentiles over the means). (★★★) \n",
        "(**hint**: np.percentile)"
      ]
    },
    {
      "cell_type": "code",
      "execution_count": null,
      "metadata": {
        "id": "6uuFwfGrRolI",
        "colab": {
          "base_uri": "https://localhost:8080/"
        },
        "outputId": "b2a0bd01-cdd8-42f6-e80d-692ef8cd1043"
      },
      "outputs": [
        {
          "output_type": "stream",
          "name": "stdout",
          "text": [
            "[-0.23187269  0.14037387]\n"
          ]
        }
      ],
      "source": [
        "X = np.random.randn(100) # random 1D array\n",
        "\n",
        "N = 1000 # number of bootstrap samples\n",
        "\n",
        "idx = np.random.randint(0, X.size, (N, X.size))\n",
        "\n",
        "means = X[idx].mean(axis=1)\n",
        "\n",
        "confint = np.percentile(means, [2.5, 97.5])\n",
        "\n",
        "print(confint)"
      ]
    }
  ],
  "metadata": {
    "kernelspec": {
      "display_name": "Python 3",
      "language": "python",
      "name": "python3"
    },
    "language_info": {
      "codemirror_mode": {
        "name": "ipython",
        "version": 3
      },
      "file_extension": ".py",
      "mimetype": "text/x-python",
      "name": "python",
      "nbconvert_exporter": "python",
      "pygments_lexer": "ipython3",
      "version": "3.8.3"
    },
    "colab": {
      "provenance": [],
      "include_colab_link": true
    }
  },
  "nbformat": 4,
  "nbformat_minor": 0
}